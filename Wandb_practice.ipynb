{
  "nbformat": 4,
  "nbformat_minor": 0,
  "metadata": {
    "colab": {
      "name": "Wandb_practice.ipynb",
      "provenance": [],
      "collapsed_sections": [],
      "authorship_tag": "ABX9TyNeFRWD7z8xov6zA3wXeyRD",
      "include_colab_link": true
    },
    "kernelspec": {
      "name": "python3",
      "display_name": "Python 3"
    },
    "language_info": {
      "name": "python"
    }
  },
  "cells": [
    {
      "cell_type": "markdown",
      "metadata": {
        "id": "view-in-github",
        "colab_type": "text"
      },
      "source": [
        "<a href=\"https://colab.research.google.com/github/Jee-9/Study/blob/main/Wandb_practice.ipynb\" target=\"_parent\"><img src=\"https://colab.research.google.com/assets/colab-badge.svg\" alt=\"Open In Colab\"/></a>"
      ]
    },
    {
      "cell_type": "code",
      "metadata": {
        "colab": {
          "base_uri": "https://localhost:8080/"
        },
        "id": "iO3fIcH8hS8x",
        "outputId": "0c66c5bb-9bb4-4979-dfe9-0a2e9d294ba1"
      },
      "source": [
        "!pip install wandb -q"
      ],
      "execution_count": null,
      "outputs": [
        {
          "output_type": "stream",
          "name": "stdout",
          "text": [
            "\u001b[?25l\r\u001b[K     |▏                               | 10 kB 24.4 MB/s eta 0:00:01\r\u001b[K     |▍                               | 20 kB 30.6 MB/s eta 0:00:01\r\u001b[K     |▋                               | 30 kB 31.3 MB/s eta 0:00:01\r\u001b[K     |▉                               | 40 kB 32.0 MB/s eta 0:00:01\r\u001b[K     |█                               | 51 kB 33.1 MB/s eta 0:00:01\r\u001b[K     |█▏                              | 61 kB 34.6 MB/s eta 0:00:01\r\u001b[K     |█▍                              | 71 kB 30.5 MB/s eta 0:00:01\r\u001b[K     |█▋                              | 81 kB 32.0 MB/s eta 0:00:01\r\u001b[K     |█▉                              | 92 kB 32.7 MB/s eta 0:00:01\r\u001b[K     |██                              | 102 kB 33.3 MB/s eta 0:00:01\r\u001b[K     |██▏                             | 112 kB 33.3 MB/s eta 0:00:01\r\u001b[K     |██▍                             | 122 kB 33.3 MB/s eta 0:00:01\r\u001b[K     |██▋                             | 133 kB 33.3 MB/s eta 0:00:01\r\u001b[K     |██▊                             | 143 kB 33.3 MB/s eta 0:00:01\r\u001b[K     |███                             | 153 kB 33.3 MB/s eta 0:00:01\r\u001b[K     |███▏                            | 163 kB 33.3 MB/s eta 0:00:01\r\u001b[K     |███▍                            | 174 kB 33.3 MB/s eta 0:00:01\r\u001b[K     |███▋                            | 184 kB 33.3 MB/s eta 0:00:01\r\u001b[K     |███▊                            | 194 kB 33.3 MB/s eta 0:00:01\r\u001b[K     |████                            | 204 kB 33.3 MB/s eta 0:00:01\r\u001b[K     |████▏                           | 215 kB 33.3 MB/s eta 0:00:01\r\u001b[K     |████▍                           | 225 kB 33.3 MB/s eta 0:00:01\r\u001b[K     |████▌                           | 235 kB 33.3 MB/s eta 0:00:01\r\u001b[K     |████▊                           | 245 kB 33.3 MB/s eta 0:00:01\r\u001b[K     |█████                           | 256 kB 33.3 MB/s eta 0:00:01\r\u001b[K     |█████▏                          | 266 kB 33.3 MB/s eta 0:00:01\r\u001b[K     |█████▍                          | 276 kB 33.3 MB/s eta 0:00:01\r\u001b[K     |█████▌                          | 286 kB 33.3 MB/s eta 0:00:01\r\u001b[K     |█████▊                          | 296 kB 33.3 MB/s eta 0:00:01\r\u001b[K     |██████                          | 307 kB 33.3 MB/s eta 0:00:01\r\u001b[K     |██████▏                         | 317 kB 33.3 MB/s eta 0:00:01\r\u001b[K     |██████▎                         | 327 kB 33.3 MB/s eta 0:00:01\r\u001b[K     |██████▌                         | 337 kB 33.3 MB/s eta 0:00:01\r\u001b[K     |██████▊                         | 348 kB 33.3 MB/s eta 0:00:01\r\u001b[K     |███████                         | 358 kB 33.3 MB/s eta 0:00:01\r\u001b[K     |███████▏                        | 368 kB 33.3 MB/s eta 0:00:01\r\u001b[K     |███████▎                        | 378 kB 33.3 MB/s eta 0:00:01\r\u001b[K     |███████▌                        | 389 kB 33.3 MB/s eta 0:00:01\r\u001b[K     |███████▊                        | 399 kB 33.3 MB/s eta 0:00:01\r\u001b[K     |████████                        | 409 kB 33.3 MB/s eta 0:00:01\r\u001b[K     |████████                        | 419 kB 33.3 MB/s eta 0:00:01\r\u001b[K     |████████▎                       | 430 kB 33.3 MB/s eta 0:00:01\r\u001b[K     |████████▌                       | 440 kB 33.3 MB/s eta 0:00:01\r\u001b[K     |████████▊                       | 450 kB 33.3 MB/s eta 0:00:01\r\u001b[K     |█████████                       | 460 kB 33.3 MB/s eta 0:00:01\r\u001b[K     |█████████                       | 471 kB 33.3 MB/s eta 0:00:01\r\u001b[K     |█████████▎                      | 481 kB 33.3 MB/s eta 0:00:01\r\u001b[K     |█████████▌                      | 491 kB 33.3 MB/s eta 0:00:01\r\u001b[K     |█████████▊                      | 501 kB 33.3 MB/s eta 0:00:01\r\u001b[K     |█████████▉                      | 512 kB 33.3 MB/s eta 0:00:01\r\u001b[K     |██████████                      | 522 kB 33.3 MB/s eta 0:00:01\r\u001b[K     |██████████▎                     | 532 kB 33.3 MB/s eta 0:00:01\r\u001b[K     |██████████▌                     | 542 kB 33.3 MB/s eta 0:00:01\r\u001b[K     |██████████▊                     | 552 kB 33.3 MB/s eta 0:00:01\r\u001b[K     |██████████▉                     | 563 kB 33.3 MB/s eta 0:00:01\r\u001b[K     |███████████                     | 573 kB 33.3 MB/s eta 0:00:01\r\u001b[K     |███████████▎                    | 583 kB 33.3 MB/s eta 0:00:01\r\u001b[K     |███████████▌                    | 593 kB 33.3 MB/s eta 0:00:01\r\u001b[K     |███████████▋                    | 604 kB 33.3 MB/s eta 0:00:01\r\u001b[K     |███████████▉                    | 614 kB 33.3 MB/s eta 0:00:01\r\u001b[K     |████████████                    | 624 kB 33.3 MB/s eta 0:00:01\r\u001b[K     |████████████▎                   | 634 kB 33.3 MB/s eta 0:00:01\r\u001b[K     |████████████▌                   | 645 kB 33.3 MB/s eta 0:00:01\r\u001b[K     |████████████▋                   | 655 kB 33.3 MB/s eta 0:00:01\r\u001b[K     |████████████▉                   | 665 kB 33.3 MB/s eta 0:00:01\r\u001b[K     |█████████████                   | 675 kB 33.3 MB/s eta 0:00:01\r\u001b[K     |█████████████▎                  | 686 kB 33.3 MB/s eta 0:00:01\r\u001b[K     |█████████████▍                  | 696 kB 33.3 MB/s eta 0:00:01\r\u001b[K     |█████████████▋                  | 706 kB 33.3 MB/s eta 0:00:01\r\u001b[K     |█████████████▉                  | 716 kB 33.3 MB/s eta 0:00:01\r\u001b[K     |██████████████                  | 727 kB 33.3 MB/s eta 0:00:01\r\u001b[K     |██████████████▎                 | 737 kB 33.3 MB/s eta 0:00:01\r\u001b[K     |██████████████▍                 | 747 kB 33.3 MB/s eta 0:00:01\r\u001b[K     |██████████████▋                 | 757 kB 33.3 MB/s eta 0:00:01\r\u001b[K     |██████████████▉                 | 768 kB 33.3 MB/s eta 0:00:01\r\u001b[K     |███████████████                 | 778 kB 33.3 MB/s eta 0:00:01\r\u001b[K     |███████████████▎                | 788 kB 33.3 MB/s eta 0:00:01\r\u001b[K     |███████████████▍                | 798 kB 33.3 MB/s eta 0:00:01\r\u001b[K     |███████████████▋                | 808 kB 33.3 MB/s eta 0:00:01\r\u001b[K     |███████████████▉                | 819 kB 33.3 MB/s eta 0:00:01\r\u001b[K     |████████████████                | 829 kB 33.3 MB/s eta 0:00:01\r\u001b[K     |████████████████▏               | 839 kB 33.3 MB/s eta 0:00:01\r\u001b[K     |████████████████▍               | 849 kB 33.3 MB/s eta 0:00:01\r\u001b[K     |████████████████▋               | 860 kB 33.3 MB/s eta 0:00:01\r\u001b[K     |████████████████▉               | 870 kB 33.3 MB/s eta 0:00:01\r\u001b[K     |█████████████████               | 880 kB 33.3 MB/s eta 0:00:01\r\u001b[K     |█████████████████▏              | 890 kB 33.3 MB/s eta 0:00:01\r\u001b[K     |█████████████████▍              | 901 kB 33.3 MB/s eta 0:00:01\r\u001b[K     |█████████████████▋              | 911 kB 33.3 MB/s eta 0:00:01\r\u001b[K     |█████████████████▉              | 921 kB 33.3 MB/s eta 0:00:01\r\u001b[K     |██████████████████              | 931 kB 33.3 MB/s eta 0:00:01\r\u001b[K     |██████████████████▏             | 942 kB 33.3 MB/s eta 0:00:01\r\u001b[K     |██████████████████▍             | 952 kB 33.3 MB/s eta 0:00:01\r\u001b[K     |██████████████████▋             | 962 kB 33.3 MB/s eta 0:00:01\r\u001b[K     |██████████████████▉             | 972 kB 33.3 MB/s eta 0:00:01\r\u001b[K     |███████████████████             | 983 kB 33.3 MB/s eta 0:00:01\r\u001b[K     |███████████████████▏            | 993 kB 33.3 MB/s eta 0:00:01\r\u001b[K     |███████████████████▍            | 1.0 MB 33.3 MB/s eta 0:00:01\r\u001b[K     |███████████████████▋            | 1.0 MB 33.3 MB/s eta 0:00:01\r\u001b[K     |███████████████████▊            | 1.0 MB 33.3 MB/s eta 0:00:01\r\u001b[K     |████████████████████            | 1.0 MB 33.3 MB/s eta 0:00:01\r\u001b[K     |████████████████████▏           | 1.0 MB 33.3 MB/s eta 0:00:01\r\u001b[K     |████████████████████▍           | 1.1 MB 33.3 MB/s eta 0:00:01\r\u001b[K     |████████████████████▋           | 1.1 MB 33.3 MB/s eta 0:00:01\r\u001b[K     |████████████████████▊           | 1.1 MB 33.3 MB/s eta 0:00:01\r\u001b[K     |█████████████████████           | 1.1 MB 33.3 MB/s eta 0:00:01\r\u001b[K     |█████████████████████▏          | 1.1 MB 33.3 MB/s eta 0:00:01\r\u001b[K     |█████████████████████▍          | 1.1 MB 33.3 MB/s eta 0:00:01\r\u001b[K     |█████████████████████▌          | 1.1 MB 33.3 MB/s eta 0:00:01\r\u001b[K     |█████████████████████▊          | 1.1 MB 33.3 MB/s eta 0:00:01\r\u001b[K     |██████████████████████          | 1.1 MB 33.3 MB/s eta 0:00:01\r\u001b[K     |██████████████████████▏         | 1.1 MB 33.3 MB/s eta 0:00:01\r\u001b[K     |██████████████████████▍         | 1.2 MB 33.3 MB/s eta 0:00:01\r\u001b[K     |██████████████████████▌         | 1.2 MB 33.3 MB/s eta 0:00:01\r\u001b[K     |██████████████████████▊         | 1.2 MB 33.3 MB/s eta 0:00:01\r\u001b[K     |███████████████████████         | 1.2 MB 33.3 MB/s eta 0:00:01\r\u001b[K     |███████████████████████▏        | 1.2 MB 33.3 MB/s eta 0:00:01\r\u001b[K     |███████████████████████▎        | 1.2 MB 33.3 MB/s eta 0:00:01\r\u001b[K     |███████████████████████▌        | 1.2 MB 33.3 MB/s eta 0:00:01\r\u001b[K     |███████████████████████▊        | 1.2 MB 33.3 MB/s eta 0:00:01\r\u001b[K     |████████████████████████        | 1.2 MB 33.3 MB/s eta 0:00:01\r\u001b[K     |████████████████████████▏       | 1.2 MB 33.3 MB/s eta 0:00:01\r\u001b[K     |████████████████████████▎       | 1.3 MB 33.3 MB/s eta 0:00:01\r\u001b[K     |████████████████████████▌       | 1.3 MB 33.3 MB/s eta 0:00:01\r\u001b[K     |████████████████████████▊       | 1.3 MB 33.3 MB/s eta 0:00:01\r\u001b[K     |█████████████████████████       | 1.3 MB 33.3 MB/s eta 0:00:01\r\u001b[K     |█████████████████████████       | 1.3 MB 33.3 MB/s eta 0:00:01\r\u001b[K     |█████████████████████████▎      | 1.3 MB 33.3 MB/s eta 0:00:01\r\u001b[K     |█████████████████████████▌      | 1.3 MB 33.3 MB/s eta 0:00:01\r\u001b[K     |█████████████████████████▊      | 1.3 MB 33.3 MB/s eta 0:00:01\r\u001b[K     |██████████████████████████      | 1.3 MB 33.3 MB/s eta 0:00:01\r\u001b[K     |██████████████████████████      | 1.4 MB 33.3 MB/s eta 0:00:01\r\u001b[K     |██████████████████████████▎     | 1.4 MB 33.3 MB/s eta 0:00:01\r\u001b[K     |██████████████████████████▌     | 1.4 MB 33.3 MB/s eta 0:00:01\r\u001b[K     |██████████████████████████▊     | 1.4 MB 33.3 MB/s eta 0:00:01\r\u001b[K     |██████████████████████████▉     | 1.4 MB 33.3 MB/s eta 0:00:01\r\u001b[K     |███████████████████████████     | 1.4 MB 33.3 MB/s eta 0:00:01\r\u001b[K     |███████████████████████████▎    | 1.4 MB 33.3 MB/s eta 0:00:01\r\u001b[K     |███████████████████████████▌    | 1.4 MB 33.3 MB/s eta 0:00:01\r\u001b[K     |███████████████████████████▊    | 1.4 MB 33.3 MB/s eta 0:00:01\r\u001b[K     |███████████████████████████▉    | 1.4 MB 33.3 MB/s eta 0:00:01\r\u001b[K     |████████████████████████████    | 1.5 MB 33.3 MB/s eta 0:00:01\r\u001b[K     |████████████████████████████▎   | 1.5 MB 33.3 MB/s eta 0:00:01\r\u001b[K     |████████████████████████████▌   | 1.5 MB 33.3 MB/s eta 0:00:01\r\u001b[K     |████████████████████████████▊   | 1.5 MB 33.3 MB/s eta 0:00:01\r\u001b[K     |████████████████████████████▉   | 1.5 MB 33.3 MB/s eta 0:00:01\r\u001b[K     |█████████████████████████████   | 1.5 MB 33.3 MB/s eta 0:00:01\r\u001b[K     |█████████████████████████████▎  | 1.5 MB 33.3 MB/s eta 0:00:01\r\u001b[K     |█████████████████████████████▌  | 1.5 MB 33.3 MB/s eta 0:00:01\r\u001b[K     |█████████████████████████████▋  | 1.5 MB 33.3 MB/s eta 0:00:01\r\u001b[K     |█████████████████████████████▉  | 1.5 MB 33.3 MB/s eta 0:00:01\r\u001b[K     |██████████████████████████████  | 1.6 MB 33.3 MB/s eta 0:00:01\r\u001b[K     |██████████████████████████████▎ | 1.6 MB 33.3 MB/s eta 0:00:01\r\u001b[K     |██████████████████████████████▌ | 1.6 MB 33.3 MB/s eta 0:00:01\r\u001b[K     |██████████████████████████████▋ | 1.6 MB 33.3 MB/s eta 0:00:01\r\u001b[K     |██████████████████████████████▉ | 1.6 MB 33.3 MB/s eta 0:00:01\r\u001b[K     |███████████████████████████████ | 1.6 MB 33.3 MB/s eta 0:00:01\r\u001b[K     |███████████████████████████████▎| 1.6 MB 33.3 MB/s eta 0:00:01\r\u001b[K     |███████████████████████████████▍| 1.6 MB 33.3 MB/s eta 0:00:01\r\u001b[K     |███████████████████████████████▋| 1.6 MB 33.3 MB/s eta 0:00:01\r\u001b[K     |███████████████████████████████▉| 1.6 MB 33.3 MB/s eta 0:00:01\r\u001b[K     |████████████████████████████████| 1.7 MB 33.3 MB/s \n",
            "\u001b[K     |████████████████████████████████| 170 kB 52.9 MB/s \n",
            "\u001b[K     |████████████████████████████████| 133 kB 54.2 MB/s \n",
            "\u001b[K     |████████████████████████████████| 97 kB 6.0 MB/s \n",
            "\u001b[K     |████████████████████████████████| 63 kB 2.1 MB/s \n",
            "\u001b[?25h  Building wheel for subprocess32 (setup.py) ... \u001b[?25l\u001b[?25hdone\n",
            "  Building wheel for pathtools (setup.py) ... \u001b[?25l\u001b[?25hdone\n"
          ]
        }
      ]
    },
    {
      "cell_type": "code",
      "metadata": {
        "colab": {
          "base_uri": "https://localhost:8080/"
        },
        "id": "mgW_unnHhUw7",
        "outputId": "de1e15e6-afed-461e-81c5-43ac9dfa05b9"
      },
      "source": [
        "!wandb login"
      ],
      "execution_count": null,
      "outputs": [
        {
          "output_type": "stream",
          "name": "stdout",
          "text": [
            "\u001b[34m\u001b[1mwandb\u001b[0m: You can find your API key in your browser here: https://wandb.ai/authorize\n",
            "\u001b[34m\u001b[1mwandb\u001b[0m: Paste an API key from your profile and hit enter: \n",
            "\u001b[34m\u001b[1mwandb\u001b[0m: Appending key for api.wandb.ai to your netrc file: /root/.netrc\n"
          ]
        }
      ]
    },
    {
      "cell_type": "code",
      "metadata": {
        "id": "Z_Kc8HG9izs1"
      },
      "source": [
        "import wandb"
      ],
      "execution_count": null,
      "outputs": []
    },
    {
      "cell_type": "code",
      "metadata": {
        "colab": {
          "base_uri": "https://localhost:8080/",
          "height": 599
        },
        "id": "gAJFf_mJi2FF",
        "outputId": "d08183cb-8770-4e2e-ee2b-e18e91e04408"
      },
      "source": [
        "wandb.init(project = 'wandb-tutorial', \n",
        "           config = {\n",
        "               \"layer_1\": 128,\n",
        "               \"layer_1_activation\": 'relu',\n",
        "               \"learning_rate\": 0.01,\n",
        "               \"dropout_rate\": 0.2\n",
        "           })"
      ],
      "execution_count": null,
      "outputs": [
        {
          "output_type": "stream",
          "name": "stderr",
          "text": [
            "\u001b[34m\u001b[1mwandb\u001b[0m: Currently logged in as: \u001b[33mjeeeeeeeee\u001b[0m (use `wandb login --relogin` to force relogin)\n"
          ]
        },
        {
          "output_type": "display_data",
          "data": {
            "text/html": [
              "\n",
              "                Tracking run with wandb version 0.12.1<br/>\n",
              "                Syncing run <strong style=\"color:#cdcd00\">lyric-dream-1</strong> to <a href=\"https://wandb.ai\" target=\"_blank\">Weights & Biases</a> <a href=\"https://docs.wandb.com/integrations/jupyter.html\" target=\"_blank\">(Documentation)</a>.<br/>\n",
              "                Project page: <a href=\"https://wandb.ai/jeeeeeeeee/wandb-tutorial\" target=\"_blank\">https://wandb.ai/jeeeeeeeee/wandb-tutorial</a><br/>\n",
              "                Run page: <a href=\"https://wandb.ai/jeeeeeeeee/wandb-tutorial/runs/1n1ia22a\" target=\"_blank\">https://wandb.ai/jeeeeeeeee/wandb-tutorial/runs/1n1ia22a</a><br/>\n",
              "                Run data is saved locally in <code>/content/wandb/run-20210906_143936-1n1ia22a</code><br/><br/>\n",
              "            "
            ],
            "text/plain": [
              "<IPython.core.display.HTML object>"
            ]
          },
          "metadata": {}
        },
        {
          "output_type": "execute_result",
          "data": {
            "text/plain": [
              "<wandb.sdk.wandb_run.Run at 0x7fb4852d32d0>"
            ],
            "text/html": [
              "<h1>Run(1n1ia22a)</h1><iframe src=\"https://wandb.ai/jeeeeeeeee/wandb-tutorial/runs/1n1ia22a\" style=\"border:none;width:100%;height:400px\"></iframe>"
            ]
          },
          "metadata": {},
          "execution_count": 14
        }
      ]
    },
    {
      "cell_type": "code",
      "metadata": {
        "id": "dvPlLLgPjhlU"
      },
      "source": [
        "config = wandb.config"
      ],
      "execution_count": null,
      "outputs": []
    },
    {
      "cell_type": "code",
      "metadata": {
        "id": "BqQGdDQnjP2k"
      },
      "source": [
        "from wandb.keras import WandbCallback"
      ],
      "execution_count": null,
      "outputs": []
    },
    {
      "cell_type": "code",
      "metadata": {
        "id": "OKHjJndAhWzd"
      },
      "source": [
        "import tensorflow as tf"
      ],
      "execution_count": null,
      "outputs": []
    },
    {
      "cell_type": "code",
      "metadata": {
        "id": "nuydfyhQhjOQ"
      },
      "source": [
        "mnist = tf.keras.datasets.mnist"
      ],
      "execution_count": null,
      "outputs": []
    },
    {
      "cell_type": "code",
      "metadata": {
        "colab": {
          "base_uri": "https://localhost:8080/"
        },
        "id": "8iCiAm25hmjh",
        "outputId": "b336763b-b528-49d8-efd5-8954a12f3fd3"
      },
      "source": [
        "(train_x, train_y), (test_x, test_y) = mnist.load_data()"
      ],
      "execution_count": null,
      "outputs": [
        {
          "output_type": "stream",
          "name": "stdout",
          "text": [
            "Downloading data from https://storage.googleapis.com/tensorflow/tf-keras-datasets/mnist.npz\n",
            "11493376/11490434 [==============================] - 0s 0us/step\n",
            "11501568/11490434 [==============================] - 0s 0us/step\n"
          ]
        }
      ]
    },
    {
      "cell_type": "code",
      "metadata": {
        "id": "qfugI3qzhrVH"
      },
      "source": [
        "train_x, test_x = train_x/255.0 , test_x/255.0"
      ],
      "execution_count": null,
      "outputs": []
    },
    {
      "cell_type": "code",
      "metadata": {
        "id": "u99zuRzqh0dp"
      },
      "source": [
        "model = tf.keras.models.Sequential([\n",
        "                                    tf.keras.layers.Flatten(input_shape=(28, 28)),\n",
        "                                    tf.keras.layers.Dense(config.layer_1, config.layer_1_activation),\n",
        "                                    tf.keras.layers.Dropout(config.dropout_rate),\n",
        "                                    tf.keras.layers.Dense(10, activation='softmax')\n",
        "])"
      ],
      "execution_count": null,
      "outputs": []
    },
    {
      "cell_type": "code",
      "metadata": {
        "id": "jynPpQB_iUdM"
      },
      "source": [
        "model.compile(optimizer=tf.keras.optimizers.Adam(learning_rate = config.learning_rate),\n",
        "              loss = 'sparse_categorical_crossentropy',\n",
        "              metrics = ['accuracy'])"
      ],
      "execution_count": null,
      "outputs": []
    },
    {
      "cell_type": "code",
      "metadata": {
        "colab": {
          "base_uri": "https://localhost:8080/"
        },
        "id": "rSyg8EBfilHf",
        "outputId": "26254bbe-5c0c-449a-b9d7-942522d22011"
      },
      "source": [
        "model.fit(train_x, train_y, epochs = 5, callbacks=[WandbCallback()])"
      ],
      "execution_count": null,
      "outputs": [
        {
          "output_type": "stream",
          "name": "stdout",
          "text": [
            "Epoch 1/5\n",
            "1875/1875 [==============================] - 4s 2ms/step - loss: 0.3210 - accuracy: 0.9051\n",
            "Epoch 2/5\n",
            "1875/1875 [==============================] - 4s 2ms/step - loss: 0.2355 - accuracy: 0.9347\n",
            "Epoch 3/5\n",
            "1875/1875 [==============================] - 4s 2ms/step - loss: 0.2250 - accuracy: 0.9387\n",
            "Epoch 4/5\n",
            "1875/1875 [==============================] - 3s 2ms/step - loss: 0.2174 - accuracy: 0.9420\n",
            "Epoch 5/5\n",
            "1875/1875 [==============================] - 4s 2ms/step - loss: 0.2044 - accuracy: 0.9463\n"
          ]
        },
        {
          "output_type": "execute_result",
          "data": {
            "text/plain": [
              "<keras.callbacks.History at 0x7fb48317dbd0>"
            ]
          },
          "metadata": {},
          "execution_count": 26
        }
      ]
    },
    {
      "cell_type": "code",
      "metadata": {
        "colab": {
          "base_uri": "https://localhost:8080/"
        },
        "id": "Y3NuSIGCigik",
        "outputId": "a732407a-df3c-4a80-9c5c-1e9f870a8931"
      },
      "source": [
        "model.evaluate(test_x, test_y)"
      ],
      "execution_count": null,
      "outputs": [
        {
          "output_type": "stream",
          "name": "stdout",
          "text": [
            "313/313 [==============================] - 0s 1ms/step - loss: 0.0761 - accuracy: 0.9768\n"
          ]
        },
        {
          "output_type": "execute_result",
          "data": {
            "text/plain": [
              "[0.07609197497367859, 0.9768000245094299]"
            ]
          },
          "metadata": {},
          "execution_count": 11
        }
      ]
    },
    {
      "cell_type": "code",
      "metadata": {
        "id": "y7Hk4pGeiiod"
      },
      "source": [
        ""
      ],
      "execution_count": null,
      "outputs": []
    }
  ]
}