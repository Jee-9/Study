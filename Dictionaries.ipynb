{
  "nbformat": 4,
  "nbformat_minor": 0,
  "metadata": {
    "colab": {
      "name": "Dictionaries.ipynb",
      "provenance": [],
      "authorship_tag": "ABX9TyPCkgYFSa3pCOaUMAn+Awkq",
      "include_colab_link": true
    },
    "kernelspec": {
      "name": "python3",
      "display_name": "Python 3"
    },
    "language_info": {
      "name": "python"
    }
  },
  "cells": [
    {
      "cell_type": "markdown",
      "metadata": {
        "id": "view-in-github",
        "colab_type": "text"
      },
      "source": [
        "<a href=\"https://colab.research.google.com/github/Jee-9/Study/blob/main/Dictionaries.ipynb\" target=\"_parent\"><img src=\"https://colab.research.google.com/assets/colab-badge.svg\" alt=\"Open In Colab\"/></a>"
      ]
    },
    {
      "cell_type": "code",
      "source": [
        "x"
      ],
      "metadata": {
        "id": "8Qwy2zqkVPjF"
      },
      "execution_count": null,
      "outputs": []
    },
    {
      "cell_type": "code",
      "execution_count": null,
      "metadata": {
        "colab": {
          "base_uri": "https://localhost:8080/"
        },
        "id": "NbAqF51EN6Jh",
        "outputId": "013911c1-580f-4374-e0da-f8b2a5b1ad3f"
      },
      "outputs": [
        {
          "output_type": "stream",
          "name": "stdout",
          "text": [
            "6\n",
            "Counter({'6': 2, '3': 1, '4': 1, '7': 1, '1': 1})\n"
          ]
        }
      ],
      "source": [
        "import collections\n",
        "\n",
        "ages = [34, 67, 19]\n",
        "\n",
        "\n",
        "dic = {}\n",
        "lis = []\n",
        "def solution(ages):\n",
        "  answer = 0\n",
        "  for age in ages:\n",
        "    for a in str(age):\n",
        "      lis.append(a)\n",
        "\n",
        "  for i, l in enumerate(lis):\n",
        "    if l == '9':\n",
        "      lis[i]= '6'\n",
        "\n",
        "  dic = collections.Counter(lis)\n",
        "  dic\n",
        "  \n",
        "  \n",
        "  dic_max = max(dic, key=dic.get)\n",
        "\n",
        "  if dic_max == '6':\n",
        "\n",
        "\n",
        "  return print(dic)\n",
        "\n",
        "\n",
        "\n",
        "solution(ages)"
      ]
    },
    {
      "cell_type": "code",
      "source": [
        "ages = [3, 4, 6, 7, 7, 9]\n",
        "\n",
        "def get_counts(seq):\n",
        "  counts = {}\n",
        "  \n",
        "  for x in seq:\n",
        "    if x in counts:\n",
        "      counts[x] += 1\n",
        "    elif x not in counts:\n",
        "      counts[x] = 1\n",
        "  return counts\n",
        "\n",
        "print(get_counts(ages))"
      ],
      "metadata": {
        "id": "X-lPAnbcONWY",
        "colab": {
          "base_uri": "https://localhost:8080/"
        },
        "outputId": "3860c707-5636-4284-832f-ef3c4cf85893"
      },
      "execution_count": 4,
      "outputs": [
        {
          "output_type": "stream",
          "name": "stdout",
          "text": [
            "{3: 1, 4: 1, 6: 1, 7: 2, 9: 1}\n"
          ]
        }
      ]
    },
    {
      "cell_type": "code",
      "source": [
        "import collections\n",
        "\n",
        "ages = [3,4,6,7,7,9]\n",
        "\n",
        "dic = collections.Counter(ages)\n",
        "\n",
        "print(dic)"
      ],
      "metadata": {
        "colab": {
          "base_uri": "https://localhost:8080/"
        },
        "id": "Hpc_LtRKjipy",
        "outputId": "9a91b4e0-65aa-4eb5-94e6-ce7993cfec15"
      },
      "execution_count": 6,
      "outputs": [
        {
          "output_type": "stream",
          "name": "stdout",
          "text": [
            "Counter({7: 2, 3: 1, 4: 1, 6: 1, 9: 1})\n"
          ]
        }
      ]
    },
    {
      "cell_type": "code",
      "source": [
        ""
      ],
      "metadata": {
        "id": "e3Mw5WNxj82W"
      },
      "execution_count": null,
      "outputs": []
    }
  ]
}