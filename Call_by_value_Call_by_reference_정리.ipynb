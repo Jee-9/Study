{
  "nbformat": 4,
  "nbformat_minor": 0,
  "metadata": {
    "colab": {
      "name": "Call by value / Call by reference 정리.ipynb",
      "provenance": [],
      "authorship_tag": "ABX9TyM4s/ASqQCuTgLkL733Kq0V",
      "include_colab_link": true
    },
    "kernelspec": {
      "name": "python3",
      "display_name": "Python 3"
    },
    "language_info": {
      "name": "python"
    }
  },
  "cells": [
    {
      "cell_type": "markdown",
      "metadata": {
        "id": "view-in-github",
        "colab_type": "text"
      },
      "source": [
        "<a href=\"https://colab.research.google.com/github/Jeeeeeeeee/Study/blob/main/Call_by_value_Call_by_reference_%EC%A0%95%EB%A6%AC.ipynb\" target=\"_parent\"><img src=\"https://colab.research.google.com/assets/colab-badge.svg\" alt=\"Open In Colab\"/></a>"
      ]
    },
    {
      "cell_type": "markdown",
      "metadata": {
        "id": "tgF0jGd6RC-o"
      },
      "source": [
        "# Call by value\n",
        "### 값에 의한 호출\n",
        "- 인자로 받은 값을 복사하여 처리한다.\n",
        "- 장점: 복사처리가 되기 때문에 원래의 값은 영향을 받지 않아서 안전하다.\n",
        "- 단점: 복사가 되기 때문에 메모리량이 늘어난다. 이는 과부하의 원인이 되기도 한다.\n",
        "\n",
        "# Call by reference\n",
        "### 참조에 의한 호출\n",
        "- 인자로 받은 값의 주소를 참조하여 직접 값에 영향을 준다.\n",
        "- 장점: 복사하지 않고 직접 참조를 하기에 빠르다.\n",
        "- 단점: 직접 참조하여 원래 값이 영향을 받는다."
      ]
    },
    {
      "cell_type": "markdown",
      "metadata": {
        "id": "7Z5AXD92Rctk"
      },
      "source": [
        "# Call by value or Call by reference in Python?\n",
        "### Passed by assignment\n",
        ": 어떤 값을 전달하느냐에 따라 달라진다.\n",
        "\n",
        "- 파이썬의 자료형에는 immutable과 mutable이 있다.\n",
        "immutable (불변) : int, str, etc.\n",
        "mutable (가변) : list, dictionary, etc.\n",
        "\n",
        "- 불변 타입의 객체를 넘기면 call by value,\n",
        "가변 타입의 객체를 넘기면 call by reference \n",
        "\n",
        "-> 이유는?\n",
        ": 파이썬에서는 모든 것이 객체이기 때문에, int 타입의 변수를 함수의 인자 값으로 넘기면, 이 객체는 불변이기 때문에 함수 안에서 새로운 값을 생성한다.\n",
        "반면, 파이썬에서 가변 객체는 새로 값을 만들 필요가 없기 때문에 reference만 유지된다. \n",
        "따라서 passed by assignment라고 할 수 있다."
      ]
    },
    {
      "cell_type": "markdown",
      "metadata": {
        "id": "gytzDchSSFmA"
      },
      "source": [
        "\n",
        "\n",
        "- reference : https://www.pymoon.com/entry/Python-%EC%9D%80-callbyvalue-%EC%9D%BC%EA%B9%8C-callbyreference-%EC%9D%BC%EA%B9%8C"
      ]
    },
    {
      "cell_type": "code",
      "metadata": {
        "id": "Ic6Fi-qjSTkE"
      },
      "source": [
        ""
      ],
      "execution_count": null,
      "outputs": []
    }
  ]
}