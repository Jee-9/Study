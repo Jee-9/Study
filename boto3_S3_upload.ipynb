{
  "nbformat": 4,
  "nbformat_minor": 0,
  "metadata": {
    "colab": {
      "name": "boto3_S3_upload.ipynb",
      "provenance": [],
      "collapsed_sections": [],
      "mount_file_id": "1ZSMIlrjn_Knxby-p0KAejZRTYukWHWY-",
      "authorship_tag": "ABX9TyN6Yn/oQpU/aMB7/SUGsu3h",
      "include_colab_link": true
    },
    "kernelspec": {
      "name": "python3",
      "display_name": "Python 3"
    },
    "language_info": {
      "name": "python"
    }
  },
  "cells": [
    {
      "cell_type": "markdown",
      "metadata": {
        "id": "view-in-github",
        "colab_type": "text"
      },
      "source": [
        "<a href=\"https://colab.research.google.com/github/Jee-9/Study/blob/main/boto3_S3_upload.ipynb\" target=\"_parent\"><img src=\"https://colab.research.google.com/assets/colab-badge.svg\" alt=\"Open In Colab\"/></a>"
      ]
    },
    {
      "cell_type": "code",
      "metadata": {
        "colab": {
          "base_uri": "https://localhost:8080/"
        },
        "id": "OCpZMugYhjKf",
        "outputId": "9b2155f9-47cb-4bb9-839d-003bddd000fc"
      },
      "source": [
        "!pip install boto3"
      ],
      "execution_count": 1,
      "outputs": [
        {
          "output_type": "stream",
          "name": "stdout",
          "text": [
            "Collecting boto3\n",
            "  Downloading boto3-1.19.0-py3-none-any.whl (131 kB)\n",
            "\u001b[?25l\r\u001b[K     |██▌                             | 10 kB 20.5 MB/s eta 0:00:01\r\u001b[K     |█████                           | 20 kB 27.1 MB/s eta 0:00:01\r\u001b[K     |███████▌                        | 30 kB 30.5 MB/s eta 0:00:01\r\u001b[K     |██████████                      | 40 kB 20.4 MB/s eta 0:00:01\r\u001b[K     |████████████▌                   | 51 kB 11.6 MB/s eta 0:00:01\r\u001b[K     |███████████████                 | 61 kB 9.2 MB/s eta 0:00:01\r\u001b[K     |█████████████████▍              | 71 kB 9.1 MB/s eta 0:00:01\r\u001b[K     |████████████████████            | 81 kB 10.0 MB/s eta 0:00:01\r\u001b[K     |██████████████████████▍         | 92 kB 10.7 MB/s eta 0:00:01\r\u001b[K     |█████████████████████████       | 102 kB 10.2 MB/s eta 0:00:01\r\u001b[K     |███████████████████████████▍    | 112 kB 10.2 MB/s eta 0:00:01\r\u001b[K     |█████████████████████████████▉  | 122 kB 10.2 MB/s eta 0:00:01\r\u001b[K     |████████████████████████████████| 131 kB 10.2 MB/s \n",
            "\u001b[?25hCollecting s3transfer<0.6.0,>=0.5.0\n",
            "  Downloading s3transfer-0.5.0-py3-none-any.whl (79 kB)\n",
            "\u001b[?25l\r\u001b[K     |████▏                           | 10 kB 31.7 MB/s eta 0:00:01\r\u001b[K     |████████▎                       | 20 kB 37.8 MB/s eta 0:00:01\r\u001b[K     |████████████▍                   | 30 kB 42.4 MB/s eta 0:00:01\r\u001b[K     |████████████████▌               | 40 kB 45.8 MB/s eta 0:00:01\r\u001b[K     |████████████████████▊           | 51 kB 47.7 MB/s eta 0:00:01\r\u001b[K     |████████████████████████▉       | 61 kB 51.3 MB/s eta 0:00:01\r\u001b[K     |█████████████████████████████   | 71 kB 52.9 MB/s eta 0:00:01\r\u001b[K     |████████████████████████████████| 79 kB 7.8 MB/s \n",
            "\u001b[?25hCollecting jmespath<1.0.0,>=0.7.1\n",
            "  Downloading jmespath-0.10.0-py2.py3-none-any.whl (24 kB)\n",
            "Collecting botocore<1.23.0,>=1.22.0\n",
            "  Downloading botocore-1.22.0-py3-none-any.whl (8.0 MB)\n",
            "\u001b[K     |████████████████████████████████| 8.0 MB 46.4 MB/s \n",
            "\u001b[?25hRequirement already satisfied: python-dateutil<3.0.0,>=2.1 in /usr/local/lib/python3.7/dist-packages (from botocore<1.23.0,>=1.22.0->boto3) (2.8.2)\n",
            "Collecting urllib3<1.27,>=1.25.4\n",
            "  Downloading urllib3-1.26.7-py2.py3-none-any.whl (138 kB)\n",
            "\u001b[K     |████████████████████████████████| 138 kB 49.6 MB/s \n",
            "\u001b[?25hRequirement already satisfied: six>=1.5 in /usr/local/lib/python3.7/dist-packages (from python-dateutil<3.0.0,>=2.1->botocore<1.23.0,>=1.22.0->boto3) (1.15.0)\n",
            "Installing collected packages: urllib3, jmespath, botocore, s3transfer, boto3\n",
            "  Attempting uninstall: urllib3\n",
            "    Found existing installation: urllib3 1.24.3\n",
            "    Uninstalling urllib3-1.24.3:\n",
            "      Successfully uninstalled urllib3-1.24.3\n",
            "\u001b[31mERROR: pip's dependency resolver does not currently take into account all the packages that are installed. This behaviour is the source of the following dependency conflicts.\n",
            "requests 2.23.0 requires urllib3!=1.25.0,!=1.25.1,<1.26,>=1.21.1, but you have urllib3 1.26.7 which is incompatible.\n",
            "datascience 0.10.6 requires folium==0.2.1, but you have folium 0.8.3 which is incompatible.\u001b[0m\n",
            "Successfully installed boto3-1.19.0 botocore-1.22.0 jmespath-0.10.0 s3transfer-0.5.0 urllib3-1.26.7\n"
          ]
        }
      ]
    },
    {
      "cell_type": "code",
      "metadata": {
        "id": "s1KJ8uoSmxjm",
        "colab": {
          "base_uri": "https://localhost:8080/"
        },
        "outputId": "989c6da8-2c8a-4fea-b333-6faa41f92cc9"
      },
      "source": [
        "# data index : (10, 20) ,  (30, 40)\n",
        "\n",
        "import glob\n",
        "\n",
        "mb_list = glob.glob('/content/drive/MyDrive/PROJECTS/YouTubeAPIProject/Youtube_API/Mukbang/*.webm')\n",
        "gm_list = glob.glob('/content/drive/MyDrive/PROJECTS/YouTubeAPIProject/Youtube_API/Game/*.webm')\n",
        "\n",
        "mb_list_ = mb_list[10:20]\n",
        "mb_list_.extend(mb_list[30:40])\n",
        "\n",
        "gm_list_ = gm_list[10:20]\n",
        "gm_list_.extend(gm_list[30:40])\n",
        "\n",
        "gm_list_"
      ],
      "execution_count": 2,
      "outputs": [
        {
          "output_type": "execute_result",
          "data": {
            "text/plain": [
              "['/content/drive/MyDrive/PROJECTS/YouTubeAPIProject/Youtube_API/Game/페이커의 요네는 쎄네요네 [Faker Stream Highlight].webm',\n",
              " '/content/drive/MyDrive/PROJECTS/YouTubeAPIProject/Youtube_API/Game/버프된 이렐리아 페이커가 해봤습니다 [Faker Stream Highlight].webm',\n",
              " '/content/drive/MyDrive/PROJECTS/YouTubeAPIProject/Youtube_API/Game/미드 박살내 버리는 페이커의 라이즈 [Faker Stream Highlight].webm',\n",
              " '/content/drive/MyDrive/PROJECTS/YouTubeAPIProject/Youtube_API/Game/포기하지마! 캐리해줄게!  페이커의 미드 루시안 [Faker Stream Highlight].webm',\n",
              " '/content/drive/MyDrive/PROJECTS/YouTubeAPIProject/Youtube_API/Game/페이커의 르블랑 출격! 페이커도 승급전을 한다 2화 [Faker Stream Highlight].webm',\n",
              " '/content/drive/MyDrive/PROJECTS/YouTubeAPIProject/Youtube_API/Game/르블랑만 하면 스킬을 다 피하는 사람 [페이커 스트림 하이라이트].webm',\n",
              " '/content/drive/MyDrive/PROJECTS/YouTubeAPIProject/Youtube_API/Game/페이커의 15킬 요네 미스터리  [Faker Stream Highlight].webm',\n",
              " '/content/drive/MyDrive/PROJECTS/YouTubeAPIProject/Youtube_API/Game/페이커의 어몽어스 하이드 온 벤트 [Faker Stream Highlight].webm',\n",
              " '/content/drive/MyDrive/PROJECTS/YouTubeAPIProject/Youtube_API/Game/오늘의 수업은 아칼리 입니다  페이커 아칼리 [Faker Stream Highlight].webm',\n",
              " '/content/drive/MyDrive/PROJECTS/YouTubeAPIProject/Youtube_API/Game/페이커가 아리 한번 픽해봤습니다 [Faker Stream Highlight].webm',\n",
              " '/content/drive/MyDrive/PROJECTS/YouTubeAPIProject/Youtube_API/Game/[오버워치] 메르시로 이게 가능하다고! 3대6상황 역전 시키는 역대급 한타.webm',\n",
              " '/content/drive/MyDrive/PROJECTS/YouTubeAPIProject/Youtube_API/Game/[오버워치] 아무도 모르는 메르시 세팅! 당신이 힐을 못주는 이유!  숫자만 변경해보세요.webm',\n",
              " '/content/drive/MyDrive/PROJECTS/YouTubeAPIProject/Youtube_API/Game/이 정도는 해야 메르시를 할 수 있지.webm',\n",
              " '/content/drive/MyDrive/PROJECTS/YouTubeAPIProject/Youtube_API/Game/메르시 포지션 이렇게만 잡으면 100 점수 오릅니다.webm',\n",
              " '/content/drive/MyDrive/PROJECTS/YouTubeAPIProject/Youtube_API/Game/메르시 초보 유저라면 꼭 알아야 할 8가지 사실.webm',\n",
              " '/content/drive/MyDrive/PROJECTS/YouTubeAPIProject/Youtube_API/Game/[오버워치] 이시국에 메르시로 5금을! 경쟁전에서 메르시로 팟지 먹는법!.webm',\n",
              " '/content/drive/MyDrive/PROJECTS/YouTubeAPIProject/Youtube_API/Game/[오버워치] 윈스턴 딜량이 메르시 힐량을 이길까! 생각하지도 못한 반전이!.webm',\n",
              " '/content/drive/MyDrive/PROJECTS/YouTubeAPIProject/Youtube_API/Game/요즘 메르시 이렇게 하세요.webm',\n",
              " '/content/drive/MyDrive/PROJECTS/YouTubeAPIProject/Youtube_API/Game/궁극기가 부활이였던 다인부활 메르시로 33조합을 해본다면!  오버워치 워크샵.webm',\n",
              " '/content/drive/MyDrive/PROJECTS/YouTubeAPIProject/Youtube_API/Game/메르시가 할 수 있는 최고의 플레이.webm']"
            ]
          },
          "metadata": {},
          "execution_count": 2
        }
      ]
    },
    {
      "cell_type": "code",
      "metadata": {
        "id": "bk9LvlItF0No"
      },
      "source": [
        "import logging # print 대신에 사용하면 time 찍어주고 그런다고 합니다.\n",
        "import boto3\n",
        "from botocore.exceptions import ClientError\n",
        "import os\n",
        "\n",
        "def upload_file(file_name, bucket, object_name = None):\n",
        "  if object_name is None:\n",
        "    object_name = os.path.basename(file_name)\n",
        "\n",
        "  s3_client = boto3.client('s3')\n",
        "  '''함수 단위로 기능만 할 수 있는거 client, client보다 조금 더 큰 느낌으로 좀 더 이것저것 할 수 있음.'''\n",
        "  \n",
        "  try:\n",
        "    response = s3_client.upload_file(file_name, bucket, object_name)\n",
        "  except ClientError as e:\n",
        "    logging.error(e)\n",
        "    return False\n",
        "  return True"
      ],
      "execution_count": 3,
      "outputs": []
    },
    {
      "cell_type": "code",
      "metadata": {
        "id": "e6uzwCKKhh8P"
      },
      "source": [
        "# s3 = boto3.client('s3')\n",
        "\n",
        "# with open(\"File name\", \"rb\") as f:\n",
        "#   s3.upload_fileobj(f, \"BUCKET_NAME\", \"OBJECT_NAME\")"
      ],
      "execution_count": null,
      "outputs": []
    },
    {
      "cell_type": "code",
      "metadata": {
        "id": "URRYxONL3ygS"
      },
      "source": [
        "ACCESS_KEY = 'asdf'\n",
        "SECRET_KEY = 'asdf'\n",
        "region = 'ap-northeast-2'\n",
        "\n",
        "try: s3 = boto3.client('s3', region_name = region,\n",
        "                              aws_access_key_id = ACCESS_KEY,\n",
        "                              aws_secret_access_key = SECRET_KEY)\n",
        "except ClientError as e:\n",
        "  logging.error(e)\n",
        "  print('False')\n",
        "\n",
        "\n",
        "for i, j in enumerate(gm_list_[:10]):\n",
        "  with open(j, 'rb') as f:\n",
        "    s3.upload_fileobj(f, 'youtubepjbucket', f'game/game#{i+10}')\n",
        "\n",
        "for i, j in enumerate(gm_list_[10:20]):\n",
        "  with open(j, 'rb') as f:\n",
        "    s3.upload_fileobj(f, 'youtubepjbucket', f'game/game#{i+30}')"
      ],
      "execution_count": 26,
      "outputs": []
    },
    {
      "cell_type": "code",
      "metadata": {
        "id": "4SS2LkwGHCsx"
      },
      "source": [
        "ACCESS_KEY = 'asdf'\n",
        "SECRET_KEY = 'asdf'\n",
        "region = 'ap-northeast-2'\n",
        "\n",
        "try: s3 = boto3.client('s3', region_name = region,\n",
        "                              aws_access_key_id = ACCESS_KEY,\n",
        "                              aws_secret_access_key = SECRET_KEY)\n",
        "except ClientError as e:\n",
        "  logging.error(e)\n",
        "  print('False')\n",
        "\n",
        "\n",
        "for i, j in enumerate(mb_list_[:10]):\n",
        "  with open(j, 'rb') as f:\n",
        "    s3.upload_fileobj(f, 'youtubepjbucket', f'mukbang/mukbang#{i+10}')\n",
        "\n",
        "for i, j in enumerate(mb_list_[10:20]):\n",
        "  with open(j, 'rb') as f:\n",
        "    s3.upload_fileobj(f, 'youtubepjbucket', f'mukbang/mukbang#{i+30}')"
      ],
      "execution_count": 25,
      "outputs": []
    }
  ]
}