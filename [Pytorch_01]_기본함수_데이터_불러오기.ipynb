{
  "nbformat": 4,
  "nbformat_minor": 0,
  "metadata": {
    "colab": {
      "name": "[Pytorch_01] 기본함수 / 데이터 불러오기.ipynb",
      "provenance": [],
      "collapsed_sections": [],
      "authorship_tag": "ABX9TyOGgzduBvimQST4duiAjjJR",
      "include_colab_link": true
    },
    "kernelspec": {
      "name": "python3",
      "display_name": "Python 3"
    },
    "language_info": {
      "name": "python"
    },
    "widgets": {
      "application/vnd.jupyter.widget-state+json": {
        "4d9dae76ad3241e3bae413d1f71b945b": {
          "model_module": "@jupyter-widgets/controls",
          "model_name": "HBoxModel",
          "model_module_version": "1.5.0",
          "state": {
            "_view_name": "HBoxView",
            "_dom_classes": [],
            "_model_name": "HBoxModel",
            "_view_module": "@jupyter-widgets/controls",
            "_model_module_version": "1.5.0",
            "_view_count": null,
            "_view_module_version": "1.5.0",
            "box_style": "",
            "layout": "IPY_MODEL_ce836b1efcd64197b16ea61573fbde44",
            "_model_module": "@jupyter-widgets/controls",
            "children": [
              "IPY_MODEL_88603253b8e7453797b80535f9080588",
              "IPY_MODEL_9cb1ffc8e4554bc4860b3bdda6c46c73",
              "IPY_MODEL_1242744475df47eb84abcffacf2e1b7a"
            ]
          }
        },
        "ce836b1efcd64197b16ea61573fbde44": {
          "model_module": "@jupyter-widgets/base",
          "model_name": "LayoutModel",
          "model_module_version": "1.2.0",
          "state": {
            "_view_name": "LayoutView",
            "grid_template_rows": null,
            "right": null,
            "justify_content": null,
            "_view_module": "@jupyter-widgets/base",
            "overflow": null,
            "_model_module_version": "1.2.0",
            "_view_count": null,
            "flex_flow": null,
            "width": null,
            "min_width": null,
            "border": null,
            "align_items": null,
            "bottom": null,
            "_model_module": "@jupyter-widgets/base",
            "top": null,
            "grid_column": null,
            "overflow_y": null,
            "overflow_x": null,
            "grid_auto_flow": null,
            "grid_area": null,
            "grid_template_columns": null,
            "flex": null,
            "_model_name": "LayoutModel",
            "justify_items": null,
            "grid_row": null,
            "max_height": null,
            "align_content": null,
            "visibility": null,
            "align_self": null,
            "height": null,
            "min_height": null,
            "padding": null,
            "grid_auto_rows": null,
            "grid_gap": null,
            "max_width": null,
            "order": null,
            "_view_module_version": "1.2.0",
            "grid_template_areas": null,
            "object_position": null,
            "object_fit": null,
            "grid_auto_columns": null,
            "margin": null,
            "display": null,
            "left": null
          }
        },
        "88603253b8e7453797b80535f9080588": {
          "model_module": "@jupyter-widgets/controls",
          "model_name": "HTMLModel",
          "model_module_version": "1.5.0",
          "state": {
            "_view_name": "HTMLView",
            "style": "IPY_MODEL_5fc2113b2b4a4d6bb08b2923f8c52ba2",
            "_dom_classes": [],
            "description": "",
            "_model_name": "HTMLModel",
            "placeholder": "​",
            "_view_module": "@jupyter-widgets/controls",
            "_model_module_version": "1.5.0",
            "value": "",
            "_view_count": null,
            "_view_module_version": "1.5.0",
            "description_tooltip": null,
            "_model_module": "@jupyter-widgets/controls",
            "layout": "IPY_MODEL_90c0bad4ecec47609cd0332fe8ceede6"
          }
        },
        "9cb1ffc8e4554bc4860b3bdda6c46c73": {
          "model_module": "@jupyter-widgets/controls",
          "model_name": "FloatProgressModel",
          "model_module_version": "1.5.0",
          "state": {
            "_view_name": "ProgressView",
            "style": "IPY_MODEL_4620f70ad1f7444a81d78ac5e4870bb4",
            "_dom_classes": [],
            "description": "",
            "_model_name": "FloatProgressModel",
            "bar_style": "success",
            "max": 170498071,
            "_view_module": "@jupyter-widgets/controls",
            "_model_module_version": "1.5.0",
            "value": 170498071,
            "_view_count": null,
            "_view_module_version": "1.5.0",
            "orientation": "horizontal",
            "min": 0,
            "description_tooltip": null,
            "_model_module": "@jupyter-widgets/controls",
            "layout": "IPY_MODEL_4e596f9d71b846c4bd27c4e72fcebed5"
          }
        },
        "1242744475df47eb84abcffacf2e1b7a": {
          "model_module": "@jupyter-widgets/controls",
          "model_name": "HTMLModel",
          "model_module_version": "1.5.0",
          "state": {
            "_view_name": "HTMLView",
            "style": "IPY_MODEL_e72809e052204b72b38452d840b2c94d",
            "_dom_classes": [],
            "description": "",
            "_model_name": "HTMLModel",
            "placeholder": "​",
            "_view_module": "@jupyter-widgets/controls",
            "_model_module_version": "1.5.0",
            "value": " 170499072/? [00:02&lt;00:00, 69023277.00it/s]",
            "_view_count": null,
            "_view_module_version": "1.5.0",
            "description_tooltip": null,
            "_model_module": "@jupyter-widgets/controls",
            "layout": "IPY_MODEL_35d2143a42f5498cba7f78d689d62581"
          }
        },
        "5fc2113b2b4a4d6bb08b2923f8c52ba2": {
          "model_module": "@jupyter-widgets/controls",
          "model_name": "DescriptionStyleModel",
          "model_module_version": "1.5.0",
          "state": {
            "_view_name": "StyleView",
            "_model_name": "DescriptionStyleModel",
            "description_width": "",
            "_view_module": "@jupyter-widgets/base",
            "_model_module_version": "1.5.0",
            "_view_count": null,
            "_view_module_version": "1.2.0",
            "_model_module": "@jupyter-widgets/controls"
          }
        },
        "90c0bad4ecec47609cd0332fe8ceede6": {
          "model_module": "@jupyter-widgets/base",
          "model_name": "LayoutModel",
          "model_module_version": "1.2.0",
          "state": {
            "_view_name": "LayoutView",
            "grid_template_rows": null,
            "right": null,
            "justify_content": null,
            "_view_module": "@jupyter-widgets/base",
            "overflow": null,
            "_model_module_version": "1.2.0",
            "_view_count": null,
            "flex_flow": null,
            "width": null,
            "min_width": null,
            "border": null,
            "align_items": null,
            "bottom": null,
            "_model_module": "@jupyter-widgets/base",
            "top": null,
            "grid_column": null,
            "overflow_y": null,
            "overflow_x": null,
            "grid_auto_flow": null,
            "grid_area": null,
            "grid_template_columns": null,
            "flex": null,
            "_model_name": "LayoutModel",
            "justify_items": null,
            "grid_row": null,
            "max_height": null,
            "align_content": null,
            "visibility": null,
            "align_self": null,
            "height": null,
            "min_height": null,
            "padding": null,
            "grid_auto_rows": null,
            "grid_gap": null,
            "max_width": null,
            "order": null,
            "_view_module_version": "1.2.0",
            "grid_template_areas": null,
            "object_position": null,
            "object_fit": null,
            "grid_auto_columns": null,
            "margin": null,
            "display": null,
            "left": null
          }
        },
        "4620f70ad1f7444a81d78ac5e4870bb4": {
          "model_module": "@jupyter-widgets/controls",
          "model_name": "ProgressStyleModel",
          "model_module_version": "1.5.0",
          "state": {
            "_view_name": "StyleView",
            "_model_name": "ProgressStyleModel",
            "description_width": "",
            "_view_module": "@jupyter-widgets/base",
            "_model_module_version": "1.5.0",
            "_view_count": null,
            "_view_module_version": "1.2.0",
            "bar_color": null,
            "_model_module": "@jupyter-widgets/controls"
          }
        },
        "4e596f9d71b846c4bd27c4e72fcebed5": {
          "model_module": "@jupyter-widgets/base",
          "model_name": "LayoutModel",
          "model_module_version": "1.2.0",
          "state": {
            "_view_name": "LayoutView",
            "grid_template_rows": null,
            "right": null,
            "justify_content": null,
            "_view_module": "@jupyter-widgets/base",
            "overflow": null,
            "_model_module_version": "1.2.0",
            "_view_count": null,
            "flex_flow": null,
            "width": null,
            "min_width": null,
            "border": null,
            "align_items": null,
            "bottom": null,
            "_model_module": "@jupyter-widgets/base",
            "top": null,
            "grid_column": null,
            "overflow_y": null,
            "overflow_x": null,
            "grid_auto_flow": null,
            "grid_area": null,
            "grid_template_columns": null,
            "flex": null,
            "_model_name": "LayoutModel",
            "justify_items": null,
            "grid_row": null,
            "max_height": null,
            "align_content": null,
            "visibility": null,
            "align_self": null,
            "height": null,
            "min_height": null,
            "padding": null,
            "grid_auto_rows": null,
            "grid_gap": null,
            "max_width": null,
            "order": null,
            "_view_module_version": "1.2.0",
            "grid_template_areas": null,
            "object_position": null,
            "object_fit": null,
            "grid_auto_columns": null,
            "margin": null,
            "display": null,
            "left": null
          }
        },
        "e72809e052204b72b38452d840b2c94d": {
          "model_module": "@jupyter-widgets/controls",
          "model_name": "DescriptionStyleModel",
          "model_module_version": "1.5.0",
          "state": {
            "_view_name": "StyleView",
            "_model_name": "DescriptionStyleModel",
            "description_width": "",
            "_view_module": "@jupyter-widgets/base",
            "_model_module_version": "1.5.0",
            "_view_count": null,
            "_view_module_version": "1.2.0",
            "_model_module": "@jupyter-widgets/controls"
          }
        },
        "35d2143a42f5498cba7f78d689d62581": {
          "model_module": "@jupyter-widgets/base",
          "model_name": "LayoutModel",
          "model_module_version": "1.2.0",
          "state": {
            "_view_name": "LayoutView",
            "grid_template_rows": null,
            "right": null,
            "justify_content": null,
            "_view_module": "@jupyter-widgets/base",
            "overflow": null,
            "_model_module_version": "1.2.0",
            "_view_count": null,
            "flex_flow": null,
            "width": null,
            "min_width": null,
            "border": null,
            "align_items": null,
            "bottom": null,
            "_model_module": "@jupyter-widgets/base",
            "top": null,
            "grid_column": null,
            "overflow_y": null,
            "overflow_x": null,
            "grid_auto_flow": null,
            "grid_area": null,
            "grid_template_columns": null,
            "flex": null,
            "_model_name": "LayoutModel",
            "justify_items": null,
            "grid_row": null,
            "max_height": null,
            "align_content": null,
            "visibility": null,
            "align_self": null,
            "height": null,
            "min_height": null,
            "padding": null,
            "grid_auto_rows": null,
            "grid_gap": null,
            "max_width": null,
            "order": null,
            "_view_module_version": "1.2.0",
            "grid_template_areas": null,
            "object_position": null,
            "object_fit": null,
            "grid_auto_columns": null,
            "margin": null,
            "display": null,
            "left": null
          }
        }
      }
    }
  },
  "cells": [
    {
      "cell_type": "markdown",
      "metadata": {
        "id": "view-in-github",
        "colab_type": "text"
      },
      "source": [
        "<a href=\"https://colab.research.google.com/github/Jeeeeeeeee/Study/blob/main/%5BPytorch_01%5D_%EA%B8%B0%EB%B3%B8%ED%95%A8%EC%88%98_%EB%8D%B0%EC%9D%B4%ED%84%B0_%EB%B6%88%EB%9F%AC%EC%98%A4%EA%B8%B0.ipynb\" target=\"_parent\"><img src=\"https://colab.research.google.com/assets/colab-badge.svg\" alt=\"Open In Colab\"/></a>"
      ]
    },
    {
      "cell_type": "markdown",
      "metadata": {
        "id": "2wttu9sn0-Na"
      },
      "source": [
        "## Torch / Tensor"
      ]
    },
    {
      "cell_type": "code",
      "metadata": {
        "id": "zxW0ugPp05Ms"
      },
      "source": [
        "import torch\n",
        "import numpy as np"
      ],
      "execution_count": null,
      "outputs": []
    },
    {
      "cell_type": "code",
      "metadata": {
        "colab": {
          "base_uri": "https://localhost:8080/"
        },
        "id": "qHNsPKDp08mp",
        "outputId": "47f82f5f-a670-4085-80f3-3e330e209cd6"
      },
      "source": [
        "x = torch.empty(5,4)\n",
        "print(x)"
      ],
      "execution_count": null,
      "outputs": [
        {
          "output_type": "stream",
          "text": [
            "tensor([[-9.2314e+33,  3.0840e-41,  7.0065e-44,  6.8664e-44],\n",
            "        [ 6.3058e-44,  6.7262e-44,  7.8473e-44,  6.3058e-44],\n",
            "        [ 7.0065e-44,  7.2868e-44,  1.1771e-43,  6.7262e-44],\n",
            "        [ 6.8664e-44,  8.1275e-44,  7.2868e-44,  7.2868e-44],\n",
            "        [ 8.1275e-44,  6.7262e-44,  7.4269e-44,  6.4460e-44]])\n"
          ],
          "name": "stdout"
        }
      ]
    },
    {
      "cell_type": "code",
      "metadata": {
        "colab": {
          "base_uri": "https://localhost:8080/"
        },
        "id": "GRI6-NfW08pE",
        "outputId": "cc392386-0da3-43ea-80fa-8ae6b1d305f9"
      },
      "source": [
        "torch.ones(3,3)"
      ],
      "execution_count": null,
      "outputs": [
        {
          "output_type": "execute_result",
          "data": {
            "text/plain": [
              "tensor([[1., 1., 1.],\n",
              "        [1., 1., 1.],\n",
              "        [1., 1., 1.]])"
            ]
          },
          "metadata": {},
          "execution_count": 4
        }
      ]
    },
    {
      "cell_type": "code",
      "metadata": {
        "colab": {
          "base_uri": "https://localhost:8080/"
        },
        "id": "KvhKOs-x08rs",
        "outputId": "f0534e27-97d5-4969-cdb2-6225033e93d2"
      },
      "source": [
        "torch.zeros(2)"
      ],
      "execution_count": null,
      "outputs": [
        {
          "output_type": "execute_result",
          "data": {
            "text/plain": [
              "tensor([0., 0.])"
            ]
          },
          "metadata": {},
          "execution_count": 5
        }
      ]
    },
    {
      "cell_type": "code",
      "metadata": {
        "colab": {
          "base_uri": "https://localhost:8080/"
        },
        "id": "UuOfZNyZ08uV",
        "outputId": "26faeeac-dca3-45e6-deee-2149522713ac"
      },
      "source": [
        "torch.rand(5,6)"
      ],
      "execution_count": null,
      "outputs": [
        {
          "output_type": "execute_result",
          "data": {
            "text/plain": [
              "tensor([[0.4301, 0.2741, 0.2613, 0.1297, 0.9968, 0.1168],\n",
              "        [0.1762, 0.4423, 0.2403, 0.5170, 0.3318, 0.9365],\n",
              "        [0.4295, 0.4874, 0.8196, 0.9137, 0.0780, 0.9195],\n",
              "        [0.7639, 0.5790, 0.6971, 0.1672, 0.8388, 0.5286],\n",
              "        [0.9628, 0.7492, 0.0693, 0.3459, 0.6010, 0.6195]])"
            ]
          },
          "metadata": {},
          "execution_count": 6
        }
      ]
    },
    {
      "cell_type": "code",
      "metadata": {
        "id": "yNcGDMVn08w8"
      },
      "source": [
        "l = [13, 4]\n",
        "r = np.array([4, 56, 7]) \n",
        "\n",
        "# list나 array로 되어 있으면 tensor로 바꿔줘야합니다."
      ],
      "execution_count": null,
      "outputs": []
    },
    {
      "cell_type": "code",
      "metadata": {
        "colab": {
          "base_uri": "https://localhost:8080/"
        },
        "id": "RQcf9rQD08zk",
        "outputId": "e271e304-127c-4849-8f29-52ccec503c15"
      },
      "source": [
        "torch.tensor(l)"
      ],
      "execution_count": null,
      "outputs": [
        {
          "output_type": "execute_result",
          "data": {
            "text/plain": [
              "tensor([13,  4])"
            ]
          },
          "metadata": {},
          "execution_count": 8
        }
      ]
    },
    {
      "cell_type": "code",
      "metadata": {
        "colab": {
          "base_uri": "https://localhost:8080/"
        },
        "id": "RqYE6Plz082Q",
        "outputId": "bfbeba48-8000-4fd6-f448-9f07d5e40801"
      },
      "source": [
        "torch.tensor(r)"
      ],
      "execution_count": null,
      "outputs": [
        {
          "output_type": "execute_result",
          "data": {
            "text/plain": [
              "tensor([ 4, 56,  7])"
            ]
          },
          "metadata": {},
          "execution_count": 9
        }
      ]
    },
    {
      "cell_type": "code",
      "metadata": {
        "colab": {
          "base_uri": "https://localhost:8080/"
        },
        "id": "JKZjPYmN0844",
        "outputId": "03cd0141-2b62-4c67-ccfd-1d4cc972088a"
      },
      "source": [
        "# 사이즈 확인\n",
        "x.size()"
      ],
      "execution_count": null,
      "outputs": [
        {
          "output_type": "execute_result",
          "data": {
            "text/plain": [
              "torch.Size([5, 4])"
            ]
          },
          "metadata": {},
          "execution_count": 10
        }
      ]
    },
    {
      "cell_type": "code",
      "metadata": {
        "colab": {
          "base_uri": "https://localhost:8080/"
        },
        "id": "2nqBWG2i087S",
        "outputId": "904fcdf6-eeb0-4b05-a3a3-e1fecfd43950"
      },
      "source": [
        "type(x)"
      ],
      "execution_count": null,
      "outputs": [
        {
          "output_type": "execute_result",
          "data": {
            "text/plain": [
              "torch.Tensor"
            ]
          },
          "metadata": {},
          "execution_count": 11
        }
      ]
    },
    {
      "cell_type": "code",
      "metadata": {
        "colab": {
          "base_uri": "https://localhost:8080/"
        },
        "id": "949HtUA81XlN",
        "outputId": "91f54ef7-c711-4472-a3dc-27b14c6de059"
      },
      "source": [
        "x = torch.rand(2,2)\n",
        "y = torch.rand(2,2)\n",
        "\n",
        "print(x)\n",
        "print(y)"
      ],
      "execution_count": null,
      "outputs": [
        {
          "output_type": "stream",
          "text": [
            "tensor([[0.4889, 0.2516],\n",
            "        [0.2356, 0.5798]])\n",
            "tensor([[0.1619, 0.3249],\n",
            "        [0.8529, 0.6841]])\n"
          ],
          "name": "stdout"
        }
      ]
    },
    {
      "cell_type": "code",
      "metadata": {
        "colab": {
          "base_uri": "https://localhost:8080/"
        },
        "id": "XbBuThSq1XoA",
        "outputId": "cad03946-b22c-4387-bddd-58cd88fd6306"
      },
      "source": [
        "print(x+y)\n",
        "print(torch.add(x,y))"
      ],
      "execution_count": null,
      "outputs": [
        {
          "output_type": "stream",
          "text": [
            "tensor([[0.6508, 0.5765],\n",
            "        [1.0884, 1.2639]])\n",
            "tensor([[0.6508, 0.5765],\n",
            "        [1.0884, 1.2639]])\n"
          ],
          "name": "stdout"
        }
      ]
    },
    {
      "cell_type": "code",
      "metadata": {
        "colab": {
          "base_uri": "https://localhost:8080/"
        },
        "id": "6tPneSIQ1Xqg",
        "outputId": "b164b819-ee58-4c4c-e534-f2b9bcc2a41b"
      },
      "source": [
        "y.add(x)"
      ],
      "execution_count": null,
      "outputs": [
        {
          "output_type": "execute_result",
          "data": {
            "text/plain": [
              "tensor([[1.1397, 0.8281],\n",
              "        [1.3240, 1.8437]])"
            ]
          },
          "metadata": {},
          "execution_count": 20
        }
      ]
    },
    {
      "cell_type": "code",
      "metadata": {
        "colab": {
          "base_uri": "https://localhost:8080/"
        },
        "id": "ogns865W1yVj",
        "outputId": "4fef6600-1835-4eff-a05e-3b9dafc9339b"
      },
      "source": [
        "y"
      ],
      "execution_count": null,
      "outputs": [
        {
          "output_type": "execute_result",
          "data": {
            "text/plain": [
              "tensor([[0.6508, 0.5765],\n",
              "        [1.0884, 1.2639]])"
            ]
          },
          "metadata": {},
          "execution_count": 21
        }
      ]
    },
    {
      "cell_type": "code",
      "metadata": {
        "colab": {
          "base_uri": "https://localhost:8080/"
        },
        "id": "nGhRkLqZ1Xs4",
        "outputId": "d54abb38-5fbe-41c2-aff6-1d7428c74466"
      },
      "source": [
        "y.add_(x)\n",
        "# _를 넣어주면 inplace -> y에 x를 넣어서 y를 대신한다."
      ],
      "execution_count": null,
      "outputs": [
        {
          "output_type": "execute_result",
          "data": {
            "text/plain": [
              "tensor([[1.1397, 0.8281],\n",
              "        [1.3240, 1.8437]])"
            ]
          },
          "metadata": {},
          "execution_count": 22
        }
      ]
    },
    {
      "cell_type": "code",
      "metadata": {
        "colab": {
          "base_uri": "https://localhost:8080/"
        },
        "id": "Vtw1GkyA1Xve",
        "outputId": "9645ca4a-5b18-4317-ca9c-8c7b06c7d69e"
      },
      "source": [
        "y # 그래서 y가 바뀌어있다."
      ],
      "execution_count": null,
      "outputs": [
        {
          "output_type": "execute_result",
          "data": {
            "text/plain": [
              "tensor([[1.1397, 0.8281],\n",
              "        [1.3240, 1.8437]])"
            ]
          },
          "metadata": {},
          "execution_count": 23
        }
      ]
    },
    {
      "cell_type": "code",
      "metadata": {
        "colab": {
          "base_uri": "https://localhost:8080/"
        },
        "id": "LW-x7SP31XyE",
        "outputId": "ccd55f65-8ae2-49b7-8099-feb3b93a85a3"
      },
      "source": [
        "y[1,1] # 1행 1열"
      ],
      "execution_count": null,
      "outputs": [
        {
          "output_type": "execute_result",
          "data": {
            "text/plain": [
              "tensor(1.8437)"
            ]
          },
          "metadata": {},
          "execution_count": 24
        }
      ]
    },
    {
      "cell_type": "code",
      "metadata": {
        "colab": {
          "base_uri": "https://localhost:8080/"
        },
        "id": "wLQfpz_j1X0g",
        "outputId": "18b7a53a-72ec-49e6-89f0-593cd60da29f"
      },
      "source": [
        "y[:, 1]"
      ],
      "execution_count": null,
      "outputs": [
        {
          "output_type": "execute_result",
          "data": {
            "text/plain": [
              "tensor([0.8281, 1.8437])"
            ]
          },
          "metadata": {},
          "execution_count": 25
        }
      ]
    },
    {
      "cell_type": "code",
      "metadata": {
        "colab": {
          "base_uri": "https://localhost:8080/"
        },
        "id": "d0mJJrT01X28",
        "outputId": "260bd268-930f-4581-de66-ca49c38e61dc"
      },
      "source": [
        "# view 함수 -> 사이즈를 자유롭게 바꿔줄 수 있다.\n",
        "\n",
        "x = torch.rand(8,8)\n",
        "print(x)"
      ],
      "execution_count": null,
      "outputs": [
        {
          "output_type": "stream",
          "text": [
            "tensor([[0.7132, 0.7099, 0.1952, 0.5424, 0.1156, 0.0904, 0.1458, 0.4447],\n",
            "        [0.5022, 0.3818, 0.0753, 0.4596, 0.1301, 0.2926, 0.2619, 0.9827],\n",
            "        [0.4766, 0.1041, 0.8072, 0.3585, 0.5567, 0.6800, 0.1132, 0.7139],\n",
            "        [0.6712, 0.1297, 0.0141, 0.5364, 0.5082, 0.8289, 0.6395, 0.4330],\n",
            "        [0.5812, 0.5240, 0.6789, 0.6718, 0.2540, 0.7784, 0.6737, 0.7228],\n",
            "        [0.5543, 0.0322, 0.2613, 0.8569, 0.7168, 0.6699, 0.9896, 0.7602],\n",
            "        [0.7060, 0.3893, 0.7684, 0.3274, 0.6006, 0.8840, 0.4101, 0.1233],\n",
            "        [0.3469, 0.8662, 0.6939, 0.3821, 0.4065, 0.4186, 0.7537, 0.2914]])\n"
          ],
          "name": "stdout"
        }
      ]
    },
    {
      "cell_type": "code",
      "metadata": {
        "colab": {
          "base_uri": "https://localhost:8080/"
        },
        "id": "XCoptrUg1X5g",
        "outputId": "05b62a39-5bcc-4ce7-f198-1e383fe6c037"
      },
      "source": [
        "x.view(64) # 한줄로 만들어주겠다 ..^^"
      ],
      "execution_count": null,
      "outputs": [
        {
          "output_type": "execute_result",
          "data": {
            "text/plain": [
              "tensor([0.7132, 0.7099, 0.1952, 0.5424, 0.1156, 0.0904, 0.1458, 0.4447, 0.5022,\n",
              "        0.3818, 0.0753, 0.4596, 0.1301, 0.2926, 0.2619, 0.9827, 0.4766, 0.1041,\n",
              "        0.8072, 0.3585, 0.5567, 0.6800, 0.1132, 0.7139, 0.6712, 0.1297, 0.0141,\n",
              "        0.5364, 0.5082, 0.8289, 0.6395, 0.4330, 0.5812, 0.5240, 0.6789, 0.6718,\n",
              "        0.2540, 0.7784, 0.6737, 0.7228, 0.5543, 0.0322, 0.2613, 0.8569, 0.7168,\n",
              "        0.6699, 0.9896, 0.7602, 0.7060, 0.3893, 0.7684, 0.3274, 0.6006, 0.8840,\n",
              "        0.4101, 0.1233, 0.3469, 0.8662, 0.6939, 0.3821, 0.4065, 0.4186, 0.7537,\n",
              "        0.2914])"
            ]
          },
          "metadata": {},
          "execution_count": 28
        }
      ]
    },
    {
      "cell_type": "code",
      "metadata": {
        "colab": {
          "base_uri": "https://localhost:8080/"
        },
        "id": "MRoLEhHu1X8E",
        "outputId": "074ea79e-c828-4b28-fffa-5ac50ebc5c62"
      },
      "source": [
        "x.view(4, 16) # 4*16의 행렬로 변환할 수 있다."
      ],
      "execution_count": null,
      "outputs": [
        {
          "output_type": "execute_result",
          "data": {
            "text/plain": [
              "tensor([[0.7132, 0.7099, 0.1952, 0.5424, 0.1156, 0.0904, 0.1458, 0.4447, 0.5022,\n",
              "         0.3818, 0.0753, 0.4596, 0.1301, 0.2926, 0.2619, 0.9827],\n",
              "        [0.4766, 0.1041, 0.8072, 0.3585, 0.5567, 0.6800, 0.1132, 0.7139, 0.6712,\n",
              "         0.1297, 0.0141, 0.5364, 0.5082, 0.8289, 0.6395, 0.4330],\n",
              "        [0.5812, 0.5240, 0.6789, 0.6718, 0.2540, 0.7784, 0.6737, 0.7228, 0.5543,\n",
              "         0.0322, 0.2613, 0.8569, 0.7168, 0.6699, 0.9896, 0.7602],\n",
              "        [0.7060, 0.3893, 0.7684, 0.3274, 0.6006, 0.8840, 0.4101, 0.1233, 0.3469,\n",
              "         0.8662, 0.6939, 0.3821, 0.4065, 0.4186, 0.7537, 0.2914]])"
            ]
          },
          "metadata": {},
          "execution_count": 29
        }
      ]
    },
    {
      "cell_type": "code",
      "metadata": {
        "colab": {
          "base_uri": "https://localhost:8080/"
        },
        "id": "7BUm5Kkm1X-k",
        "outputId": "e1d9a2c1-5e9e-4cb2-cefc-1e97a95e9ebc"
      },
      "source": [
        "x.view(-1, 16) # -1을 넣어주면 결국 64 만들기 위해서 자기가 알아서 게산한다긔\n",
        "# cnn인 경우에 conv -> fc layer로 넘어갈 때 정사각형 이미지를 일렬로 펴줄 때 사용한다."
      ],
      "execution_count": null,
      "outputs": [
        {
          "output_type": "execute_result",
          "data": {
            "text/plain": [
              "tensor([[0.7132, 0.7099, 0.1952, 0.5424, 0.1156, 0.0904, 0.1458, 0.4447, 0.5022,\n",
              "         0.3818, 0.0753, 0.4596, 0.1301, 0.2926, 0.2619, 0.9827],\n",
              "        [0.4766, 0.1041, 0.8072, 0.3585, 0.5567, 0.6800, 0.1132, 0.7139, 0.6712,\n",
              "         0.1297, 0.0141, 0.5364, 0.5082, 0.8289, 0.6395, 0.4330],\n",
              "        [0.5812, 0.5240, 0.6789, 0.6718, 0.2540, 0.7784, 0.6737, 0.7228, 0.5543,\n",
              "         0.0322, 0.2613, 0.8569, 0.7168, 0.6699, 0.9896, 0.7602],\n",
              "        [0.7060, 0.3893, 0.7684, 0.3274, 0.6006, 0.8840, 0.4101, 0.1233, 0.3469,\n",
              "         0.8662, 0.6939, 0.3821, 0.4065, 0.4186, 0.7537, 0.2914]])"
            ]
          },
          "metadata": {},
          "execution_count": 30
        }
      ]
    },
    {
      "cell_type": "code",
      "metadata": {
        "colab": {
          "base_uri": "https://localhost:8080/"
        },
        "id": "ippSn-aW2k9Z",
        "outputId": "9132e8c2-5d11-4613-aac4-e63dae1b6a46"
      },
      "source": [
        "# tensor에서 numpy로 넘어가기\n",
        "y = x.numpy()\n",
        "print(y) "
      ],
      "execution_count": null,
      "outputs": [
        {
          "output_type": "stream",
          "text": [
            "[[0.7131503  0.70990765 0.19518661 0.54244804 0.11561865 0.09044588\n",
            "  0.14584595 0.4447133 ]\n",
            " [0.5022121  0.38176453 0.07525802 0.45959777 0.13011438 0.29264212\n",
            "  0.26191175 0.9827154 ]\n",
            " [0.47662246 0.10409927 0.8071862  0.35849953 0.5566648  0.6799857\n",
            "  0.11323869 0.71387714]\n",
            " [0.67124665 0.12966388 0.01408136 0.5364081  0.50818074 0.8289325\n",
            "  0.6395027  0.4330234 ]\n",
            " [0.5811778  0.5240132  0.67891777 0.6717996  0.25404096 0.7784378\n",
            "  0.6736847  0.7227898 ]\n",
            " [0.554295   0.03221619 0.2613023  0.85688525 0.71680975 0.6698792\n",
            "  0.989569   0.76017714]\n",
            " [0.7060319  0.389265   0.7683992  0.32737094 0.6006412  0.8839755\n",
            "  0.41008854 0.12329131]\n",
            " [0.34693313 0.8662183  0.6938842  0.38212234 0.40653855 0.41860914\n",
            "  0.7537241  0.29137248]]\n"
          ],
          "name": "stdout"
        }
      ]
    },
    {
      "cell_type": "code",
      "metadata": {
        "colab": {
          "base_uri": "https://localhost:8080/"
        },
        "id": "oKZbdlXz2k_s",
        "outputId": "d6ae0ed6-754d-41a1-cb23-ae3fa2aa29c0"
      },
      "source": [
        "type(y)"
      ],
      "execution_count": null,
      "outputs": [
        {
          "output_type": "execute_result",
          "data": {
            "text/plain": [
              "numpy.ndarray"
            ]
          },
          "metadata": {},
          "execution_count": 33
        }
      ]
    },
    {
      "cell_type": "code",
      "metadata": {
        "colab": {
          "base_uri": "https://localhost:8080/"
        },
        "id": "jke2GHhY2lB-",
        "outputId": "3886f7e2-9e0b-4cfc-a76b-b473abc6f1a0"
      },
      "source": [
        "# item() 메소드는 tensor가 scholar일 때만 사용 가능하다 (원소가 1개일 때)\n",
        "\n",
        "x = torch.ones(1)\n",
        "print(x)"
      ],
      "execution_count": null,
      "outputs": [
        {
          "output_type": "stream",
          "text": [
            "tensor([1.])\n"
          ],
          "name": "stdout"
        }
      ]
    },
    {
      "cell_type": "code",
      "metadata": {
        "colab": {
          "base_uri": "https://localhost:8080/"
        },
        "id": "wAjx3x7d2lEQ",
        "outputId": "beeb9ad3-c456-455a-8cc1-0bc92ae72e59"
      },
      "source": [
        "x.item() # x안의 값을 뽑아내는 방법 -> loss function 계산할 때 loss값이 하나만 나오니까..\n",
        "# floating 할 때나 볼 때 사용하기 때문에 자주 쓸 수 있다."
      ],
      "execution_count": null,
      "outputs": [
        {
          "output_type": "execute_result",
          "data": {
            "text/plain": [
              "1.0"
            ]
          },
          "metadata": {},
          "execution_count": 36
        }
      ]
    },
    {
      "cell_type": "markdown",
      "metadata": {
        "id": "HS9Hd2Cj3oza"
      },
      "source": [
        "# Data Load\n",
        "\n",
        "1. 파이토치 제공 데이터 사용할 때 \n",
        "2. 같은 클래스 별 폴더 이미지 데이터 사용할 때\n",
        "3. 개인 데이터 사용할 때 (2 types)"
      ]
    },
    {
      "cell_type": "code",
      "metadata": {
        "id": "IN6ME5LD2lGt"
      },
      "source": [
        "import torch \n",
        "import torchvision\n",
        "import torchvision.transforms as tr # 데이터를 불러오면서 바로 전처리할 수 있게 해주는 lib\n",
        "from torch.utils.data import DataLoader, Dataset # dataloader는 batchsize 형태로 만들어서 실제로 학습할 때 이용할 수 있는 형태를 만들어주는 lib\n",
        "# dataset은 tuning할 때 사용한다.\n",
        "import numpy as np"
      ],
      "execution_count": null,
      "outputs": []
    },
    {
      "cell_type": "code",
      "metadata": {
        "id": "Wr6gzcZF5HnE"
      },
      "source": [
        "transform = tr.Compose([tr.Resize(8), tr.ToTensor()])\n",
        "# (8, 8)로 resize하고 tensor data로 바꿔주는 작업\n",
        "\n",
        "# Transforms on PIL Image -> 처음에 들어오는 데미지는 PIL form으로 들어옴. 이거 아니면 오류남.\n",
        "# Pad, Grayscale, RandomCrop, Normalize 등 다양한 전처리 작업 방법이 있으니 직접 찾아보고 할 것!"
      ],
      "execution_count": null,
      "outputs": []
    },
    {
      "cell_type": "code",
      "metadata": {
        "colab": {
          "base_uri": "https://localhost:8080/",
          "height": 104,
          "referenced_widgets": [
            "4d9dae76ad3241e3bae413d1f71b945b",
            "ce836b1efcd64197b16ea61573fbde44",
            "88603253b8e7453797b80535f9080588",
            "9cb1ffc8e4554bc4860b3bdda6c46c73",
            "1242744475df47eb84abcffacf2e1b7a",
            "5fc2113b2b4a4d6bb08b2923f8c52ba2",
            "90c0bad4ecec47609cd0332fe8ceede6",
            "4620f70ad1f7444a81d78ac5e4870bb4",
            "4e596f9d71b846c4bd27c4e72fcebed5",
            "e72809e052204b72b38452d840b2c94d",
            "35d2143a42f5498cba7f78d689d62581"
          ]
        },
        "id": "Iqz_GH4k2lJE",
        "outputId": "90b8fb72-9fab-43d8-b711-1486781c55aa"
      },
      "source": [
        "trainset = torchvision.datasets.CIFAR10(root = './data', train = True, download  = True, transform = transform)\n",
        "testset = torchvision.datasets.CIFAR10(root = './data', train = False, download = True, transform = transform)\n",
        "# transform은 다운로드 받고 들어오는 애들에 대해서 전처리를 해주겠다."
      ],
      "execution_count": null,
      "outputs": [
        {
          "output_type": "stream",
          "text": [
            "Downloading https://www.cs.toronto.edu/~kriz/cifar-10-python.tar.gz to ./data/cifar-10-python.tar.gz\n"
          ],
          "name": "stdout"
        },
        {
          "output_type": "display_data",
          "data": {
            "application/vnd.jupyter.widget-view+json": {
              "model_id": "4d9dae76ad3241e3bae413d1f71b945b",
              "version_minor": 0,
              "version_major": 2
            },
            "text/plain": [
              "  0%|          | 0/170498071 [00:00<?, ?it/s]"
            ]
          },
          "metadata": {}
        },
        {
          "output_type": "stream",
          "text": [
            "Extracting ./data/cifar-10-python.tar.gz to ./data\n",
            "Files already downloaded and verified\n"
          ],
          "name": "stdout"
        }
      ]
    },
    {
      "cell_type": "code",
      "metadata": {
        "colab": {
          "base_uri": "https://localhost:8080/"
        },
        "id": "uSWDj4za5kEj",
        "outputId": "a6a0ea06-744d-441e-d60e-7940c76035d0"
      },
      "source": [
        "trainset[0][0].size() # 이 형태를 잘 봐야한다. (채널 수, 이미지 크기)"
      ],
      "execution_count": null,
      "outputs": [
        {
          "output_type": "execute_result",
          "data": {
            "text/plain": [
              "torch.Size([3, 8, 8])"
            ]
          },
          "metadata": {},
          "execution_count": 42
        }
      ]
    },
    {
      "cell_type": "code",
      "metadata": {
        "id": "StDlE0zD2lLf"
      },
      "source": [
        "trainloader = DataLoader(trainset, batch_size = 50, shuffle = True, num_workers = 2)\n",
        "testloader = DataLoader(testset, batch_size = 50, shuffle = True, num_workers= 2)\n",
        "\n",
        "# num_workers -> 데이터를 load할 때 sub process 몇개 쓸래? 에러나면 0으로 놔도 상관 X\n",
        "# 여기까지만 하면 batch 형태로 알아서 분류해놔서 바로 모델 돌릴 수 있다."
      ],
      "execution_count": null,
      "outputs": []
    },
    {
      "cell_type": "code",
      "metadata": {
        "colab": {
          "base_uri": "https://localhost:8080/"
        },
        "id": "6uqS87ol6ZEW",
        "outputId": "c92141fd-3ea1-4ee5-f661-25e3591c92f6"
      },
      "source": [
        "len(trainloader)\n",
        "\n",
        "# 데이터 갯수 5만개, batch size 50, 따라서 batch(50개)짜리가 천개 있슴당\n",
        "# 5만개를 잘 나누었다!"
      ],
      "execution_count": null,
      "outputs": [
        {
          "output_type": "execute_result",
          "data": {
            "text/plain": [
              "1000"
            ]
          },
          "metadata": {},
          "execution_count": 46
        }
      ]
    },
    {
      "cell_type": "code",
      "metadata": {
        "id": "ULT8XHG16lbn"
      },
      "source": [
        "# 실제 값을 보고 싶을 땐?\n",
        "\n",
        "dataiter = iter(trainloader)\n",
        "images, labels = dataiter.next() # 하나씩 불러올게"
      ],
      "execution_count": null,
      "outputs": []
    },
    {
      "cell_type": "code",
      "metadata": {
        "colab": {
          "base_uri": "https://localhost:8080/"
        },
        "id": "auxVQMNF6vqJ",
        "outputId": "0ad7393a-a6c2-4667-f475-230651706ca0"
      },
      "source": [
        "images.size() \n",
        "# torch.Size([50, 3, 8, 8]) -> batch size 50, 채널수 3개, 크기(너비8*높이8)"
      ],
      "execution_count": null,
      "outputs": [
        {
          "output_type": "execute_result",
          "data": {
            "text/plain": [
              "torch.Size([50, 3, 8, 8])"
            ]
          },
          "metadata": {},
          "execution_count": 48
        }
      ]
    },
    {
      "cell_type": "markdown",
      "metadata": {
        "id": "dRCQW7Y06_Uu"
      },
      "source": [
        "### 개인 데이터를 사용할 때 \n",
        "1) 같은 클래스 별 폴더 이미지 데이터를 사용"
      ]
    },
    {
      "cell_type": "code",
      "metadata": {
        "id": "w-nTVKRO70bu"
      },
      "source": [
        "# ./class/tiger  ./class/lion\n",
        "\n",
        "transform = tr.Compose([tr.Resize(16), tr.ToTensor()])\n",
        "trainset = torchvision.datasets.ImageFolder(root = './class', transform = transform)\n",
        "# class 안에 있는 image들을 알아서 search해준다. 각각의 폴더에 대해 알아서 labeling 매겨준다. 게다가 전처리까지 된다!\n",
        "trainloader = DataLoader(trainset, batch_size = 50, shuffle = True, num_workers = 2)\n",
        "print(len(trainloader()))"
      ],
      "execution_count": null,
      "outputs": []
    },
    {
      "cell_type": "markdown",
      "metadata": {
        "id": "pRaTwZN08LU8"
      },
      "source": [
        "2) 개인 데이터 사용 (2 types)"
      ]
    },
    {
      "cell_type": "code",
      "metadata": {
        "colab": {
          "base_uri": "https://localhost:8080/"
        },
        "id": "Ccu-dNQZ70d9",
        "outputId": "d837c382-8d71-4985-ba9a-5aaac13d7b86"
      },
      "source": [
        "train_images = np.random.randint(256, size = (20, 32, 32, 3))\n",
        "train_labels = np.random.randint(2, size = (20, 1))\n",
        "\n",
        "# preprocessing... 전처리를 먼저 하면 더 좋다.\n",
        "# train_images, train_labels = preprocessing(train_images, train_labels)\n",
        "\n",
        "print(train_images.shape, train_labels.shape)\n",
        "\n",
        "# 데이터 이따구로 들어와 있다고 가정합시다. "
      ],
      "execution_count": null,
      "outputs": [
        {
          "output_type": "stream",
          "text": [
            "(20, 32, 32, 3) (20, 1)\n"
          ],
          "name": "stdout"
        }
      ]
    },
    {
      "cell_type": "code",
      "metadata": {
        "id": "g6ccQUqf70gJ"
      },
      "source": [
        "# 그리고 본 양식을 기억해 두어야 한다!\n",
        "\n",
        "class TensorData(Dataset): # 아까 받아온 Dataset을 상속받을 class 만들어주기...\n",
        "\n",
        "  def __init__(self, x_data, y_data): \n",
        "    self.x_data = torch.FloatTensor(x_data) # x_data가 tensor로 바뀌게 만들어줌.\n",
        "    self.x_data = self.x_data.permute(0,3,1,2) # 이미지 개수, 채널 수, 이미지 너비, 높이\n",
        "    # permute 함수를 이용해서 순서를 바꿔주는 것 size 찍어서 위에꺼랑 확인해봐야한다.\n",
        "    self.y_data = torch.LongTensor(y_data)\n",
        "    # tensor 종류 여러개.. 그냥일수도 있고 float long 정할 수도 있다.\n",
        "    self.len = self.y_data.shape[0]\n",
        "\n",
        "  def __getitem__(self, index): # x, y를 튜플 형태로 내보내게 한다.\n",
        "    return self.x_data[index], self.y_data[index]\n",
        "\n",
        "  def __len__(self):\n",
        "    return self.len"
      ],
      "execution_count": null,
      "outputs": []
    },
    {
      "cell_type": "code",
      "metadata": {
        "id": "4T_bBvqu70ii"
      },
      "source": [
        "train_data = TensorData(train_images, train_labels)\n",
        "train_lodaer = DataLoader(train_data, batch_size = 10, shuffle = True)"
      ],
      "execution_count": null,
      "outputs": []
    },
    {
      "cell_type": "code",
      "metadata": {
        "colab": {
          "base_uri": "https://localhost:8080/"
        },
        "id": "fLJs7Xtc-RoY",
        "outputId": "c2d4dbed-3bd1-4ed5-d093-18add3f8f366"
      },
      "source": [
        "train_data[0][0].size()"
      ],
      "execution_count": null,
      "outputs": [
        {
          "output_type": "execute_result",
          "data": {
            "text/plain": [
              "torch.Size([3, 32, 32])"
            ]
          },
          "metadata": {},
          "execution_count": 57
        }
      ]
    },
    {
      "cell_type": "code",
      "metadata": {
        "id": "gi4spF-t-YQ4"
      },
      "source": [
        "dataiter = iter(train_lodaer)\n",
        "images, labels = dataiter.next()"
      ],
      "execution_count": null,
      "outputs": []
    },
    {
      "cell_type": "code",
      "metadata": {
        "colab": {
          "base_uri": "https://localhost:8080/"
        },
        "id": "DdRnY2ul-YTD",
        "outputId": "3ef0d69c-8385-4e1f-c7ca-0b865b9c6b7b"
      },
      "source": [
        "images.size()"
      ],
      "execution_count": null,
      "outputs": [
        {
          "output_type": "execute_result",
          "data": {
            "text/plain": [
              "torch.Size([10, 3, 32, 32])"
            ]
          },
          "metadata": {},
          "execution_count": 59
        }
      ]
    },
    {
      "cell_type": "markdown",
      "metadata": {
        "id": "3V_HB0mj-8w0"
      },
      "source": [
        "개인 데이터 + transform"
      ]
    },
    {
      "cell_type": "code",
      "metadata": {
        "id": "Oif10AcK-YVW"
      },
      "source": [
        "# 이게 기본 양식.. 나머지는 원하는대로 작업\n",
        "\n",
        "from torch.utils.data import Dataset\n",
        "\n",
        "class MyDataset(Dataset):\n",
        "\n",
        "  def __inint__(self):\n",
        "\n",
        "  def __getitem__(self, index):\n",
        "\n",
        "  def __len__(self):"
      ],
      "execution_count": null,
      "outputs": []
    },
    {
      "cell_type": "code",
      "metadata": {
        "id": "c-A3Bo19-YXr"
      },
      "source": [
        "from torch.utils.data import Dataset\n",
        "\n",
        "class MyDataset(Dataset):\n",
        "\n",
        "  def __init__(self, x_data, y_data, transform = None): # transform 디폴트 값 안주겠다는 떳..\n",
        "    self.x_data = x_data\n",
        "    self.y_data = y_data\n",
        "    self.transform = transform # 뭔가 들어오면 그냥 그거 쓰셈.\n",
        "    self.len = len(y_data)\n",
        "\n",
        "  def __getitem__(self, index):\n",
        "    sample = self.x_data[index], self.y_data[index]\n",
        "    \n",
        "    if self.transform:\n",
        "      sample = self.transform(sample)\n",
        "    \n",
        "    return sample # transform이 있으므로 내보내 주기 전에 위에서 transform 전처리 작업을 하겠다.\n",
        "\n",
        "  def __len__(self):\n",
        "    return self.len\n",
        "\n",
        "\n",
        "class ToTensor: # ToTensor -> 텐서를 바꿔주는 클래스 \n",
        "\n",
        "  def __call__(self, sample): # call 함수\n",
        "    inputs, labels = sample\n",
        "    inputs = torch.FloatTensor(inputs) # input은 float\n",
        "    inputs = inputs.permute(2,0,1) # 이미지 사이즈 바꾸고\n",
        "    return inputs, torch.LongTensor(labels) # 나갈 때 tensor\n",
        "\n",
        "\n",
        "\n",
        "class LinearTensor:\n",
        "\n",
        "  def __init__(self, slope = 1, bias = 0):\n",
        "      self.slope = slope\n",
        "      self.bias = bias\n",
        "\n",
        "  def __call__(self, sample):\n",
        "      inputs, labels = sample\n",
        "      inputs = self.slope*inputs + self.bias # slope랑 bias가 있어야 하므로.. 위에서 받아올 수 있게 init 지정해주어야 한다.\n",
        "      return inputs, labels\n",
        "  "
      ],
      "execution_count": 74,
      "outputs": []
    },
    {
      "cell_type": "code",
      "metadata": {
        "id": "Mmg3Zpop-YaD"
      },
      "source": [
        "trans = tr.Compose([ToTensor(), LinearTensor(2,5)]) # slope 2 bias 5\n",
        "ds1 = MyDataset(train_images, train_labels, transform = trans)\n",
        "train_loader1 = DataLoader(ds1, batch_size = 10, shuffle = True)"
      ],
      "execution_count": 75,
      "outputs": []
    },
    {
      "cell_type": "code",
      "metadata": {
        "id": "_YUE9sH7BSBm",
        "colab": {
          "base_uri": "https://localhost:8080/"
        },
        "outputId": "922a8d78-822e-4afa-cce5-5d30fced3fc6"
      },
      "source": [
        "images"
      ],
      "execution_count": 77,
      "outputs": [
        {
          "output_type": "execute_result",
          "data": {
            "text/plain": [
              "tensor([[[[163., 218., 105.,  ...,  35., 201., 121.],\n",
              "          [235., 176., 250.,  ...,  97., 221., 131.],\n",
              "          [149.,  15.,  11.,  ..., 185.,  45., 140.],\n",
              "          ...,\n",
              "          [133.,  88.,  34.,  ...,  50., 194.,  20.],\n",
              "          [108., 255.,  40.,  ...,  98., 105., 100.],\n",
              "          [204.,  62., 107.,  ...,  26., 241., 113.]],\n",
              "\n",
              "         [[137., 237.,  17.,  ...,  30.,  33., 135.],\n",
              "          [ 41., 217.,  77.,  ..., 208., 170., 122.],\n",
              "          [ 63., 202., 204.,  ...,  30., 162.,   1.],\n",
              "          ...,\n",
              "          [ 57., 252., 213.,  ...,  56.,  11., 226.],\n",
              "          [146., 155., 136.,  ...,  28.,  72., 207.],\n",
              "          [135.,  10.,  98.,  ...,   1., 180.,  94.]],\n",
              "\n",
              "         [[216., 113., 112.,  ..., 149., 152., 110.],\n",
              "          [224., 130., 211.,  ..., 202., 125., 255.],\n",
              "          [ 79.,  99., 230.,  ...,  53.,  87., 176.],\n",
              "          ...,\n",
              "          [ 91., 105., 133.,  ..., 215., 240., 199.],\n",
              "          [191., 248.,  38.,  ..., 252., 225., 120.],\n",
              "          [147.,  60.,  42.,  ...,  90.,  12., 230.]]],\n",
              "\n",
              "\n",
              "        [[[204.,  91., 187.,  ..., 174., 104.,  18.],\n",
              "          [152., 223., 217.,  ...,  32., 234., 218.],\n",
              "          [251.,  57.,  68.,  ...,  69., 108., 145.],\n",
              "          ...,\n",
              "          [119., 124., 117.,  ...,  87.,  13., 190.],\n",
              "          [111.,  91., 162.,  ..., 157., 104., 249.],\n",
              "          [252., 163., 234.,  ...,  36., 168.,  52.]],\n",
              "\n",
              "         [[194., 156., 166.,  ..., 195., 222., 172.],\n",
              "          [  9., 190.,  28.,  ..., 140., 221., 131.],\n",
              "          [100., 238.,  68.,  ..., 187.,  57., 153.],\n",
              "          ...,\n",
              "          [ 29., 172., 218.,  ..., 157., 102., 136.],\n",
              "          [232., 202.,  43.,  ..., 138., 233., 160.],\n",
              "          [ 81., 188., 170.,  ..., 136.,  39.,  14.]],\n",
              "\n",
              "         [[143.,  32.,  70.,  ..., 105.,  52., 180.],\n",
              "          [ 79., 114., 157.,  ...,  41., 218.,  13.],\n",
              "          [ 40.,  48., 161.,  ..., 137.,  38., 223.],\n",
              "          ...,\n",
              "          [ 77., 148., 224.,  ..., 253., 149., 185.],\n",
              "          [238., 197., 130.,  ..., 181., 107.,  16.],\n",
              "          [  7., 163., 236.,  ..., 199., 128.,  73.]]],\n",
              "\n",
              "\n",
              "        [[[195.,  87., 245.,  ...,  79., 120.,  95.],\n",
              "          [171., 104.,  25.,  ..., 209., 201., 166.],\n",
              "          [ 69.,  98., 101.,  ..., 216.,  59.,  44.],\n",
              "          ...,\n",
              "          [ 40., 178.,  58.,  ...,  80.,  81., 233.],\n",
              "          [167.,   2.,  88.,  ..., 238., 141.,   8.],\n",
              "          [236.,  69.,  64.,  ...,   3., 154., 174.]],\n",
              "\n",
              "         [[ 78.,   4., 117.,  ..., 237., 193.,  17.],\n",
              "          [179., 206.,  12.,  ...,  78.,  51., 236.],\n",
              "          [147., 249.,  36.,  ...,  51.,  40., 177.],\n",
              "          ...,\n",
              "          [ 29., 243., 239.,  ...,  51.,   6.,  30.],\n",
              "          [ 51., 132.,  88.,  ..., 205., 242.,  54.],\n",
              "          [121., 120.,  95.,  ..., 238., 218., 155.]],\n",
              "\n",
              "         [[134., 100., 236.,  ..., 148., 198., 194.],\n",
              "          [142., 169.,  17.,  ..., 227., 124., 232.],\n",
              "          [ 16.,  20., 114.,  ..., 202., 183., 161.],\n",
              "          ...,\n",
              "          [ 43., 124., 194.,  ..., 200.,  18.,   7.],\n",
              "          [179.,  96., 216.,  ...,  23.,  39., 251.],\n",
              "          [ 76., 194., 185.,  ..., 145., 243., 101.]]],\n",
              "\n",
              "\n",
              "        ...,\n",
              "\n",
              "\n",
              "        [[[170., 190.,  61.,  ...,  43., 159.,  49.],\n",
              "          [148., 105.,  92.,  ..., 180., 145.,  39.],\n",
              "          [122., 239., 240.,  ...,  83.,  20., 115.],\n",
              "          ...,\n",
              "          [ 98., 175., 136.,  ...,  75., 175., 125.],\n",
              "          [ 13., 206.,  74.,  ..., 140., 225., 183.],\n",
              "          [ 19.,  39., 228.,  ...,  11.,  60.,  19.]],\n",
              "\n",
              "         [[ 19.,  55., 101.,  ..., 161., 231.,   4.],\n",
              "          [ 43.,  94., 169.,  ..., 178., 183.,  98.],\n",
              "          [219., 216., 228.,  ..., 112., 188.,  84.],\n",
              "          ...,\n",
              "          [199.,  38., 231.,  ..., 127.,  69.,  63.],\n",
              "          [238.,  68.,  52.,  ..., 103., 215., 249.],\n",
              "          [ 23., 138., 195.,  ..., 110., 151., 141.]],\n",
              "\n",
              "         [[ 35., 146., 156.,  ...,  66., 110., 193.],\n",
              "          [ 21., 101., 164.,  ...,  68., 250., 195.],\n",
              "          [109., 234., 220.,  ..., 193., 200., 221.],\n",
              "          ...,\n",
              "          [196., 118., 253.,  ..., 181.,  75., 215.],\n",
              "          [251., 195., 162.,  ..., 134., 209.,  81.],\n",
              "          [ 44., 130., 187.,  ...,  92.,  49.,  89.]]],\n",
              "\n",
              "\n",
              "        [[[ 19., 161., 143.,  ..., 125.,  30., 171.],\n",
              "          [184., 232., 204.,  ..., 246., 212., 140.],\n",
              "          [115., 133., 202.,  ...,  42.,  66., 139.],\n",
              "          ...,\n",
              "          [ 15., 230.,  18.,  ...,  53., 230., 135.],\n",
              "          [132.,  64.,  91.,  ...,  40., 121., 238.],\n",
              "          [239., 217., 117.,  ..., 177.,  84., 182.]],\n",
              "\n",
              "         [[ 54.,  84.,   4.,  ..., 152., 241., 124.],\n",
              "          [217.,  33.,  78.,  ..., 149., 123.,   7.],\n",
              "          [ 69., 222.,  33.,  ..., 161.,  36.,  59.],\n",
              "          ...,\n",
              "          [155.,  31.,  64.,  ..., 168., 102., 192.],\n",
              "          [ 59.,  23.,   6.,  ...,  47.,  60., 127.],\n",
              "          [ 57., 206., 226.,  ..., 108., 135., 141.]],\n",
              "\n",
              "         [[175., 198.,  93.,  ..., 118., 105., 201.],\n",
              "          [ 32., 252.,  75.,  ...,  15.,  75., 102.],\n",
              "          [250., 247., 150.,  ..., 132., 141.,  13.],\n",
              "          ...,\n",
              "          [ 68.,  91.,  69.,  ...,  98., 219.,  96.],\n",
              "          [  6., 191., 147.,  ..., 215., 133., 138.],\n",
              "          [ 78.,  95.,  34.,  ..., 242., 252.,  20.]]],\n",
              "\n",
              "\n",
              "        [[[149.,  75., 159.,  ..., 191.,  25., 246.],\n",
              "          [ 92.,  28., 116.,  ...,  15., 191., 236.],\n",
              "          [  8., 111., 146.,  ...,  90.,  56., 193.],\n",
              "          ...,\n",
              "          [109., 103., 255.,  ..., 243.,  41., 171.],\n",
              "          [ 17., 152.,  93.,  ..., 237.,  16.,  83.],\n",
              "          [253., 121.,   4.,  ...,  60., 151., 142.]],\n",
              "\n",
              "         [[120.,  25., 202.,  ..., 149., 216., 238.],\n",
              "          [172., 240.,  36.,  ...,  34.,  70.,  29.],\n",
              "          [ 54., 224.,  69.,  ...,  79.,  54., 162.],\n",
              "          ...,\n",
              "          [ 66.,  15., 156.,  ...,  60.,  39., 174.],\n",
              "          [105., 173., 225.,  ...,  65., 200.,  32.],\n",
              "          [132.,  76., 145.,  ...,  87., 247.,  40.]],\n",
              "\n",
              "         [[ 61., 131., 103.,  ...,  13.,  86., 168.],\n",
              "          [199., 150., 171.,  ...,  60., 130.,  11.],\n",
              "          [149., 146.,  62.,  ..., 252., 139., 237.],\n",
              "          ...,\n",
              "          [ 21., 119., 255.,  ..., 201., 195.,  98.],\n",
              "          [212.,  91., 254.,  ..., 173.,  58., 247.],\n",
              "          [209., 139.,   9.,  ..., 199., 188., 180.]]]])"
            ]
          },
          "metadata": {},
          "execution_count": 77
        }
      ]
    },
    {
      "cell_type": "code",
      "metadata": {
        "id": "bC5WKDBAV78-"
      },
      "source": [
        "# 위에서는 numpy형태로 받아왔기 때문에 tr.~를 사용할 수 없다 .\n",
        "# 만약 쓰고 싶으면 아래의 MyTrnasform 함수를 사용하는 게 좋다!\n",
        "\n",
        "class MyDataset(Dataset):\n",
        "  \n",
        "  def __init__(self, x_data, y_data, trainsform = None):\n",
        "\n",
        "    self.x_data = x_data\n",
        "    self.y_data = y_data\n",
        "    self.transform = transform\n",
        "    self.len = len(y_data)\n",
        "\n",
        "  def __getitem__(self, index):\n",
        "    sample = self.x_data[index], self.y_data[index]\n",
        "\n",
        "    if self.transform:\n",
        "      sample = self.transform(sample)\n",
        "\n",
        "      return sample\n",
        "\n",
        "  def __len__(self):\n",
        "    return self.len\n",
        "\n",
        "\n",
        "class MyTransform:\n",
        "\n",
        "  def __call__(self, sample):\n",
        "    inputs, labels = sample\n",
        "    inputs = torch.FloatTensor(inputs)\n",
        "    inputs = inputs.permute(2,0,1)\n",
        "    labels = torch.FloatTensor(labels) # 일단 tensor로 만들어준다.\n",
        "\n",
        "    transf = tr.Compose([tr.ToPILImage(), tr.Resize(120), tr.ToTensor(), tr.Normalize((0.5, 0.5, 0.5), (0.5,0.5,0.5))])\n",
        "    # PILImage로 만들어주는 함수를 사용하고, Resize 하고 이것저것 할 수 있다.\n",
        "    \n",
        "    final_output = transf(inputs)\n",
        "\n",
        "    return final_output, labels"
      ],
      "execution_count": 65,
      "outputs": []
    },
    {
      "cell_type": "code",
      "metadata": {
        "id": "0PXVTToRV7_c"
      },
      "source": [
        "ds2 = MyDataset(train_images, train_labels, transform = MyTransform())\n",
        "train_loader2 = DataLoader(ds2, batch_size = 10, shuffle = True)"
      ],
      "execution_count": 78,
      "outputs": []
    },
    {
      "cell_type": "code",
      "metadata": {
        "colab": {
          "base_uri": "https://localhost:8080/"
        },
        "id": "lhkFNoPwV8B1",
        "outputId": "ee725ede-3293-4887-fa44-51766e07338a"
      },
      "source": [
        "first_data = ds2[0]\n",
        "features, labels = first_data\n",
        "print(type(features), type(labels))"
      ],
      "execution_count": 79,
      "outputs": [
        {
          "output_type": "stream",
          "text": [
            "<class 'torch.Tensor'> <class 'torch.Tensor'>\n"
          ],
          "name": "stdout"
        }
      ]
    },
    {
      "cell_type": "code",
      "metadata": {
        "id": "g-LjWsvnV8D_"
      },
      "source": [
        "dataiter2 = iter(train_loader2)\n",
        "images2, labels2 = dataiter2.next()"
      ],
      "execution_count": 80,
      "outputs": []
    },
    {
      "cell_type": "code",
      "metadata": {
        "colab": {
          "base_uri": "https://localhost:8080/"
        },
        "id": "A734qh3CV8GN",
        "outputId": "de4ec254-c399-4c6b-a93a-85d1d4d3a20d"
      },
      "source": [
        "images2.size()"
      ],
      "execution_count": 81,
      "outputs": [
        {
          "output_type": "execute_result",
          "data": {
            "text/plain": [
              "torch.Size([10, 3, 120, 120])"
            ]
          },
          "metadata": {},
          "execution_count": 81
        }
      ]
    },
    {
      "cell_type": "code",
      "metadata": {
        "colab": {
          "base_uri": "https://localhost:8080/"
        },
        "id": "kk-wU6E9V8Il",
        "outputId": "bb5dab85-ef11-4b32-a358-da84095bc1ac"
      },
      "source": [
        "images2"
      ],
      "execution_count": 82,
      "outputs": [
        {
          "output_type": "execute_result",
          "data": {
            "text/plain": [
              "tensor([[[[ 0.9922,  0.9922,  0.7647,  ...,  0.7333,  0.7961,  0.7961],\n",
              "          [ 0.9922,  0.9922,  0.7647,  ...,  0.7333,  0.7961,  0.7961],\n",
              "          [ 0.8824,  0.8824,  0.6627,  ...,  0.6157,  0.6392,  0.6392],\n",
              "          ...,\n",
              "          [ 0.3961,  0.3961,  0.2392,  ...,  0.0745,  0.1765,  0.1765],\n",
              "          [ 0.6000,  0.6000,  0.4039,  ...,  0.0196,  0.0902,  0.0902],\n",
              "          [ 0.6000,  0.6000,  0.4039,  ...,  0.0196,  0.0902,  0.0902]],\n",
              "\n",
              "         [[ 0.6392,  0.6392,  0.6863,  ..., -0.2000, -0.3882, -0.3882],\n",
              "          [ 0.6392,  0.6392,  0.6863,  ..., -0.2000, -0.3882, -0.3882],\n",
              "          [ 0.4510,  0.4510,  0.4824,  ..., -0.1373, -0.2784, -0.2784],\n",
              "          ...,\n",
              "          [ 0.4275,  0.4275,  0.4431,  ..., -0.6078, -0.8039, -0.8039],\n",
              "          [ 0.6157,  0.6157,  0.6392,  ..., -0.6157, -0.7961, -0.7961],\n",
              "          [ 0.6157,  0.6157,  0.6392,  ..., -0.6157, -0.7961, -0.7961]],\n",
              "\n",
              "         [[-0.8039, -0.8039, -0.6549,  ..., -0.2627, -0.1686, -0.1686],\n",
              "          [-0.8039, -0.8039, -0.6549,  ..., -0.2627, -0.1686, -0.1686],\n",
              "          [-0.6627, -0.6627, -0.5451,  ..., -0.2314, -0.1451, -0.1451],\n",
              "          ...,\n",
              "          [-0.6314, -0.6314, -0.4824,  ..., -0.4275, -0.5765, -0.5765],\n",
              "          [-0.8667, -0.8667, -0.6706,  ..., -0.4196, -0.6000, -0.6000],\n",
              "          [-0.8667, -0.8667, -0.6706,  ..., -0.4196, -0.6000, -0.6000]]],\n",
              "\n",
              "\n",
              "        [[[ 0.8118,  0.8118,  0.7333,  ..., -0.7961, -0.7961, -0.7961],\n",
              "          [ 0.8118,  0.8118,  0.7333,  ..., -0.7961, -0.7961, -0.7961],\n",
              "          [ 0.5765,  0.5765,  0.5059,  ..., -0.6549, -0.6471, -0.6471],\n",
              "          ...,\n",
              "          [ 0.4039,  0.4039,  0.1843,  ...,  0.4902,  0.4275,  0.4275],\n",
              "          [ 0.3569,  0.3569,  0.1451,  ...,  0.4510,  0.3647,  0.3647],\n",
              "          [ 0.3569,  0.3569,  0.1451,  ...,  0.4510,  0.3647,  0.3647]],\n",
              "\n",
              "         [[-0.3176, -0.3176, -0.2941,  ...,  0.6392,  0.6392,  0.6392],\n",
              "          [-0.3176, -0.3176, -0.2941,  ...,  0.6392,  0.6392,  0.6392],\n",
              "          [-0.2078, -0.2078, -0.2000,  ...,  0.5608,  0.5922,  0.5922],\n",
              "          ...,\n",
              "          [-0.5294, -0.5294, -0.4039,  ...,  0.7804,  0.7882,  0.7882],\n",
              "          [-0.7176, -0.7176, -0.5451,  ...,  0.8510,  0.8275,  0.8275],\n",
              "          [-0.7176, -0.7176, -0.5451,  ...,  0.8510,  0.8275,  0.8275]],\n",
              "\n",
              "         [[-0.5137, -0.5137, -0.5686,  ..., -0.9059, -0.9216, -0.9216],\n",
              "          [-0.5137, -0.5137, -0.5686,  ..., -0.9059, -0.9216, -0.9216],\n",
              "          [-0.4431, -0.4431, -0.4824,  ..., -0.7647, -0.7961, -0.7961],\n",
              "          ...,\n",
              "          [ 0.0902,  0.0902,  0.0118,  ..., -0.2000, -0.3333, -0.3333],\n",
              "          [-0.0039, -0.0039, -0.0588,  ..., -0.3569, -0.5216, -0.5216],\n",
              "          [-0.0039, -0.0039, -0.0588,  ..., -0.3569, -0.5216, -0.5216]]],\n",
              "\n",
              "\n",
              "        [[[-0.1608, -0.1608, -0.0667,  ..., -0.6314, -0.9216, -0.9216],\n",
              "          [-0.1608, -0.1608, -0.0667,  ..., -0.6314, -0.9216, -0.9216],\n",
              "          [-0.0824, -0.0824,  0.0039,  ..., -0.6549, -0.9059, -0.9059],\n",
              "          ...,\n",
              "          [-0.6706, -0.6706, -0.5529,  ..., -0.0275, -0.0275, -0.0275],\n",
              "          [-0.9765, -0.9765, -0.8039,  ..., -0.1216, -0.1059, -0.1059],\n",
              "          [-0.9765, -0.9765, -0.8039,  ..., -0.1216, -0.1059, -0.1059]],\n",
              "\n",
              "         [[ 0.0667,  0.0667,  0.1922,  ..., -0.8275, -0.8588, -0.8588],\n",
              "          [ 0.0667,  0.0667,  0.1922,  ..., -0.8275, -0.8588, -0.8588],\n",
              "          [-0.0039, -0.0039,  0.0902,  ..., -0.5686, -0.5843, -0.5843],\n",
              "          ...,\n",
              "          [ 0.0118,  0.0118,  0.0510,  ...,  0.4431,  0.7020,  0.7020],\n",
              "          [-0.0275, -0.0275,  0.0431,  ...,  0.4196,  0.6941,  0.6941],\n",
              "          [-0.0275, -0.0275,  0.0431,  ...,  0.4196,  0.6941,  0.6941]],\n",
              "\n",
              "         [[ 0.5294,  0.5294,  0.4353,  ..., -0.2000, -0.3098, -0.3098],\n",
              "          [ 0.5294,  0.5294,  0.4353,  ..., -0.2000, -0.3098, -0.3098],\n",
              "          [ 0.3490,  0.3490,  0.2784,  ..., -0.0353, -0.1059, -0.1059],\n",
              "          ...,\n",
              "          [-0.6392, -0.6392, -0.5294,  ..., -0.4588, -0.4902, -0.4902],\n",
              "          [-0.6314, -0.6314, -0.5373,  ..., -0.4118, -0.4039, -0.4039],\n",
              "          [-0.6314, -0.6314, -0.5373,  ..., -0.4118, -0.4039, -0.4039]]],\n",
              "\n",
              "\n",
              "        ...,\n",
              "\n",
              "\n",
              "        [[[ 0.6157,  0.6157,  0.4275,  ...,  0.2471,  0.4039,  0.4039],\n",
              "          [ 0.6157,  0.6157,  0.4275,  ...,  0.2471,  0.4039,  0.4039],\n",
              "          [ 0.3882,  0.3882,  0.2784,  ...,  0.3333,  0.4745,  0.4745],\n",
              "          ...,\n",
              "          [-0.6078, -0.6078, -0.4588,  ..., -0.1294, -0.0588, -0.0588],\n",
              "          [-0.7490, -0.7490, -0.5686,  ..., -0.1922, -0.1529, -0.1529],\n",
              "          [-0.7490, -0.7490, -0.5686,  ..., -0.1922, -0.1529, -0.1529]],\n",
              "\n",
              "         [[ 0.4824,  0.4824,  0.5373,  ..., -0.8667, -0.9216, -0.9216],\n",
              "          [ 0.4824,  0.4824,  0.5373,  ..., -0.8667, -0.9216, -0.9216],\n",
              "          [ 0.5608,  0.5608,  0.5686,  ..., -0.7647, -0.8353, -0.8353],\n",
              "          ...,\n",
              "          [ 0.4039,  0.4039,  0.3490,  ..., -0.0824, -0.0275, -0.0275],\n",
              "          [ 0.5608,  0.5608,  0.4745,  ..., -0.2706, -0.2235, -0.2235],\n",
              "          [ 0.5608,  0.5608,  0.4745,  ..., -0.2706, -0.2235, -0.2235]],\n",
              "\n",
              "         [[-1.0000, -1.0000, -0.7882,  ...,  0.5686,  0.6078,  0.6078],\n",
              "          [-1.0000, -1.0000, -0.7882,  ...,  0.5686,  0.6078,  0.6078],\n",
              "          [-0.8275, -0.8275, -0.6784,  ...,  0.4667,  0.5137,  0.5137],\n",
              "          ...,\n",
              "          [-0.3255, -0.3255, -0.2314,  ..., -0.4275, -0.5059, -0.5059],\n",
              "          [-0.4902, -0.4902, -0.3647,  ..., -0.4196, -0.4824, -0.4824],\n",
              "          [-0.4902, -0.4902, -0.3647,  ..., -0.4196, -0.4824, -0.4824]]],\n",
              "\n",
              "\n",
              "        [[[ 0.4431,  0.4431,  0.4431,  ...,  0.2863,  0.1843,  0.1843],\n",
              "          [ 0.4431,  0.4431,  0.4431,  ...,  0.2863,  0.1843,  0.1843],\n",
              "          [ 0.3255,  0.3255,  0.3412,  ...,  0.1765,  0.1059,  0.1059],\n",
              "          ...,\n",
              "          [ 0.1294,  0.1294,  0.1765,  ...,  0.4824,  0.6392,  0.6392],\n",
              "          [ 0.0824,  0.0824,  0.1294,  ...,  0.6627,  0.8902,  0.8902],\n",
              "          [ 0.0824,  0.0824,  0.1294,  ...,  0.6627,  0.8902,  0.8902]],\n",
              "\n",
              "         [[-0.1216, -0.1216, -0.2471,  ..., -0.1765, -0.2627, -0.2627],\n",
              "          [-0.1216, -0.1216, -0.2471,  ..., -0.1765, -0.2627, -0.2627],\n",
              "          [ 0.0196,  0.0196, -0.1294,  ..., -0.0667, -0.1059, -0.1059],\n",
              "          ...,\n",
              "          [ 0.5059,  0.5059,  0.3804,  ..., -0.2941, -0.3804, -0.3804],\n",
              "          [ 0.4431,  0.4431,  0.2941,  ..., -0.3569, -0.4667, -0.4667],\n",
              "          [ 0.4431,  0.4431,  0.2941,  ..., -0.3569, -0.4667, -0.4667]],\n",
              "\n",
              "         [[ 0.5294,  0.5294,  0.3961,  ..., -0.7333, -0.7412, -0.7412],\n",
              "          [ 0.5294,  0.5294,  0.3961,  ..., -0.7333, -0.7412, -0.7412],\n",
              "          [ 0.5843,  0.5843,  0.4588,  ..., -0.4745, -0.4588, -0.4588],\n",
              "          ...,\n",
              "          [-0.0353, -0.0353,  0.0745,  ...,  0.1137,  0.1843,  0.1843],\n",
              "          [ 0.1059,  0.1059,  0.1922,  ...,  0.2471,  0.3490,  0.3490],\n",
              "          [ 0.1059,  0.1059,  0.1922,  ...,  0.2471,  0.3490,  0.3490]]],\n",
              "\n",
              "\n",
              "        [[[-0.7333, -0.7333, -0.6627,  ...,  0.6078,  0.6471,  0.6471],\n",
              "          [-0.7333, -0.7333, -0.6627,  ...,  0.6078,  0.6471,  0.6471],\n",
              "          [-0.7020, -0.7020, -0.6471,  ...,  0.5765,  0.6000,  0.6000],\n",
              "          ...,\n",
              "          [ 0.6235,  0.6235,  0.6078,  ...,  0.6549,  0.8353,  0.8353],\n",
              "          [ 0.7961,  0.7961,  0.7490,  ...,  0.7098,  0.8745,  0.8745],\n",
              "          [ 0.7961,  0.7961,  0.7490,  ...,  0.7098,  0.8745,  0.8745]],\n",
              "\n",
              "         [[-0.3647, -0.3647, -0.4431,  ...,  0.3020,  0.5373,  0.5373],\n",
              "          [-0.3647, -0.3647, -0.4431,  ...,  0.3020,  0.5373,  0.5373],\n",
              "          [-0.1843, -0.1843, -0.2706,  ...,  0.2314,  0.3961,  0.3961],\n",
              "          ...,\n",
              "          [-0.6392, -0.6392, -0.4588,  ...,  0.7020,  0.8196,  0.8196],\n",
              "          [-0.6078, -0.6078, -0.4510,  ...,  0.7333,  0.8431,  0.8431],\n",
              "          [-0.6078, -0.6078, -0.4510,  ...,  0.7333,  0.8431,  0.8431]],\n",
              "\n",
              "         [[-0.8118, -0.8118, -0.8039,  ..., -0.4118, -0.3569, -0.3569],\n",
              "          [-0.8118, -0.8118, -0.8039,  ..., -0.4118, -0.3569, -0.3569],\n",
              "          [-0.5529, -0.5529, -0.6000,  ..., -0.3882, -0.3490, -0.3490],\n",
              "          ...,\n",
              "          [-0.8196, -0.8196, -0.8118,  ...,  0.5686,  0.7176,  0.7176],\n",
              "          [-0.8902, -0.8902, -0.9059,  ...,  0.5686,  0.7412,  0.7412],\n",
              "          [-0.8902, -0.8902, -0.9059,  ...,  0.5686,  0.7412,  0.7412]]]])"
            ]
          },
          "metadata": {},
          "execution_count": 82
        }
      ]
    },
    {
      "cell_type": "markdown",
      "metadata": {
        "id": "CsskTcZebxaz"
      },
      "source": [
        "- reference : https://www.youtube.com/channel/UCt9jbjxLBawaSaEsGB87D6g\n",
        "\n",
        "- Youtube 딥러닝호형 DL bro"
      ]
    }
  ]
}