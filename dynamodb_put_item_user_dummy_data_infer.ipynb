{
  "nbformat": 4,
  "nbformat_minor": 0,
  "metadata": {
    "colab": {
      "name": "dynamodb_put_item_user_dummy_data_infer.ipynb",
      "provenance": [],
      "authorship_tag": "ABX9TyMjCYywVisLS59ldyP8++bs",
      "include_colab_link": true
    },
    "kernelspec": {
      "name": "python3",
      "display_name": "Python 3"
    },
    "language_info": {
      "name": "python"
    }
  },
  "cells": [
    {
      "cell_type": "markdown",
      "metadata": {
        "id": "view-in-github",
        "colab_type": "text"
      },
      "source": [
        "<a href=\"https://colab.research.google.com/github/Jee-9/Study/blob/main/dynamodb_put_item_user_dummy_data_infer.ipynb\" target=\"_parent\"><img src=\"https://colab.research.google.com/assets/colab-badge.svg\" alt=\"Open In Colab\"/></a>"
      ]
    },
    {
      "cell_type": "code",
      "metadata": {
        "id": "P1lwyZLV4SCf"
      },
      "source": [
        "!pip install boto3"
      ],
      "execution_count": null,
      "outputs": []
    },
    {
      "cell_type": "code",
      "metadata": {
        "id": "pgx16prQ4Sa1"
      },
      "source": [
        "import boto3\n",
        "import logging\n",
        "from botocore.exceptions import ClientError\n",
        "import os\n",
        "import pickle\n",
        "import numpy as np\n",
        "\n",
        "PATH = '/content/drive/MyDrive/PROJECT SHARING FILES/Pickle/total_list.pickle'\n",
        "\n",
        "ACCESS_KEY = 'asdf'\n",
        "SECRET_KEY = 'asdf'\n",
        "region = 'ap-northeast-2'\n",
        "\n",
        "try : dynamodb = boto3.resource('dynamodb', region_name = region,\n",
        "                          aws_access_key_id = ACCESS_KEY,\n",
        "                          aws_secret_access_key = SECRET_KEY)\n",
        "\n",
        "except ClientError as e:\n",
        "  logging.error(e)\n",
        "  print('False')\n",
        "\n",
        "table = dynamodb.Table('youtube_table')\n",
        "\n",
        "with open(PATH, 'rb') as f:\n",
        "  data = pickle.load(f)\n",
        "\n",
        "for d in data:\n",
        "  for i in range(30, 34):\n",
        "    if d['PK'] == 'game':\n",
        "      if d['SK'] == i:\n",
        "        table.put_item(\n",
        "            Item = {\n",
        "                'pk' : 'user#2',\n",
        "                'video' : f'#{i}', # vid_num\n",
        "                'video_info' : {'class#game' : np.array(d['vertor']).tobytes()}\n",
        "            }\n",
        "        )"
      ],
      "execution_count": null,
      "outputs": []
    }
  ]
}