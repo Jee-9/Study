{
  "nbformat": 4,
  "nbformat_minor": 0,
  "metadata": {
    "colab": {
      "name": "TPS09_H2O_Error.ipynb",
      "provenance": [],
      "authorship_tag": "ABX9TyOVSGOmrCSAPrV0ThRQgEZg",
      "include_colab_link": true
    },
    "kernelspec": {
      "name": "python3",
      "display_name": "Python 3"
    },
    "language_info": {
      "name": "python"
    },
    "accelerator": "GPU"
  },
  "cells": [
    {
      "cell_type": "markdown",
      "metadata": {
        "id": "view-in-github",
        "colab_type": "text"
      },
      "source": [
        "<a href=\"https://colab.research.google.com/github/Jee-9/Study/blob/main/TPS09_H2O_Error.ipynb\" target=\"_parent\"><img src=\"https://colab.research.google.com/assets/colab-badge.svg\" alt=\"Open In Colab\"/></a>"
      ]
    },
    {
      "cell_type": "code",
      "metadata": {
        "id": "3Tn4lNFhBg0A"
      },
      "source": [
        "import numpy as np\n",
        "import pandas as pd\n",
        "import matplotlib.pyplot as plt\n",
        "%matplotlib inline\n",
        "\n",
        "import warnings\n",
        "warnings.filterwarnings(action='ignore')\n",
        "\n",
        "import seaborn as sns"
      ],
      "execution_count": 1,
      "outputs": []
    },
    {
      "cell_type": "markdown",
      "metadata": {
        "id": "3rQb6beUIek6"
      },
      "source": [
        "# load"
      ]
    },
    {
      "cell_type": "code",
      "metadata": {
        "colab": {
          "base_uri": "https://localhost:8080/"
        },
        "id": "MqZCVQUqIat2",
        "outputId": "2b63f4c8-eb4f-4e03-93a3-9fb74ef6db41"
      },
      "source": [
        "from google.colab import drive\n",
        "drive.mount('/content/drive')"
      ],
      "execution_count": 2,
      "outputs": [
        {
          "output_type": "stream",
          "name": "stdout",
          "text": [
            "Drive already mounted at /content/drive; to attempt to forcibly remount, call drive.mount(\"/content/drive\", force_remount=True).\n"
          ]
        }
      ]
    },
    {
      "cell_type": "code",
      "metadata": {
        "id": "tBMG6lXIItMG"
      },
      "source": [
        "train_path = '/content/drive/MyDrive/DATA/Kaggle_TPS09/train.csv'\n",
        "test_path = '/content/drive/MyDrive/DATA/Kaggle_TPS09/test.csv'\n",
        "solution_path = '/content/drive/MyDrive/DATA/Kaggle_TPS09/sample_solution.csv'\n",
        "\n",
        "train = pd.read_csv(train_path)\n",
        "test = pd.read_csv(test_path)\n",
        "solution = pd.read_csv(solution_path)"
      ],
      "execution_count": 3,
      "outputs": []
    },
    {
      "cell_type": "code",
      "metadata": {
        "colab": {
          "base_uri": "https://localhost:8080/",
          "height": 253
        },
        "id": "UOPmhw0CJEgI",
        "outputId": "41bff5ac-a073-43b1-f93f-f4ae80fed466"
      },
      "source": [
        "train.head()"
      ],
      "execution_count": 4,
      "outputs": [
        {
          "output_type": "execute_result",
          "data": {
            "text/html": [
              "<div>\n",
              "<style scoped>\n",
              "    .dataframe tbody tr th:only-of-type {\n",
              "        vertical-align: middle;\n",
              "    }\n",
              "\n",
              "    .dataframe tbody tr th {\n",
              "        vertical-align: top;\n",
              "    }\n",
              "\n",
              "    .dataframe thead th {\n",
              "        text-align: right;\n",
              "    }\n",
              "</style>\n",
              "<table border=\"1\" class=\"dataframe\">\n",
              "  <thead>\n",
              "    <tr style=\"text-align: right;\">\n",
              "      <th></th>\n",
              "      <th>id</th>\n",
              "      <th>f1</th>\n",
              "      <th>f2</th>\n",
              "      <th>f3</th>\n",
              "      <th>f4</th>\n",
              "      <th>f5</th>\n",
              "      <th>f6</th>\n",
              "      <th>f7</th>\n",
              "      <th>f8</th>\n",
              "      <th>f9</th>\n",
              "      <th>f10</th>\n",
              "      <th>f11</th>\n",
              "      <th>f12</th>\n",
              "      <th>f13</th>\n",
              "      <th>f14</th>\n",
              "      <th>f15</th>\n",
              "      <th>f16</th>\n",
              "      <th>f17</th>\n",
              "      <th>f18</th>\n",
              "      <th>f19</th>\n",
              "      <th>f20</th>\n",
              "      <th>f21</th>\n",
              "      <th>f22</th>\n",
              "      <th>f23</th>\n",
              "      <th>f24</th>\n",
              "      <th>f25</th>\n",
              "      <th>f26</th>\n",
              "      <th>f27</th>\n",
              "      <th>f28</th>\n",
              "      <th>f29</th>\n",
              "      <th>f30</th>\n",
              "      <th>f31</th>\n",
              "      <th>f32</th>\n",
              "      <th>f33</th>\n",
              "      <th>f34</th>\n",
              "      <th>f35</th>\n",
              "      <th>f36</th>\n",
              "      <th>f37</th>\n",
              "      <th>f38</th>\n",
              "      <th>f39</th>\n",
              "      <th>...</th>\n",
              "      <th>f80</th>\n",
              "      <th>f81</th>\n",
              "      <th>f82</th>\n",
              "      <th>f83</th>\n",
              "      <th>f84</th>\n",
              "      <th>f85</th>\n",
              "      <th>f86</th>\n",
              "      <th>f87</th>\n",
              "      <th>f88</th>\n",
              "      <th>f89</th>\n",
              "      <th>f90</th>\n",
              "      <th>f91</th>\n",
              "      <th>f92</th>\n",
              "      <th>f93</th>\n",
              "      <th>f94</th>\n",
              "      <th>f95</th>\n",
              "      <th>f96</th>\n",
              "      <th>f97</th>\n",
              "      <th>f98</th>\n",
              "      <th>f99</th>\n",
              "      <th>f100</th>\n",
              "      <th>f101</th>\n",
              "      <th>f102</th>\n",
              "      <th>f103</th>\n",
              "      <th>f104</th>\n",
              "      <th>f105</th>\n",
              "      <th>f106</th>\n",
              "      <th>f107</th>\n",
              "      <th>f108</th>\n",
              "      <th>f109</th>\n",
              "      <th>f110</th>\n",
              "      <th>f111</th>\n",
              "      <th>f112</th>\n",
              "      <th>f113</th>\n",
              "      <th>f114</th>\n",
              "      <th>f115</th>\n",
              "      <th>f116</th>\n",
              "      <th>f117</th>\n",
              "      <th>f118</th>\n",
              "      <th>claim</th>\n",
              "    </tr>\n",
              "  </thead>\n",
              "  <tbody>\n",
              "    <tr>\n",
              "      <th>0</th>\n",
              "      <td>0</td>\n",
              "      <td>0.10859</td>\n",
              "      <td>0.004314</td>\n",
              "      <td>-37.566</td>\n",
              "      <td>0.017364</td>\n",
              "      <td>0.28915</td>\n",
              "      <td>-10.25100</td>\n",
              "      <td>135.12</td>\n",
              "      <td>168900.0</td>\n",
              "      <td>3.992400e+14</td>\n",
              "      <td>86.489</td>\n",
              "      <td>0.59881</td>\n",
              "      <td>1.423200e+09</td>\n",
              "      <td>0.27240</td>\n",
              "      <td>9.455600</td>\n",
              "      <td>-0.050305</td>\n",
              "      <td>1938.300</td>\n",
              "      <td>8.6331</td>\n",
              "      <td>4.0607</td>\n",
              "      <td>26.8670</td>\n",
              "      <td>-1.180</td>\n",
              "      <td>10961.00</td>\n",
              "      <td>1.5397</td>\n",
              "      <td>135.3200</td>\n",
              "      <td>-1.49650</td>\n",
              "      <td>440.080</td>\n",
              "      <td>2.590100e+12</td>\n",
              "      <td>2.194200e+09</td>\n",
              "      <td>2968800.0</td>\n",
              "      <td>0.001431</td>\n",
              "      <td>13.3270</td>\n",
              "      <td>0.75050</td>\n",
              "      <td>18509.0</td>\n",
              "      <td>146820.0</td>\n",
              "      <td>-0.000276</td>\n",
              "      <td>1.090600e+16</td>\n",
              "      <td>1705.400</td>\n",
              "      <td>414.29</td>\n",
              "      <td>3.5392</td>\n",
              "      <td>1888.0</td>\n",
              "      <td>...</td>\n",
              "      <td>-0.001081</td>\n",
              "      <td>6.1244</td>\n",
              "      <td>1.231800e+11</td>\n",
              "      <td>275.9200</td>\n",
              "      <td>5308500.0</td>\n",
              "      <td>1704.000</td>\n",
              "      <td>5.022400e+10</td>\n",
              "      <td>53.3980</td>\n",
              "      <td>-2.2012</td>\n",
              "      <td>6871.0</td>\n",
              "      <td>3.8862</td>\n",
              "      <td>-0.00558</td>\n",
              "      <td>5252.100</td>\n",
              "      <td>166.690</td>\n",
              "      <td>1.60740</td>\n",
              "      <td>0.66534</td>\n",
              "      <td>7768.900</td>\n",
              "      <td>0.99662</td>\n",
              "      <td>1.125700e+11</td>\n",
              "      <td>2.2432</td>\n",
              "      <td>0.934160</td>\n",
              "      <td>0.65056</td>\n",
              "      <td>94569.0</td>\n",
              "      <td>21.471</td>\n",
              "      <td>8214.100</td>\n",
              "      <td>0.288010</td>\n",
              "      <td>0.097826</td>\n",
              "      <td>0.001071</td>\n",
              "      <td>1.412400e+09</td>\n",
              "      <td>0.11093</td>\n",
              "      <td>-12.2280</td>\n",
              "      <td>1.7482</td>\n",
              "      <td>1.90960</td>\n",
              "      <td>-7.11570</td>\n",
              "      <td>4378.80</td>\n",
              "      <td>1.2096</td>\n",
              "      <td>8.613400e+14</td>\n",
              "      <td>140.1</td>\n",
              "      <td>1.01770</td>\n",
              "      <td>1</td>\n",
              "    </tr>\n",
              "    <tr>\n",
              "      <th>1</th>\n",
              "      <td>1</td>\n",
              "      <td>0.10090</td>\n",
              "      <td>0.299610</td>\n",
              "      <td>11822.000</td>\n",
              "      <td>0.276500</td>\n",
              "      <td>0.45970</td>\n",
              "      <td>-0.83733</td>\n",
              "      <td>1721.90</td>\n",
              "      <td>119810.0</td>\n",
              "      <td>3.874100e+15</td>\n",
              "      <td>9953.600</td>\n",
              "      <td>1.20930</td>\n",
              "      <td>3.334100e+09</td>\n",
              "      <td>0.28631</td>\n",
              "      <td>-0.012858</td>\n",
              "      <td>-0.019912</td>\n",
              "      <td>10.284</td>\n",
              "      <td>6.1872</td>\n",
              "      <td>1.0419</td>\n",
              "      <td>4.6404</td>\n",
              "      <td>31.877</td>\n",
              "      <td>123620.00</td>\n",
              "      <td>1.3951</td>\n",
              "      <td>125.8100</td>\n",
              "      <td>1.19890</td>\n",
              "      <td>136.450</td>\n",
              "      <td>9.098100e+09</td>\n",
              "      <td>4.004100e+10</td>\n",
              "      <td>1564000.0</td>\n",
              "      <td>0.000204</td>\n",
              "      <td>3.1074</td>\n",
              "      <td>1.50330</td>\n",
              "      <td>238000.0</td>\n",
              "      <td>21440.0</td>\n",
              "      <td>-0.001344</td>\n",
              "      <td>3.079400e+16</td>\n",
              "      <td>229.100</td>\n",
              "      <td>844.82</td>\n",
              "      <td>1.4680</td>\n",
              "      <td>4726.5</td>\n",
              "      <td>...</td>\n",
              "      <td>0.254100</td>\n",
              "      <td>6.9191</td>\n",
              "      <td>1.832400e+11</td>\n",
              "      <td>9.6510</td>\n",
              "      <td>32800.0</td>\n",
              "      <td>1480.600</td>\n",
              "      <td>2.300600e+10</td>\n",
              "      <td>44.0510</td>\n",
              "      <td>205.6900</td>\n",
              "      <td>4295.3</td>\n",
              "      <td>13.3880</td>\n",
              "      <td>0.46843</td>\n",
              "      <td>754.610</td>\n",
              "      <td>83.233</td>\n",
              "      <td>1.18900</td>\n",
              "      <td>29.55000</td>\n",
              "      <td>7343.700</td>\n",
              "      <td>0.99815</td>\n",
              "      <td>4.877700e+13</td>\n",
              "      <td>1.2708</td>\n",
              "      <td>-0.000969</td>\n",
              "      <td>5.29520</td>\n",
              "      <td>6779.0</td>\n",
              "      <td>227.720</td>\n",
              "      <td>34.342</td>\n",
              "      <td>0.340300</td>\n",
              "      <td>0.143370</td>\n",
              "      <td>0.049276</td>\n",
              "      <td>1.903200e+09</td>\n",
              "      <td>0.97673</td>\n",
              "      <td>-56.7580</td>\n",
              "      <td>4.1684</td>\n",
              "      <td>0.34808</td>\n",
              "      <td>4.14200</td>\n",
              "      <td>913.23</td>\n",
              "      <td>1.2464</td>\n",
              "      <td>7.575100e+15</td>\n",
              "      <td>1861.0</td>\n",
              "      <td>0.28359</td>\n",
              "      <td>0</td>\n",
              "    </tr>\n",
              "    <tr>\n",
              "      <th>2</th>\n",
              "      <td>2</td>\n",
              "      <td>0.17803</td>\n",
              "      <td>-0.006980</td>\n",
              "      <td>907.270</td>\n",
              "      <td>0.272140</td>\n",
              "      <td>0.45948</td>\n",
              "      <td>0.17327</td>\n",
              "      <td>2298.00</td>\n",
              "      <td>360650.0</td>\n",
              "      <td>1.224500e+13</td>\n",
              "      <td>15827.000</td>\n",
              "      <td>0.38164</td>\n",
              "      <td>1.230300e+09</td>\n",
              "      <td>0.25807</td>\n",
              "      <td>2.455600</td>\n",
              "      <td>NaN</td>\n",
              "      <td>26.873</td>\n",
              "      <td>7.5463</td>\n",
              "      <td>1.9967</td>\n",
              "      <td>1.9526</td>\n",
              "      <td>817.760</td>\n",
              "      <td>-2948.70</td>\n",
              "      <td>2.0054</td>\n",
              "      <td>1.6826</td>\n",
              "      <td>1.19680</td>\n",
              "      <td>74.624</td>\n",
              "      <td>-3.273900e+10</td>\n",
              "      <td>5.718900e+10</td>\n",
              "      <td>11058.0</td>\n",
              "      <td>-0.003097</td>\n",
              "      <td>8.0241</td>\n",
              "      <td>1.13180</td>\n",
              "      <td>27940.0</td>\n",
              "      <td>862460.0</td>\n",
              "      <td>-0.002207</td>\n",
              "      <td>5.849100e+13</td>\n",
              "      <td>-897.840</td>\n",
              "      <td>NaN</td>\n",
              "      <td>1.3561</td>\n",
              "      <td>3063.4</td>\n",
              "      <td>...</td>\n",
              "      <td>0.260260</td>\n",
              "      <td>6.1052</td>\n",
              "      <td>1.013300e+11</td>\n",
              "      <td>357.2700</td>\n",
              "      <td>1476600.0</td>\n",
              "      <td>90.845</td>\n",
              "      <td>1.306200e+09</td>\n",
              "      <td>2.3731</td>\n",
              "      <td>391.3700</td>\n",
              "      <td>2965.3</td>\n",
              "      <td>NaN</td>\n",
              "      <td>0.49459</td>\n",
              "      <td>43.524</td>\n",
              "      <td>138.520</td>\n",
              "      <td>1.10790</td>\n",
              "      <td>0.91948</td>\n",
              "      <td>47.915</td>\n",
              "      <td>NaN</td>\n",
              "      <td>1.510500e+12</td>\n",
              "      <td>3.4663</td>\n",
              "      <td>0.560950</td>\n",
              "      <td>4.13090</td>\n",
              "      <td>95531.0</td>\n",
              "      <td>39.486</td>\n",
              "      <td>-83.148</td>\n",
              "      <td>0.084881</td>\n",
              "      <td>0.032222</td>\n",
              "      <td>0.001668</td>\n",
              "      <td>1.436500e+07</td>\n",
              "      <td>0.20102</td>\n",
              "      <td>-5.7688</td>\n",
              "      <td>1.2042</td>\n",
              "      <td>0.26290</td>\n",
              "      <td>8.13120</td>\n",
              "      <td>45119.00</td>\n",
              "      <td>1.1764</td>\n",
              "      <td>3.218100e+14</td>\n",
              "      <td>3838.2</td>\n",
              "      <td>0.40690</td>\n",
              "      <td>1</td>\n",
              "    </tr>\n",
              "    <tr>\n",
              "      <th>3</th>\n",
              "      <td>3</td>\n",
              "      <td>0.15236</td>\n",
              "      <td>0.007259</td>\n",
              "      <td>780.100</td>\n",
              "      <td>0.025179</td>\n",
              "      <td>0.51947</td>\n",
              "      <td>7.49140</td>\n",
              "      <td>112.51</td>\n",
              "      <td>259490.0</td>\n",
              "      <td>7.781400e+13</td>\n",
              "      <td>-36.837</td>\n",
              "      <td>1.10960</td>\n",
              "      <td>1.223100e+09</td>\n",
              "      <td>0.30944</td>\n",
              "      <td>10.370000</td>\n",
              "      <td>-0.106260</td>\n",
              "      <td>533.840</td>\n",
              "      <td>7.8490</td>\n",
              "      <td>1.0379</td>\n",
              "      <td>8.0030</td>\n",
              "      <td>12.349</td>\n",
              "      <td>-195.28</td>\n",
              "      <td>2.5598</td>\n",
              "      <td>92.1420</td>\n",
              "      <td>0.63789</td>\n",
              "      <td>1054.900</td>\n",
              "      <td>-1.204100e+10</td>\n",
              "      <td>5.187300e+12</td>\n",
              "      <td>1475400.0</td>\n",
              "      <td>1.036500</td>\n",
              "      <td>1.1903</td>\n",
              "      <td>0.98941</td>\n",
              "      <td>301200.0</td>\n",
              "      <td>NaN</td>\n",
              "      <td>-0.000007</td>\n",
              "      <td>-9.299200e+13</td>\n",
              "      <td>-10.818</td>\n",
              "      <td>1020.30</td>\n",
              "      <td>2.9553</td>\n",
              "      <td>3342.5</td>\n",
              "      <td>...</td>\n",
              "      <td>0.372830</td>\n",
              "      <td>1.5606</td>\n",
              "      <td>1.835400e+10</td>\n",
              "      <td>-3.4298</td>\n",
              "      <td>6485700.0</td>\n",
              "      <td>2120.000</td>\n",
              "      <td>3.081200e+10</td>\n",
              "      <td>34.0560</td>\n",
              "      <td>157.4300</td>\n",
              "      <td>3724.5</td>\n",
              "      <td>8.4211</td>\n",
              "      <td>0.40778</td>\n",
              "      <td>2971.200</td>\n",
              "      <td>204.700</td>\n",
              "      <td>-0.97998</td>\n",
              "      <td>9.94050</td>\n",
              "      <td>12011.000</td>\n",
              "      <td>0.99898</td>\n",
              "      <td>5.063400e+13</td>\n",
              "      <td>1.2261</td>\n",
              "      <td>0.250200</td>\n",
              "      <td>0.72974</td>\n",
              "      <td>373690.0</td>\n",
              "      <td>194.650</td>\n",
              "      <td>120.930</td>\n",
              "      <td>0.260710</td>\n",
              "      <td>0.234240</td>\n",
              "      <td>-0.002794</td>\n",
              "      <td>1.442300e+09</td>\n",
              "      <td>-0.01182</td>\n",
              "      <td>-34.8580</td>\n",
              "      <td>2.0694</td>\n",
              "      <td>0.79631</td>\n",
              "      <td>-16.33600</td>\n",
              "      <td>4952.40</td>\n",
              "      <td>1.1784</td>\n",
              "      <td>4.533000e+12</td>\n",
              "      <td>4889.1</td>\n",
              "      <td>0.51486</td>\n",
              "      <td>1</td>\n",
              "    </tr>\n",
              "    <tr>\n",
              "      <th>4</th>\n",
              "      <td>4</td>\n",
              "      <td>0.11623</td>\n",
              "      <td>0.502900</td>\n",
              "      <td>-109.150</td>\n",
              "      <td>0.297910</td>\n",
              "      <td>0.34490</td>\n",
              "      <td>-0.40932</td>\n",
              "      <td>2538.90</td>\n",
              "      <td>65332.0</td>\n",
              "      <td>1.907200e+15</td>\n",
              "      <td>144.120</td>\n",
              "      <td>1.05310</td>\n",
              "      <td>2.634100e+09</td>\n",
              "      <td>0.29782</td>\n",
              "      <td>2.654800</td>\n",
              "      <td>NaN</td>\n",
              "      <td>1808.900</td>\n",
              "      <td>7.2783</td>\n",
              "      <td>3.9757</td>\n",
              "      <td>NaN</td>\n",
              "      <td>NaN</td>\n",
              "      <td>29520.00</td>\n",
              "      <td>3.4225</td>\n",
              "      <td>96.7250</td>\n",
              "      <td>0.79725</td>\n",
              "      <td>215.570</td>\n",
              "      <td>1.732600e+13</td>\n",
              "      <td>2.635200e+12</td>\n",
              "      <td>2161200.0</td>\n",
              "      <td>0.895470</td>\n",
              "      <td>6.8257</td>\n",
              "      <td>0.97413</td>\n",
              "      <td>142620.0</td>\n",
              "      <td>231350.0</td>\n",
              "      <td>0.001257</td>\n",
              "      <td>1.012500e+16</td>\n",
              "      <td>51.508</td>\n",
              "      <td>293.76</td>\n",
              "      <td>1.3351</td>\n",
              "      <td>3042.1</td>\n",
              "      <td>...</td>\n",
              "      <td>0.085690</td>\n",
              "      <td>1.5846</td>\n",
              "      <td>3.825200e+10</td>\n",
              "      <td>130.7000</td>\n",
              "      <td>102100.0</td>\n",
              "      <td>1951.800</td>\n",
              "      <td>1.142800e+10</td>\n",
              "      <td>58.5660</td>\n",
              "      <td>176.8300</td>\n",
              "      <td>1279.0</td>\n",
              "      <td>4.9662</td>\n",
              "      <td>0.47912</td>\n",
              "      <td>-70.278</td>\n",
              "      <td>10.887</td>\n",
              "      <td>1.14340</td>\n",
              "      <td>6.19120</td>\n",
              "      <td>197.470</td>\n",
              "      <td>NaN</td>\n",
              "      <td>1.574800e+13</td>\n",
              "      <td>1.0083</td>\n",
              "      <td>0.339530</td>\n",
              "      <td>13.48600</td>\n",
              "      <td>201300.0</td>\n",
              "      <td>38.842</td>\n",
              "      <td>324.000</td>\n",
              "      <td>0.238250</td>\n",
              "      <td>0.141550</td>\n",
              "      <td>0.002208</td>\n",
              "      <td>5.830700e+09</td>\n",
              "      <td>0.92739</td>\n",
              "      <td>-13.6410</td>\n",
              "      <td>1.5298</td>\n",
              "      <td>1.14640</td>\n",
              "      <td>-0.43124</td>\n",
              "      <td>3856.50</td>\n",
              "      <td>1.4830</td>\n",
              "      <td>-8.991300e+12</td>\n",
              "      <td>NaN</td>\n",
              "      <td>0.23049</td>\n",
              "      <td>1</td>\n",
              "    </tr>\n",
              "  </tbody>\n",
              "</table>\n",
              "<p>5 rows × 120 columns</p>\n",
              "</div>"
            ],
            "text/plain": [
              "   id       f1        f2         f3  ...          f116    f117     f118  claim\n",
              "0   0  0.10859  0.004314    -37.566  ...  8.613400e+14   140.1  1.01770      1\n",
              "1   1  0.10090  0.299610  11822.000  ...  7.575100e+15  1861.0  0.28359      0\n",
              "2   2  0.17803 -0.006980    907.270  ...  3.218100e+14  3838.2  0.40690      1\n",
              "3   3  0.15236  0.007259    780.100  ...  4.533000e+12  4889.1  0.51486      1\n",
              "4   4  0.11623  0.502900   -109.150  ... -8.991300e+12     NaN  0.23049      1\n",
              "\n",
              "[5 rows x 120 columns]"
            ]
          },
          "metadata": {},
          "execution_count": 4
        }
      ]
    },
    {
      "cell_type": "code",
      "metadata": {
        "colab": {
          "base_uri": "https://localhost:8080/"
        },
        "id": "ns6a--PrJPoE",
        "outputId": "bc930eac-970d-4a83-92d3-4968218a2e38"
      },
      "source": [
        "print(\"train_null : \", train.isnull().sum().sum())\n",
        "print(\"test_null : \", test.isnull().sum().sum())"
      ],
      "execution_count": 8,
      "outputs": [
        {
          "output_type": "stream",
          "name": "stdout",
          "text": [
            "train_null :  1820782\n",
            "test_null :  936218\n"
          ]
        }
      ]
    },
    {
      "cell_type": "markdown",
      "metadata": {
        "id": "qNi7d5mgLEwl"
      },
      "source": [
        "# Drop useless columns"
      ]
    },
    {
      "cell_type": "code",
      "metadata": {
        "id": "_8UzUzYpLGmy"
      },
      "source": [
        "# print(train.columns)\n",
        "# print(test.columns)\n",
        "\n",
        "target = train['claim']\n",
        "train.drop(columns = ['id', 'claim'], inplace = True)\n",
        "test.drop(columns = 'id', inplace = True)"
      ],
      "execution_count": 4,
      "outputs": []
    },
    {
      "cell_type": "markdown",
      "metadata": {
        "id": "ESBgu0K1J0sT"
      },
      "source": [
        "# Visualization"
      ]
    },
    {
      "cell_type": "code",
      "metadata": {
        "colab": {
          "base_uri": "https://localhost:8080/",
          "height": 301
        },
        "id": "JUTm3r50JaxD",
        "outputId": "604a4b5d-0052-49ee-b6a5-c773a9a8b528"
      },
      "source": [
        "sns.heatmap(train.isnull(), cbar=False)"
      ],
      "execution_count": 10,
      "outputs": [
        {
          "output_type": "execute_result",
          "data": {
            "text/plain": [
              "<matplotlib.axes._subplots.AxesSubplot at 0x7f0ebdf5ad10>"
            ]
          },
          "metadata": {},
          "execution_count": 10
        },
        {
          "output_type": "display_data",
          "data": {
            "image/png": "[encoded data removed]",
            "text/plain": [
              "<Figure size 432x288 with 1 Axes>"
            ]
          },
          "metadata": {
            "needs_background": "light"
          }
        }
      ]
    },
    {
      "cell_type": "code",
      "metadata": {
        "colab": {
          "base_uri": "https://localhost:8080/"
        },
        "id": "DhMJhDMHJ5_9",
        "outputId": "15f02116-5fac-4b72-a112-848c1841ab1a"
      },
      "source": [
        "pip install missingno"
      ],
      "execution_count": 11,
      "outputs": [
        {
          "output_type": "stream",
          "name": "stdout",
          "text": [
            "Requirement already satisfied: missingno in /usr/local/lib/python3.7/dist-packages (0.5.0)\n",
            "Requirement already satisfied: numpy in /usr/local/lib/python3.7/dist-packages (from missingno) (1.19.5)\n",
            "Requirement already satisfied: seaborn in /usr/local/lib/python3.7/dist-packages (from missingno) (0.11.2)\n",
            "Requirement already satisfied: scipy in /usr/local/lib/python3.7/dist-packages (from missingno) (1.4.1)\n",
            "Requirement already satisfied: matplotlib in /usr/local/lib/python3.7/dist-packages (from missingno) (3.2.2)\n",
            "Requirement already satisfied: pyparsing!=2.0.4,!=2.1.2,!=2.1.6,>=2.0.1 in /usr/local/lib/python3.7/dist-packages (from matplotlib->missingno) (2.4.7)\n",
            "Requirement already satisfied: cycler>=0.10 in /usr/local/lib/python3.7/dist-packages (from matplotlib->missingno) (0.10.0)\n",
            "Requirement already satisfied: python-dateutil>=2.1 in /usr/local/lib/python3.7/dist-packages (from matplotlib->missingno) (2.8.2)\n",
            "Requirement already satisfied: kiwisolver>=1.0.1 in /usr/local/lib/python3.7/dist-packages (from matplotlib->missingno) (1.3.2)\n",
            "Requirement already satisfied: six in /usr/local/lib/python3.7/dist-packages (from cycler>=0.10->matplotlib->missingno) (1.15.0)\n",
            "Requirement already satisfied: pandas>=0.23 in /usr/local/lib/python3.7/dist-packages (from seaborn->missingno) (1.1.5)\n",
            "Requirement already satisfied: pytz>=2017.2 in /usr/local/lib/python3.7/dist-packages (from pandas>=0.23->seaborn->missingno) (2018.9)\n"
          ]
        }
      ]
    },
    {
      "cell_type": "code",
      "metadata": {
        "colab": {
          "base_uri": "https://localhost:8080/",
          "height": 609
        },
        "id": "XzbM7r3jKlrm",
        "outputId": "ff7960c6-d80d-4eff-ff6d-4a43e86e7787"
      },
      "source": [
        "import missingno as msno\n",
        "msno.matrix(train.sample(250))"
      ],
      "execution_count": 12,
      "outputs": [
        {
          "output_type": "execute_result",
          "data": {
            "text/plain": [
              "<matplotlib.axes._subplots.AxesSubplot at 0x7f0eb5184650>"
            ]
          },
          "metadata": {},
          "execution_count": 12
        },
        {
          "output_type": "display_data",
          "data": {
            "image/png": "[encoded data removed]",
            "text/plain": [
              "<Figure size 1800x720 with 2 Axes>"
            ]
          },
          "metadata": {
            "needs_background": "light"
          }
        }
      ]
    },
    {
      "cell_type": "code",
      "metadata": {
        "colab": {
          "base_uri": "https://localhost:8080/",
          "height": 1000
        },
        "id": "k3QF0X3UKqVS",
        "outputId": "b5f48683-2644-4d8b-9598-46f5cf82a301"
      },
      "source": [
        "msno.dendrogram(train)"
      ],
      "execution_count": 13,
      "outputs": [
        {
          "output_type": "execute_result",
          "data": {
            "text/plain": [
              "<matplotlib.axes._subplots.AxesSubplot at 0x7f0eb494f210>"
            ]
          },
          "metadata": {},
          "execution_count": 13
        },
        {
          "output_type": "display_data",
          "data": {
            "image/png": "[encoded data removed]",
            "text/plain": [
              "<Figure size 1800x3420 with 1 Axes>"
            ]
          },
          "metadata": {
            "needs_background": "light"
          }
        }
      ]
    },
    {
      "cell_type": "code",
      "metadata": {
        "id": "ihHt-egzLp8y"
      },
      "source": [
        "# skewed 확인하기\n",
        "\n",
        "features = train.columns\n",
        "i = 1\n",
        "plt.figure()\n",
        "\n",
        "fig, ax = plt.subplots(9, 6, figsize = (28,28))\n",
        "for f in features:\n",
        "  plt.subplot(24, 5, i)\n",
        "  sns.distplot(train[features], color = 'blue', kde = True, bins = 120, label = 'train')\n",
        "  i += 1\n",
        "plt.show()\n",
        "\n",
        "# 헐 얘만 돌면 사용 가능한 RAM을 모두 사용한 후 세션이 다운되었다고 뜬다. 왜?"
      ],
      "execution_count": null,
      "outputs": []
    },
    {
      "cell_type": "code",
      "metadata": {
        "id": "JwDVdi7FNUux"
      },
      "source": [
        "# Outlier Detection\n",
        "\n"
      ],
      "execution_count": null,
      "outputs": []
    },
    {
      "cell_type": "markdown",
      "metadata": {
        "id": "cBnniCtaLg6_"
      },
      "source": [
        "# Impute Missing Values"
      ]
    },
    {
      "cell_type": "code",
      "metadata": {
        "colab": {
          "base_uri": "https://localhost:8080/",
          "height": 160
        },
        "id": "dsvKBXIsLcXx",
        "outputId": "d8639a9c-a43e-4730-9b3d-75579aa6031d"
      },
      "source": [
        "from sklearn.impute import SimpleImputer\n",
        "\n",
        "imputer = SimpleImputer(strategy = 'median')\n",
        "tr_imputed = pd.DataFrame(imputer.fit_transform(train))\n",
        "\n",
        "tr_imputed.columns = train.columns\n",
        "\n",
        "# tr_imputed.isnull().sum().sort_values(ascending = False).to_frame().reset_index().head(50).T\n",
        "tr_imputed.isnull().sum().sort_values(ascending = False).to_frame().reset_index().T"
      ],
      "execution_count": 4,
      "outputs": [
        {
          "output_type": "execute_result",
          "data": {
            "text/html": [
              "<div>\n",
              "<style scoped>\n",
              "    .dataframe tbody tr th:only-of-type {\n",
              "        vertical-align: middle;\n",
              "    }\n",
              "\n",
              "    .dataframe tbody tr th {\n",
              "        vertical-align: top;\n",
              "    }\n",
              "\n",
              "    .dataframe thead th {\n",
              "        text-align: right;\n",
              "    }\n",
              "</style>\n",
              "<table border=\"1\" class=\"dataframe\">\n",
              "  <thead>\n",
              "    <tr style=\"text-align: right;\">\n",
              "      <th></th>\n",
              "      <th>0</th>\n",
              "      <th>1</th>\n",
              "      <th>2</th>\n",
              "      <th>3</th>\n",
              "      <th>4</th>\n",
              "      <th>5</th>\n",
              "      <th>6</th>\n",
              "      <th>7</th>\n",
              "      <th>8</th>\n",
              "      <th>9</th>\n",
              "      <th>10</th>\n",
              "      <th>11</th>\n",
              "      <th>12</th>\n",
              "      <th>13</th>\n",
              "      <th>14</th>\n",
              "      <th>15</th>\n",
              "      <th>16</th>\n",
              "      <th>17</th>\n",
              "      <th>18</th>\n",
              "      <th>19</th>\n",
              "      <th>20</th>\n",
              "      <th>21</th>\n",
              "      <th>22</th>\n",
              "      <th>23</th>\n",
              "      <th>24</th>\n",
              "      <th>25</th>\n",
              "      <th>26</th>\n",
              "      <th>27</th>\n",
              "      <th>28</th>\n",
              "      <th>29</th>\n",
              "      <th>30</th>\n",
              "      <th>31</th>\n",
              "      <th>32</th>\n",
              "      <th>33</th>\n",
              "      <th>34</th>\n",
              "      <th>35</th>\n",
              "      <th>36</th>\n",
              "      <th>37</th>\n",
              "      <th>38</th>\n",
              "      <th>39</th>\n",
              "      <th>...</th>\n",
              "      <th>80</th>\n",
              "      <th>81</th>\n",
              "      <th>82</th>\n",
              "      <th>83</th>\n",
              "      <th>84</th>\n",
              "      <th>85</th>\n",
              "      <th>86</th>\n",
              "      <th>87</th>\n",
              "      <th>88</th>\n",
              "      <th>89</th>\n",
              "      <th>90</th>\n",
              "      <th>91</th>\n",
              "      <th>92</th>\n",
              "      <th>93</th>\n",
              "      <th>94</th>\n",
              "      <th>95</th>\n",
              "      <th>96</th>\n",
              "      <th>97</th>\n",
              "      <th>98</th>\n",
              "      <th>99</th>\n",
              "      <th>100</th>\n",
              "      <th>101</th>\n",
              "      <th>102</th>\n",
              "      <th>103</th>\n",
              "      <th>104</th>\n",
              "      <th>105</th>\n",
              "      <th>106</th>\n",
              "      <th>107</th>\n",
              "      <th>108</th>\n",
              "      <th>109</th>\n",
              "      <th>110</th>\n",
              "      <th>111</th>\n",
              "      <th>112</th>\n",
              "      <th>113</th>\n",
              "      <th>114</th>\n",
              "      <th>115</th>\n",
              "      <th>116</th>\n",
              "      <th>117</th>\n",
              "      <th>118</th>\n",
              "      <th>119</th>\n",
              "    </tr>\n",
              "  </thead>\n",
              "  <tbody>\n",
              "    <tr>\n",
              "      <th>index</th>\n",
              "      <td>claim</td>\n",
              "      <td>f118</td>\n",
              "      <td>f31</td>\n",
              "      <td>f32</td>\n",
              "      <td>f33</td>\n",
              "      <td>f34</td>\n",
              "      <td>f35</td>\n",
              "      <td>f36</td>\n",
              "      <td>f37</td>\n",
              "      <td>f38</td>\n",
              "      <td>f39</td>\n",
              "      <td>f40</td>\n",
              "      <td>f41</td>\n",
              "      <td>f42</td>\n",
              "      <td>f43</td>\n",
              "      <td>f44</td>\n",
              "      <td>f45</td>\n",
              "      <td>f46</td>\n",
              "      <td>f47</td>\n",
              "      <td>f48</td>\n",
              "      <td>f49</td>\n",
              "      <td>f50</td>\n",
              "      <td>f51</td>\n",
              "      <td>f52</td>\n",
              "      <td>f53</td>\n",
              "      <td>f54</td>\n",
              "      <td>f55</td>\n",
              "      <td>f56</td>\n",
              "      <td>f57</td>\n",
              "      <td>f30</td>\n",
              "      <td>f29</td>\n",
              "      <td>f28</td>\n",
              "      <td>f13</td>\n",
              "      <td>f1</td>\n",
              "      <td>f2</td>\n",
              "      <td>f3</td>\n",
              "      <td>f4</td>\n",
              "      <td>f5</td>\n",
              "      <td>f6</td>\n",
              "      <td>f7</td>\n",
              "      <td>...</td>\n",
              "      <td>f109</td>\n",
              "      <td>f110</td>\n",
              "      <td>f111</td>\n",
              "      <td>f112</td>\n",
              "      <td>f113</td>\n",
              "      <td>f114</td>\n",
              "      <td>f115</td>\n",
              "      <td>f116</td>\n",
              "      <td>f117</td>\n",
              "      <td>f91</td>\n",
              "      <td>f89</td>\n",
              "      <td>f61</td>\n",
              "      <td>f74</td>\n",
              "      <td>f62</td>\n",
              "      <td>f63</td>\n",
              "      <td>f64</td>\n",
              "      <td>f65</td>\n",
              "      <td>f66</td>\n",
              "      <td>f67</td>\n",
              "      <td>f68</td>\n",
              "      <td>f69</td>\n",
              "      <td>f70</td>\n",
              "      <td>f71</td>\n",
              "      <td>f72</td>\n",
              "      <td>f73</td>\n",
              "      <td>f75</td>\n",
              "      <td>f88</td>\n",
              "      <td>f76</td>\n",
              "      <td>f77</td>\n",
              "      <td>f78</td>\n",
              "      <td>f79</td>\n",
              "      <td>f80</td>\n",
              "      <td>f81</td>\n",
              "      <td>f82</td>\n",
              "      <td>f83</td>\n",
              "      <td>f84</td>\n",
              "      <td>f85</td>\n",
              "      <td>f86</td>\n",
              "      <td>f87</td>\n",
              "      <td>id</td>\n",
              "    </tr>\n",
              "    <tr>\n",
              "      <th>0</th>\n",
              "      <td>0</td>\n",
              "      <td>0</td>\n",
              "      <td>0</td>\n",
              "      <td>0</td>\n",
              "      <td>0</td>\n",
              "      <td>0</td>\n",
              "      <td>0</td>\n",
              "      <td>0</td>\n",
              "      <td>0</td>\n",
              "      <td>0</td>\n",
              "      <td>0</td>\n",
              "      <td>0</td>\n",
              "      <td>0</td>\n",
              "      <td>0</td>\n",
              "      <td>0</td>\n",
              "      <td>0</td>\n",
              "      <td>0</td>\n",
              "      <td>0</td>\n",
              "      <td>0</td>\n",
              "      <td>0</td>\n",
              "      <td>0</td>\n",
              "      <td>0</td>\n",
              "      <td>0</td>\n",
              "      <td>0</td>\n",
              "      <td>0</td>\n",
              "      <td>0</td>\n",
              "      <td>0</td>\n",
              "      <td>0</td>\n",
              "      <td>0</td>\n",
              "      <td>0</td>\n",
              "      <td>0</td>\n",
              "      <td>0</td>\n",
              "      <td>0</td>\n",
              "      <td>0</td>\n",
              "      <td>0</td>\n",
              "      <td>0</td>\n",
              "      <td>0</td>\n",
              "      <td>0</td>\n",
              "      <td>0</td>\n",
              "      <td>0</td>\n",
              "      <td>...</td>\n",
              "      <td>0</td>\n",
              "      <td>0</td>\n",
              "      <td>0</td>\n",
              "      <td>0</td>\n",
              "      <td>0</td>\n",
              "      <td>0</td>\n",
              "      <td>0</td>\n",
              "      <td>0</td>\n",
              "      <td>0</td>\n",
              "      <td>0</td>\n",
              "      <td>0</td>\n",
              "      <td>0</td>\n",
              "      <td>0</td>\n",
              "      <td>0</td>\n",
              "      <td>0</td>\n",
              "      <td>0</td>\n",
              "      <td>0</td>\n",
              "      <td>0</td>\n",
              "      <td>0</td>\n",
              "      <td>0</td>\n",
              "      <td>0</td>\n",
              "      <td>0</td>\n",
              "      <td>0</td>\n",
              "      <td>0</td>\n",
              "      <td>0</td>\n",
              "      <td>0</td>\n",
              "      <td>0</td>\n",
              "      <td>0</td>\n",
              "      <td>0</td>\n",
              "      <td>0</td>\n",
              "      <td>0</td>\n",
              "      <td>0</td>\n",
              "      <td>0</td>\n",
              "      <td>0</td>\n",
              "      <td>0</td>\n",
              "      <td>0</td>\n",
              "      <td>0</td>\n",
              "      <td>0</td>\n",
              "      <td>0</td>\n",
              "      <td>0</td>\n",
              "    </tr>\n",
              "  </tbody>\n",
              "</table>\n",
              "<p>2 rows × 120 columns</p>\n",
              "</div>"
            ],
            "text/plain": [
              "         0     1    2    3    4    5    6    ...  113  114  115  116  117  118 119\n",
              "index  claim  f118  f31  f32  f33  f34  f35  ...  f82  f83  f84  f85  f86  f87  id\n",
              "0          0     0    0    0    0    0    0  ...    0    0    0    0    0    0   0\n",
              "\n",
              "[2 rows x 120 columns]"
            ]
          },
          "metadata": {},
          "execution_count": 4
        }
      ]
    },
    {
      "cell_type": "code",
      "metadata": {
        "id": "TaYBkew8OdQ-"
      },
      "source": [
        ""
      ],
      "execution_count": null,
      "outputs": []
    },
    {
      "cell_type": "markdown",
      "metadata": {
        "id": "EzQz3v8hPcFs"
      },
      "source": [
        "# AutoML H2O"
      ]
    },
    {
      "cell_type": "code",
      "metadata": {
        "colab": {
          "base_uri": "https://localhost:8080/"
        },
        "id": "JleAjSCjPi9r",
        "outputId": "b309dd54-0aaf-48d8-f075-8148a69f083b"
      },
      "source": [
        "!pip install requests\n",
        "!pip install tabulate\n",
        "!pip install \"colorma>=0.3.8\"\n",
        "!pip install future\n",
        "\n",
        "!pip uninstall h2o\n",
        "\n",
        "!pip install -f http://h2o-release.s3.amazonaws.com/h2o/latest_stable_Py.html h2o"
      ],
      "execution_count": 2,
      "outputs": [
        {
          "output_type": "stream",
          "name": "stdout",
          "text": [
            "Requirement already satisfied: requests in /usr/local/lib/python3.7/dist-packages (2.23.0)\n",
            "Requirement already satisfied: chardet<4,>=3.0.2 in /usr/local/lib/python3.7/dist-packages (from requests) (3.0.4)\n",
            "Requirement already satisfied: urllib3!=1.25.0,!=1.25.1,<1.26,>=1.21.1 in /usr/local/lib/python3.7/dist-packages (from requests) (1.24.3)\n",
            "Requirement already satisfied: certifi>=2017.4.17 in /usr/local/lib/python3.7/dist-packages (from requests) (2021.5.30)\n",
            "Requirement already satisfied: idna<3,>=2.5 in /usr/local/lib/python3.7/dist-packages (from requests) (2.10)\n",
            "Requirement already satisfied: tabulate in /usr/local/lib/python3.7/dist-packages (0.8.9)\n",
            "\u001b[31mERROR: Could not find a version that satisfies the requirement colorma>=0.3.8 (from versions: none)\u001b[0m\n",
            "\u001b[31mERROR: No matching distribution found for colorma>=0.3.8\u001b[0m\n",
            "Requirement already satisfied: future in /usr/local/lib/python3.7/dist-packages (0.16.0)\n",
            "Found existing installation: h2o 3.34.0.1\n",
            "Uninstalling h2o-3.34.0.1:\n",
            "  Would remove:\n",
            "    /usr/local/lib/python3.7/dist-packages/h2o-3.34.0.1.dist-info/*\n",
            "    /usr/local/lib/python3.7/dist-packages/h2o/*\n",
            "Proceed (y/n)? y\n",
            "  Successfully uninstalled h2o-3.34.0.1\n",
            "Looking in links: http://h2o-release.s3.amazonaws.com/h2o/latest_stable_Py.html\n",
            "\u001b[33mWARNING: The repository located at h2o-release.s3.amazonaws.com is not a trusted or secure host and is being ignored. If this repository is available via HTTPS we recommend you use HTTPS instead, otherwise you may silence this warning and allow it anyway with '--trusted-host h2o-release.s3.amazonaws.com'.\u001b[0m\n",
            "Collecting h2o\n",
            "  Using cached h2o-3.34.0.1-py2.py3-none-any.whl\n",
            "Requirement already satisfied: future in /usr/local/lib/python3.7/dist-packages (from h2o) (0.16.0)\n",
            "Requirement already satisfied: requests in /usr/local/lib/python3.7/dist-packages (from h2o) (2.23.0)\n",
            "Requirement already satisfied: tabulate in /usr/local/lib/python3.7/dist-packages (from h2o) (0.8.9)\n",
            "Requirement already satisfied: idna<3,>=2.5 in /usr/local/lib/python3.7/dist-packages (from requests->h2o) (2.10)\n",
            "Requirement already satisfied: urllib3!=1.25.0,!=1.25.1,<1.26,>=1.21.1 in /usr/local/lib/python3.7/dist-packages (from requests->h2o) (1.24.3)\n",
            "Requirement already satisfied: certifi>=2017.4.17 in /usr/local/lib/python3.7/dist-packages (from requests->h2o) (2021.5.30)\n",
            "Requirement already satisfied: chardet<4,>=3.0.2 in /usr/local/lib/python3.7/dist-packages (from requests->h2o) (3.0.4)\n",
            "Installing collected packages: h2o\n",
            "Successfully installed h2o-3.34.0.1\n"
          ]
        }
      ]
    },
    {
      "cell_type": "code",
      "metadata": {
        "colab": {
          "base_uri": "https://localhost:8080/",
          "height": 373
        },
        "id": "HGd-1fOTPyC8",
        "outputId": "c068069a-6263-4056-9d49-c127579fa037"
      },
      "source": [
        "from sklearn.model_selection import train_test_split\n",
        "import time\n",
        "import h2o\n",
        "from h2o.automl import H2OAutoML\n",
        "from h2o.estimators.gbm import H2OGradientBoostingEstimator\n",
        "h2o.init()\n",
        "h2o.no_progress()"
      ],
      "execution_count": 5,
      "outputs": [
        {
          "output_type": "stream",
          "name": "stdout",
          "text": [
            "Checking whether there is an H2O instance running at http://localhost:54321 . connected.\n"
          ]
        },
        {
          "output_type": "display_data",
          "data": {
            "text/html": [
              "<div style=\"overflow:auto\"><table style=\"width:50%\"><tr><td>H2O_cluster_uptime:</td>\n",
              "<td>22 mins 35 secs</td></tr>\n",
              "<tr><td>H2O_cluster_timezone:</td>\n",
              "<td>Etc/UTC</td></tr>\n",
              "<tr><td>H2O_data_parsing_timezone:</td>\n",
              "<td>UTC</td></tr>\n",
              "<tr><td>H2O_cluster_version:</td>\n",
              "<td>3.34.0.1</td></tr>\n",
              "<tr><td>H2O_cluster_version_age:</td>\n",
              "<td>3 days </td></tr>\n",
              "<tr><td>H2O_cluster_name:</td>\n",
              "<td>H2O_from_python_unknownUser_4hluqx</td></tr>\n",
              "<tr><td>H2O_cluster_total_nodes:</td>\n",
              "<td>1</td></tr>\n",
              "<tr><td>H2O_cluster_free_memory:</td>\n",
              "<td>1.119 Gb</td></tr>\n",
              "<tr><td>H2O_cluster_total_cores:</td>\n",
              "<td>2</td></tr>\n",
              "<tr><td>H2O_cluster_allowed_cores:</td>\n",
              "<td>2</td></tr>\n",
              "<tr><td>H2O_cluster_status:</td>\n",
              "<td>locked, healthy</td></tr>\n",
              "<tr><td>H2O_connection_url:</td>\n",
              "<td>http://localhost:54321</td></tr>\n",
              "<tr><td>H2O_connection_proxy:</td>\n",
              "<td>{\"http\": null, \"https\": null}</td></tr>\n",
              "<tr><td>H2O_internal_security:</td>\n",
              "<td>False</td></tr>\n",
              "<tr><td>H2O_API_Extensions:</td>\n",
              "<td>Amazon S3, XGBoost, Algos, AutoML, Core V3, TargetEncoder, Core V4</td></tr>\n",
              "<tr><td>Python_version:</td>\n",
              "<td>3.7.12 final</td></tr></table></div>"
            ],
            "text/plain": [
              "--------------------------  ------------------------------------------------------------------\n",
              "H2O_cluster_uptime:         22 mins 35 secs\n",
              "H2O_cluster_timezone:       Etc/UTC\n",
              "H2O_data_parsing_timezone:  UTC\n",
              "H2O_cluster_version:        3.34.0.1\n",
              "H2O_cluster_version_age:    3 days\n",
              "H2O_cluster_name:           H2O_from_python_unknownUser_4hluqx\n",
              "H2O_cluster_total_nodes:    1\n",
              "H2O_cluster_free_memory:    1.119 Gb\n",
              "H2O_cluster_total_cores:    2\n",
              "H2O_cluster_allowed_cores:  2\n",
              "H2O_cluster_status:         locked, healthy\n",
              "H2O_connection_url:         http://localhost:54321\n",
              "H2O_connection_proxy:       {\"http\": null, \"https\": null}\n",
              "H2O_internal_security:      False\n",
              "H2O_API_Extensions:         Amazon S3, XGBoost, Algos, AutoML, Core V3, TargetEncoder, Core V4\n",
              "Python_version:             3.7.12 final\n",
              "--------------------------  ------------------------------------------------------------------"
            ]
          },
          "metadata": {}
        }
      ]
    },
    {
      "cell_type": "code",
      "metadata": {
        "id": "jVesDYkPZDsN"
      },
      "source": [
        "y = \"claim\"\n",
        "tr_imputed = tr_imputed.drop(columns = 'id')"
      ],
      "execution_count": 6,
      "outputs": []
    },
    {
      "cell_type": "code",
      "metadata": {
        "id": "8zbyOsXNQt8V"
      },
      "source": [
        "# y = tr_imputed['claim']\n",
        "# tr_imputed = tr_imputed.drop(columns = ['id', 'claim'])\n",
        "x = list(tr_imputed.columns)\n",
        "\n",
        "train, valid = train_test_split(tr_imputed,\n",
        "                                test_size = 0.2,\n",
        "                                shuffle = True)\n",
        "\n",
        "h2o_train = h2o.H2OFrame(train)\n",
        "h2o_valid = h2o.H2OFrame(valid)\n",
        "\n",
        "# For binary classification\n",
        "# h2o_train[y] = h2o_train[y].asfactor()\n",
        "# h2o_valid[y] = h2o_valid[y].asfactor()\n",
        "# 데이터 중 라벨이 어떤 column에 해당하는지 알려주는 함수 .asfactor()"
      ],
      "execution_count": null,
      "outputs": []
    },
    {
      "cell_type": "code",
      "metadata": {
        "id": "7GLl9cDYdNw_"
      },
      "source": [
        "x.remove(y)"
      ],
      "execution_count": null,
      "outputs": []
    },
    {
      "cell_type": "code",
      "metadata": {
        "id": "1MzTa54FUP82"
      },
      "source": [
        "# # H2O TypeError\n",
        "# '''\n",
        "# H2O is expecting a native Python int, but you are passing a numpy int64. \n",
        "# Try converting the numpy array into a list max_depth=np.arange(10,11,1).tolist()[0]'''\n",
        "\n",
        "# sec_train_path = '/content/drive/MyDrive/DATA/Kaggle_TPS09/train.csv'\n",
        "# sec_train = pd.read_csv(sec_train_path)\n",
        "# sec_train.drop(columns = 'id')"
      ],
      "execution_count": 22,
      "outputs": []
    },
    {
      "cell_type": "code",
      "metadata": {
        "id": "9B-gFe7WRlo4"
      },
      "source": [
        "aml = H2OAutoML(stopping_metric = 'AUC', max_runtime_secs = MAX_MODEL_RUNTIME_SECS)\n",
        "aml.train (x=x, y=y, training_frame = h2o_train, leaderboard_frame = h2o_valid)"
      ],
      "execution_count": null,
      "outputs": []
    },
    {
      "cell_type": "code",
      "metadata": {
        "id": "KkjjYCSgRbkr"
      },
      "source": [
        "leaderboard = aml.leaderboard\n",
        "performance = aml.leader.model_performance(h2o_valid)\n",
        "\n",
        "model_id = aml.leader.model_id\n",
        "accuracy = performance.accuracy()\n",
        "precision = performance.precision()\n",
        "recall = performance.recall()\n",
        "F1 = performance.recall()\n",
        "auc = performance.auc()\n",
        "variable_importance = aml.leader.varimp()\n",
        "\n",
        "print(model_id, accuracy, precision, recall, F1, auc, variable_importance)\n",
        "print(performance)"
      ],
      "execution_count": null,
      "outputs": []
    },
    {
      "cell_type": "code",
      "metadata": {
        "id": "x5Sxjx-ge1Qy"
      },
      "source": [
        "preds_h2o = aml.leader.predict(h2o_test)"
      ],
      "execution_count": null,
      "outputs": []
    },
    {
      "cell_type": "code",
      "metadata": {
        "id": "JKu5bzXOgF0E"
      },
      "source": [
        "solution['claim'] = preds_h2o"
      ],
      "execution_count": null,
      "outputs": []
    }
  ]
}