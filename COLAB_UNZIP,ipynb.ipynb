{
  "nbformat": 4,
  "nbformat_minor": 0,
  "metadata": {
    "colab": {
      "name": "COLAB UNZIP,ipynb",
      "provenance": [],
      "mount_file_id": "1R3NYSlhd_bXXTvV7CJ8TYJTuf4BN_kMS",
      "authorship_tag": "ABX9TyOO7VmQDgx1R0hpw4BsIubd",
      "include_colab_link": true
    },
    "kernelspec": {
      "name": "python3",
      "display_name": "Python 3"
    },
    "language_info": {
      "name": "python"
    }
  },
  "cells": [
    {
      "cell_type": "markdown",
      "metadata": {
        "id": "view-in-github",
        "colab_type": "text"
      },
      "source": [
        "<a href=\"https://colab.research.google.com/github/Jee-9/Study/blob/main/COLAB_UNZIP%2Cipynb.ipynb\" target=\"_parent\"><img src=\"https://colab.research.google.com/assets/colab-badge.svg\" alt=\"Open In Colab\"/></a>"
      ]
    },
    {
      "cell_type": "code",
      "metadata": {
        "id": "E7cxUAQNJOxb"
      },
      "source": [
        "!unzip -qq \"/content/drive/MyDrive/LECTURES/Inflearn CNN Lecture/실습코드.zip\" -d \"/content/drive/MyDrive/LECTURES/Inflearn CNN Lecture/CNN DATA\""
      ],
      "execution_count": null,
      "outputs": []
    },
    {
      "cell_type": "code",
      "metadata": {
        "id": "Y1N-gYqvJtSb"
      },
      "source": [
        ""
      ],
      "execution_count": null,
      "outputs": []
    }
  ]
}