{
  "nbformat": 4,
  "nbformat_minor": 0,
  "metadata": {
    "colab": {
      "name": "Velog-Examples.ipynb",
      "provenance": [],
      "authorship_tag": "ABX9TyPQ5VFWgnH2FuvTNK7EJwaT",
      "include_colab_link": true
    },
    "kernelspec": {
      "name": "python3",
      "display_name": "Python 3"
    },
    "language_info": {
      "name": "python"
    },
    "accelerator": "GPU"
  },
  "cells": [
    {
      "cell_type": "markdown",
      "metadata": {
        "id": "view-in-github",
        "colab_type": "text"
      },
      "source": [
        "<a href=\"https://colab.research.google.com/github/Jee-9/Study/blob/main/Velog_Examples.ipynb\" target=\"_parent\"><img src=\"https://colab.research.google.com/assets/colab-badge.svg\" alt=\"Open In Colab\"/></a>"
      ]
    },
    {
      "cell_type": "markdown",
      "source": [
        "# load_wine dataset + Classifier model "
      ],
      "metadata": {
        "id": "25VVQ042SnIJ"
      }
    },
    {
      "cell_type": "code",
      "source": [
        "import pandas as pd\n",
        "import numpy as np\n",
        "\n",
        "from sklearn.datasets import load_wine\n",
        "\n",
        "from sklearn.model_selection import train_test_split\n",
        "from sklearn.ensemble import RandomForestClassifier\n",
        "from sklearn.metrics import accuracy_score\n",
        "\n",
        "\n",
        "# 데이터 불러오기\n",
        "wine_numpy = load_wine()\n",
        "wine_data = wine_numpy.data\n",
        "\n",
        "data = pd.DataFrame(data = wine_data, columns = wine_numpy.feature_names)\n",
        "data['label'] = wine_numpy.target\n",
        "\n",
        "# 데이터 나누기\n",
        "X_train, X_test, y_train, y_test = train_test_split(data.iloc[:, :-1], data['label'], train_size = 0.8, random_state = 24)\n",
        "\n",
        "# 모델 학습 및 평가\n",
        "model = RandomForestClassifier(random_state = 24)\n",
        "model.fit(X_train, y_train)\n",
        "preds = model.predict(X_test)\n",
        "accuracy = accuracy_score(y_test, preds)\n",
        "\n",
        "\n",
        "# accuracy 확인\n",
        "print('accuracy: {0:.4f}'.format(accuracy))"
      ],
      "metadata": {
        "colab": {
          "base_uri": "https://localhost:8080/"
        },
        "id": "1yH6qxoPSn6e",
        "outputId": "9ae3e468-68af-44e3-c382-5dd179c36265"
      },
      "execution_count": null,
      "outputs": [
        {
          "output_type": "stream",
          "name": "stdout",
          "text": [
            "accuracy: 0.9722\n"
          ]
        }
      ]
    },
    {
      "cell_type": "code",
      "source": [
        ""
      ],
      "metadata": {
        "id": "NHMdUX4wS7XR"
      },
      "execution_count": null,
      "outputs": []
    },
    {
      "cell_type": "markdown",
      "source": [
        "# fetch_california_housing + Regressor"
      ],
      "metadata": {
        "id": "k25O7vK7Tz95"
      }
    },
    {
      "cell_type": "code",
      "source": [
        "from sklearn.datasets import fetch_california_housing\n",
        "import pandas as pd\n",
        "\n",
        "housing_numpy = fetch_california_housing()\n",
        "\n",
        "housing_data = housing_numpy.data\n",
        "housing_target = housing_numpy.target\n",
        "\n",
        "data = pd.DataFrame(data = housing_data, columns = housing_numpy.feature_names)\n",
        "data['MedHouseVal'] = housing_numpy.target\n",
        "\n",
        "data"
      ],
      "metadata": {
        "colab": {
          "base_uri": "https://localhost:8080/",
          "height": 424
        },
        "id": "N-FJFlz1T0rW",
        "outputId": "5aa6a21c-4bc9-420d-d3d8-391e8b4df64d"
      },
      "execution_count": null,
      "outputs": [
        {
          "output_type": "execute_result",
          "data": {
            "text/html": [
              "\n",
              "  <div id=\"df-e1c040f7-0a4d-46a4-9c15-44d66c40d17a\">\n",
              "    <div class=\"colab-df-container\">\n",
              "      <div>\n",
              "<style scoped>\n",
              "    .dataframe tbody tr th:only-of-type {\n",
              "        vertical-align: middle;\n",
              "    }\n",
              "\n",
              "    .dataframe tbody tr th {\n",
              "        vertical-align: top;\n",
              "    }\n",
              "\n",
              "    .dataframe thead th {\n",
              "        text-align: right;\n",
              "    }\n",
              "</style>\n",
              "<table border=\"1\" class=\"dataframe\">\n",
              "  <thead>\n",
              "    <tr style=\"text-align: right;\">\n",
              "      <th></th>\n",
              "      <th>MedInc</th>\n",
              "      <th>HouseAge</th>\n",
              "      <th>AveRooms</th>\n",
              "      <th>AveBedrms</th>\n",
              "      <th>Population</th>\n",
              "      <th>AveOccup</th>\n",
              "      <th>Latitude</th>\n",
              "      <th>Longitude</th>\n",
              "      <th>MedHouseVal</th>\n",
              "    </tr>\n",
              "  </thead>\n",
              "  <tbody>\n",
              "    <tr>\n",
              "      <th>0</th>\n",
              "      <td>8.3252</td>\n",
              "      <td>41.0</td>\n",
              "      <td>6.984127</td>\n",
              "      <td>1.023810</td>\n",
              "      <td>322.0</td>\n",
              "      <td>2.555556</td>\n",
              "      <td>37.88</td>\n",
              "      <td>-122.23</td>\n",
              "      <td>4.526</td>\n",
              "    </tr>\n",
              "    <tr>\n",
              "      <th>1</th>\n",
              "      <td>8.3014</td>\n",
              "      <td>21.0</td>\n",
              "      <td>6.238137</td>\n",
              "      <td>0.971880</td>\n",
              "      <td>2401.0</td>\n",
              "      <td>2.109842</td>\n",
              "      <td>37.86</td>\n",
              "      <td>-122.22</td>\n",
              "      <td>3.585</td>\n",
              "    </tr>\n",
              "    <tr>\n",
              "      <th>2</th>\n",
              "      <td>7.2574</td>\n",
              "      <td>52.0</td>\n",
              "      <td>8.288136</td>\n",
              "      <td>1.073446</td>\n",
              "      <td>496.0</td>\n",
              "      <td>2.802260</td>\n",
              "      <td>37.85</td>\n",
              "      <td>-122.24</td>\n",
              "      <td>3.521</td>\n",
              "    </tr>\n",
              "    <tr>\n",
              "      <th>3</th>\n",
              "      <td>5.6431</td>\n",
              "      <td>52.0</td>\n",
              "      <td>5.817352</td>\n",
              "      <td>1.073059</td>\n",
              "      <td>558.0</td>\n",
              "      <td>2.547945</td>\n",
              "      <td>37.85</td>\n",
              "      <td>-122.25</td>\n",
              "      <td>3.413</td>\n",
              "    </tr>\n",
              "    <tr>\n",
              "      <th>4</th>\n",
              "      <td>3.8462</td>\n",
              "      <td>52.0</td>\n",
              "      <td>6.281853</td>\n",
              "      <td>1.081081</td>\n",
              "      <td>565.0</td>\n",
              "      <td>2.181467</td>\n",
              "      <td>37.85</td>\n",
              "      <td>-122.25</td>\n",
              "      <td>3.422</td>\n",
              "    </tr>\n",
              "    <tr>\n",
              "      <th>...</th>\n",
              "      <td>...</td>\n",
              "      <td>...</td>\n",
              "      <td>...</td>\n",
              "      <td>...</td>\n",
              "      <td>...</td>\n",
              "      <td>...</td>\n",
              "      <td>...</td>\n",
              "      <td>...</td>\n",
              "      <td>...</td>\n",
              "    </tr>\n",
              "    <tr>\n",
              "      <th>20635</th>\n",
              "      <td>1.5603</td>\n",
              "      <td>25.0</td>\n",
              "      <td>5.045455</td>\n",
              "      <td>1.133333</td>\n",
              "      <td>845.0</td>\n",
              "      <td>2.560606</td>\n",
              "      <td>39.48</td>\n",
              "      <td>-121.09</td>\n",
              "      <td>0.781</td>\n",
              "    </tr>\n",
              "    <tr>\n",
              "      <th>20636</th>\n",
              "      <td>2.5568</td>\n",
              "      <td>18.0</td>\n",
              "      <td>6.114035</td>\n",
              "      <td>1.315789</td>\n",
              "      <td>356.0</td>\n",
              "      <td>3.122807</td>\n",
              "      <td>39.49</td>\n",
              "      <td>-121.21</td>\n",
              "      <td>0.771</td>\n",
              "    </tr>\n",
              "    <tr>\n",
              "      <th>20637</th>\n",
              "      <td>1.7000</td>\n",
              "      <td>17.0</td>\n",
              "      <td>5.205543</td>\n",
              "      <td>1.120092</td>\n",
              "      <td>1007.0</td>\n",
              "      <td>2.325635</td>\n",
              "      <td>39.43</td>\n",
              "      <td>-121.22</td>\n",
              "      <td>0.923</td>\n",
              "    </tr>\n",
              "    <tr>\n",
              "      <th>20638</th>\n",
              "      <td>1.8672</td>\n",
              "      <td>18.0</td>\n",
              "      <td>5.329513</td>\n",
              "      <td>1.171920</td>\n",
              "      <td>741.0</td>\n",
              "      <td>2.123209</td>\n",
              "      <td>39.43</td>\n",
              "      <td>-121.32</td>\n",
              "      <td>0.847</td>\n",
              "    </tr>\n",
              "    <tr>\n",
              "      <th>20639</th>\n",
              "      <td>2.3886</td>\n",
              "      <td>16.0</td>\n",
              "      <td>5.254717</td>\n",
              "      <td>1.162264</td>\n",
              "      <td>1387.0</td>\n",
              "      <td>2.616981</td>\n",
              "      <td>39.37</td>\n",
              "      <td>-121.24</td>\n",
              "      <td>0.894</td>\n",
              "    </tr>\n",
              "  </tbody>\n",
              "</table>\n",
              "<p>20640 rows × 9 columns</p>\n",
              "</div>\n",
              "      <button class=\"colab-df-convert\" onclick=\"convertToInteractive('df-e1c040f7-0a4d-46a4-9c15-44d66c40d17a')\"\n",
              "              title=\"Convert this dataframe to an interactive table.\"\n",
              "              style=\"display:none;\">\n",
              "        \n",
              "  <svg xmlns=\"http://www.w3.org/2000/svg\" height=\"24px\"viewBox=\"0 0 24 24\"\n",
              "       width=\"24px\">\n",
              "    <path d=\"M0 0h24v24H0V0z\" fill=\"none\"/>\n",
              "    <path d=\"M18.56 5.44l.94 2.06.94-2.06 2.06-.94-2.06-.94-.94-2.06-.94 2.06-2.06.94zm-11 1L8.5 8.5l.94-2.06 2.06-.94-2.06-.94L8.5 2.5l-.94 2.06-2.06.94zm10 10l.94 2.06.94-2.06 2.06-.94-2.06-.94-.94-2.06-.94 2.06-2.06.94z\"/><path d=\"M17.41 7.96l-1.37-1.37c-.4-.4-.92-.59-1.43-.59-.52 0-1.04.2-1.43.59L10.3 9.45l-7.72 7.72c-.78.78-.78 2.05 0 2.83L4 21.41c.39.39.9.59 1.41.59.51 0 1.02-.2 1.41-.59l7.78-7.78 2.81-2.81c.8-.78.8-2.07 0-2.86zM5.41 20L4 18.59l7.72-7.72 1.47 1.35L5.41 20z\"/>\n",
              "  </svg>\n",
              "      </button>\n",
              "      \n",
              "  <style>\n",
              "    .colab-df-container {\n",
              "      display:flex;\n",
              "      flex-wrap:wrap;\n",
              "      gap: 12px;\n",
              "    }\n",
              "\n",
              "    .colab-df-convert {\n",
              "      background-color: #E8F0FE;\n",
              "      border: none;\n",
              "      border-radius: 50%;\n",
              "      cursor: pointer;\n",
              "      display: none;\n",
              "      fill: #1967D2;\n",
              "      height: 32px;\n",
              "      padding: 0 0 0 0;\n",
              "      width: 32px;\n",
              "    }\n",
              "\n",
              "    .colab-df-convert:hover {\n",
              "      background-color: #E2EBFA;\n",
              "      box-shadow: 0px 1px 2px rgba(60, 64, 67, 0.3), 0px 1px 3px 1px rgba(60, 64, 67, 0.15);\n",
              "      fill: #174EA6;\n",
              "    }\n",
              "\n",
              "    [theme=dark] .colab-df-convert {\n",
              "      background-color: #3B4455;\n",
              "      fill: #D2E3FC;\n",
              "    }\n",
              "\n",
              "    [theme=dark] .colab-df-convert:hover {\n",
              "      background-color: #434B5C;\n",
              "      box-shadow: 0px 1px 3px 1px rgba(0, 0, 0, 0.15);\n",
              "      filter: drop-shadow(0px 1px 2px rgba(0, 0, 0, 0.3));\n",
              "      fill: #FFFFFF;\n",
              "    }\n",
              "  </style>\n",
              "\n",
              "      <script>\n",
              "        const buttonEl =\n",
              "          document.querySelector('#df-e1c040f7-0a4d-46a4-9c15-44d66c40d17a button.colab-df-convert');\n",
              "        buttonEl.style.display =\n",
              "          google.colab.kernel.accessAllowed ? 'block' : 'none';\n",
              "\n",
              "        async function convertToInteractive(key) {\n",
              "          const element = document.querySelector('#df-e1c040f7-0a4d-46a4-9c15-44d66c40d17a');\n",
              "          const dataTable =\n",
              "            await google.colab.kernel.invokeFunction('convertToInteractive',\n",
              "                                                     [key], {});\n",
              "          if (!dataTable) return;\n",
              "\n",
              "          const docLinkHtml = 'Like what you see? Visit the ' +\n",
              "            '<a target=\"_blank\" href=https://colab.research.google.com/notebooks/data_table.ipynb>data table notebook</a>'\n",
              "            + ' to learn more about interactive tables.';\n",
              "          element.innerHTML = '';\n",
              "          dataTable['output_type'] = 'display_data';\n",
              "          await google.colab.output.renderOutput(dataTable, element);\n",
              "          const docLink = document.createElement('div');\n",
              "          docLink.innerHTML = docLinkHtml;\n",
              "          element.appendChild(docLink);\n",
              "        }\n",
              "      </script>\n",
              "    </div>\n",
              "  </div>\n",
              "  "
            ],
            "text/plain": [
              "       MedInc  HouseAge  AveRooms  ...  Latitude  Longitude  MedHouseVal\n",
              "0      8.3252      41.0  6.984127  ...     37.88    -122.23        4.526\n",
              "1      8.3014      21.0  6.238137  ...     37.86    -122.22        3.585\n",
              "2      7.2574      52.0  8.288136  ...     37.85    -122.24        3.521\n",
              "3      5.6431      52.0  5.817352  ...     37.85    -122.25        3.413\n",
              "4      3.8462      52.0  6.281853  ...     37.85    -122.25        3.422\n",
              "...       ...       ...       ...  ...       ...        ...          ...\n",
              "20635  1.5603      25.0  5.045455  ...     39.48    -121.09        0.781\n",
              "20636  2.5568      18.0  6.114035  ...     39.49    -121.21        0.771\n",
              "20637  1.7000      17.0  5.205543  ...     39.43    -121.22        0.923\n",
              "20638  1.8672      18.0  5.329513  ...     39.43    -121.32        0.847\n",
              "20639  2.3886      16.0  5.254717  ...     39.37    -121.24        0.894\n",
              "\n",
              "[20640 rows x 9 columns]"
            ]
          },
          "metadata": {},
          "execution_count": 36
        }
      ]
    },
    {
      "cell_type": "code",
      "source": [
        "housing_numpy"
      ],
      "metadata": {
        "colab": {
          "base_uri": "https://localhost:8080/"
        },
        "id": "I1rgjF-jT-Iv",
        "outputId": "77dccc36-7571-4f3e-f58b-dd8ab7976385"
      },
      "execution_count": null,
      "outputs": [
        {
          "output_type": "execute_result",
          "data": {
            "text/plain": [
              "{'DESCR': '.. _california_housing_dataset:\\n\\nCalifornia Housing dataset\\n--------------------------\\n\\n**Data Set Characteristics:**\\n\\n    :Number of Instances: 20640\\n\\n    :Number of Attributes: 8 numeric, predictive attributes and the target\\n\\n    :Attribute Information:\\n        - MedInc        median income in block group\\n        - HouseAge      median house age in block group\\n        - AveRooms      average number of rooms per household\\n        - AveBedrms     average number of bedrooms per household\\n        - Population    block group population\\n        - AveOccup      average number of household members\\n        - Latitude      block group latitude\\n        - Longitude     block group longitude\\n\\n    :Missing Attribute Values: None\\n\\nThis dataset was obtained from the StatLib repository.\\nhttps://www.dcc.fc.up.pt/~ltorgo/Regression/cal_housing.html\\n\\nThe target variable is the median house value for California districts,\\nexpressed in hundreds of thousands of dollars ($100,000).\\n\\nThis dataset was derived from the 1990 U.S. census, using one row per census\\nblock group. A block group is the smallest geographical unit for which the U.S.\\nCensus Bureau publishes sample data (a block group typically has a population\\nof 600 to 3,000 people).\\n\\nAn household is a group of people residing within a home. Since the average\\nnumber of rooms and bedrooms in this dataset are provided per household, these\\ncolumns may take surpinsingly large values for block groups with few households\\nand many empty houses, such as vacation resorts.\\n\\nIt can be downloaded/loaded using the\\n:func:`sklearn.datasets.fetch_california_housing` function.\\n\\n.. topic:: References\\n\\n    - Pace, R. Kelley and Ronald Barry, Sparse Spatial Autoregressions,\\n      Statistics and Probability Letters, 33 (1997) 291-297\\n',\n",
              " 'data': array([[   8.3252    ,   41.        ,    6.98412698, ...,    2.55555556,\n",
              "           37.88      , -122.23      ],\n",
              "        [   8.3014    ,   21.        ,    6.23813708, ...,    2.10984183,\n",
              "           37.86      , -122.22      ],\n",
              "        [   7.2574    ,   52.        ,    8.28813559, ...,    2.80225989,\n",
              "           37.85      , -122.24      ],\n",
              "        ...,\n",
              "        [   1.7       ,   17.        ,    5.20554273, ...,    2.3256351 ,\n",
              "           39.43      , -121.22      ],\n",
              "        [   1.8672    ,   18.        ,    5.32951289, ...,    2.12320917,\n",
              "           39.43      , -121.32      ],\n",
              "        [   2.3886    ,   16.        ,    5.25471698, ...,    2.61698113,\n",
              "           39.37      , -121.24      ]]),\n",
              " 'feature_names': ['MedInc',\n",
              "  'HouseAge',\n",
              "  'AveRooms',\n",
              "  'AveBedrms',\n",
              "  'Population',\n",
              "  'AveOccup',\n",
              "  'Latitude',\n",
              "  'Longitude'],\n",
              " 'frame': None,\n",
              " 'target': array([4.526, 3.585, 3.521, ..., 0.923, 0.847, 0.894]),\n",
              " 'target_names': ['MedHouseVal']}"
            ]
          },
          "metadata": {},
          "execution_count": 32
        }
      ]
    },
    {
      "cell_type": "code",
      "source": [
        "import pandas as pd\n",
        "import numpy as np\n",
        "\n",
        "from sklearn.datasets import fetch_california_housing\n",
        "\n",
        "from sklearn.model_selection import train_test_split\n",
        "from sklearn.ensemble import RandomForestRegressor\n",
        "from sklearn.metrics import accuracy_score\n",
        "\n",
        "\n",
        "# 데이터 불러오기\n",
        "housing_numpy = fetch_california_housing()\n",
        "housing_data = housing_numpy.data\n",
        "\n",
        "data = pd.DataFrame(data = housing_data, columns = housing_numpy.feature_names)\n",
        "data['MedHouseVal'] = housing_numpy.target\n",
        "\n",
        "# 데이터 나누기\n",
        "X_train, X_test, y_train, y_test = train_test_split(data.iloc[:, :-1], data['MedHouseVal'], train_size = 0.8, random_state = 24)\n",
        "\n",
        "# 모델 학습 및 평가\n",
        "model = RandomForestRegressor(n_estimators = 1000, random_state = 24)\n",
        "model.fit(X_train, y_train)\n",
        "preds = model.predict(X_test)\n",
        "\n",
        "\n",
        "print(preds)\n",
        "\n",
        "# accuracy 확인\n",
        "# print('accuracy: {0:.4f}'.format(accuracy))"
      ],
      "metadata": {
        "colab": {
          "base_uri": "https://localhost:8080/"
        },
        "id": "os8TLB4PUCpc",
        "outputId": "e8593453-f391-4643-86e9-a3d1e2b6b671"
      },
      "execution_count": null,
      "outputs": [
        {
          "output_type": "stream",
          "name": "stdout",
          "text": [
            "[3.06753249 1.33508599 3.14455408 ... 2.24484    1.875167   0.850555  ]\n"
          ]
        }
      ]
    },
    {
      "cell_type": "code",
      "source": [
        ""
      ],
      "metadata": {
        "id": "9_uCElk8U9dC"
      },
      "execution_count": null,
      "outputs": []
    },
    {
      "cell_type": "markdown",
      "source": [
        "# KFold Examples\n"
      ],
      "metadata": {
        "id": "LounOI980zgA"
      }
    },
    {
      "cell_type": "code",
      "source": [
        "import pandas as pd\n",
        "\n",
        "from sklearn.model_selection import KFold\n",
        "\n",
        "from sklearn.datasets import load_wine\n",
        "\n",
        "\n",
        "np_data = load_wine()\n",
        "wine_data = np_data.data\n",
        "wine_label = np_data.target\n",
        "\n",
        "data = pd.DataFrame(data = wine_data, columns = np_data.feature_names,)\n",
        "data['label'] = np_data.target"
      ],
      "metadata": {
        "id": "CXO0fKFL01ld"
      },
      "execution_count": 10,
      "outputs": []
    },
    {
      "cell_type": "code",
      "source": [
        "from xgboost import XGBClassifier\n",
        "from sklearn.model_selection import KFold\n",
        "import matplotlib.pyplot as plt\n",
        "%matplotlib inline\n",
        "\n",
        "import pandas as pd\n",
        "\n",
        "fig, axes = plt.subplots(7, 2)\n",
        "\n",
        "for i,col in enumerate(data.columns):\n",
        "  axes[i%7, i//7].plot(data[col],)"
      ],
      "metadata": {
        "colab": {
          "base_uri": "https://localhost:8080/",
          "height": 269
        },
        "id": "YUxHtElI2Mdw",
        "outputId": "604a33cc-1176-4591-c6a7-4e55db68f3f1"
      },
      "execution_count": 55,
      "outputs": [
        {
          "output_type": "display_data",
          "data": {
            "image/png": "[encoded data removed]",
            "text/plain": [
              "<Figure size 432x288 with 14 Axes>"
            ]
          },
          "metadata": {
            "needs_background": "light"
          }
        }
      ]
    },
    {
      "cell_type": "code",
      "source": [
        "from xgboost import XGBClassifier\n",
        "from sklearn.model_selection import KFold\n",
        "from sklearn.metrics import accuracy_score\n",
        "\n",
        "import warnings\n",
        "warnings.filterwarnings(action = 'ignore')\n",
        "\n",
        "model = XGBClassifier()\n",
        "\n",
        "\n",
        "SPLITS = 5\n",
        "kf = KFold(n_splits = SPLITS)\n",
        "n_iter = 0\n",
        "\n",
        "features = data.iloc[:,:-1]\n",
        "label = pd.DataFrame(data['label'])\n",
        "\n",
        "score_list = []\n",
        "for train_idx, test_idx in kf.split(features, label):\n",
        "  n_iter += 1\n",
        "  print(f'--------------------{n_iter}번째 KFold-------------------')\n",
        "  print(f'train_idx_len : {len(train_idx)} / test_idx_len : {len(test_idx)}')\n",
        "\n",
        "  label_train = label.iloc[train_idx]\n",
        "  label_test = label.iloc[test_idx]\n",
        "\n",
        "  X_train, X_test = features.iloc[train_idx, :], features.iloc[test_idx, :]\n",
        "  y_train, y_test = label.iloc[train_idx,:], label.iloc[test_idx,:]\n",
        "\n",
        "  model.fit(X_train, y_train)\n",
        "  preds = model.predict(X_test)\n",
        "  score = accuracy_score(y_test, preds)\n",
        "\n",
        "  print(f'{n_iter}번째 단일 accuracy_score:{score}')\n",
        "  score_list.append(score)\n",
        "\n",
        "\n",
        "print('======================================================')\n",
        "print(f'최종 평균 accuracy_socre : {sum(score_list)/len(score_list)}')"
      ],
      "metadata": {
        "colab": {
          "base_uri": "https://localhost:8080/"
        },
        "id": "McyIcv_g6Qw6",
        "outputId": "48e24bca-3b35-4f10-c0bc-ea7b148d8888"
      },
      "execution_count": 80,
      "outputs": [
        {
          "output_type": "stream",
          "name": "stdout",
          "text": [
            "--------------------1번째 KFold-------------------\n",
            "train_idx_len : 142 / test_idx_len : 36\n",
            "1번째 단일 accuracy_score:0.9166666666666666\n",
            "--------------------2번째 KFold-------------------\n",
            "train_idx_len : 142 / test_idx_len : 36\n",
            "2번째 단일 accuracy_score:0.9722222222222222\n",
            "--------------------3번째 KFold-------------------\n",
            "train_idx_len : 142 / test_idx_len : 36\n",
            "3번째 단일 accuracy_score:0.9444444444444444\n",
            "--------------------4번째 KFold-------------------\n",
            "train_idx_len : 143 / test_idx_len : 35\n",
            "4번째 단일 accuracy_score:0.9714285714285714\n",
            "--------------------5번째 KFold-------------------\n",
            "train_idx_len : 143 / test_idx_len : 35\n",
            "5번째 단일 accuracy_score:0.8571428571428571\n",
            "======================================================\n",
            "최종 평균 accuracy_socre : 0.9323809523809523\n"
          ]
        }
      ]
    },
    {
      "cell_type": "markdown",
      "source": [
        "## StratifiedKFold"
      ],
      "metadata": {
        "id": "SY9QZ4ItJty8"
      }
    },
    {
      "cell_type": "code",
      "source": [
        "from xgboost import XGBClassifier\n",
        "from sklearn.model_selection import StratifiedKFold\n",
        "from sklearn.metrics import accuracy_score\n",
        "\n",
        "import warnings\n",
        "warnings.filterwarnings(action = 'ignore')\n",
        "\n",
        "model = XGBClassifier()\n",
        "\n",
        "\n",
        "SPLITS = 5\n",
        "skf = StratifiedKFold(n_splits = SPLITS)\n",
        "n_iter = 0\n",
        "\n",
        "features = data.iloc[:,:-1]\n",
        "label = pd.DataFrame(data['label'])\n",
        "\n",
        "score_list = []\n",
        "for train_idx, test_idx in skf.split(features, label):\n",
        "  n_iter += 1\n",
        "  print(f'--------------------{n_iter}번째 KFold-------------------')\n",
        "  print(f'train_idx_len : {len(train_idx)} / test_idx_len : {len(test_idx)}')\n",
        "\n",
        "  label_train = label.iloc[train_idx]\n",
        "  label_test = label.iloc[test_idx]\n",
        "\n",
        "  X_train, X_test = features.iloc[train_idx, :], features.iloc[test_idx, :]\n",
        "  y_train, y_test = label.iloc[train_idx,:], label.iloc[test_idx,:]\n",
        "\n",
        "  model.fit(X_train, y_train)\n",
        "  preds = model.predict(X_test)\n",
        "  score = accuracy_score(y_test, preds)\n",
        "\n",
        "  print(f'{n_iter}번째 단일 accuracy_score:{score}')\n",
        "  score_list.append(score)\n",
        "\n",
        "\n",
        "print('======================================================')\n",
        "print(f'최종 평균 accuracy_socre : {sum(score_list)/len(score_list)}')"
      ],
      "metadata": {
        "colab": {
          "base_uri": "https://localhost:8080/"
        },
        "id": "VUOfcsL-Ctge",
        "outputId": "8e23ee34-44a8-45ba-9d83-4edd22f18888"
      },
      "execution_count": 79,
      "outputs": [
        {
          "output_type": "stream",
          "name": "stdout",
          "text": [
            "--------------------1번째 KFold-------------------\n",
            "train_idx_len : 142 / test_idx_len : 36\n",
            "1번째 단일 accuracy_score:0.9722222222222222\n",
            "--------------------2번째 KFold-------------------\n",
            "train_idx_len : 142 / test_idx_len : 36\n",
            "2번째 단일 accuracy_score:0.9166666666666666\n",
            "--------------------3번째 KFold-------------------\n",
            "train_idx_len : 142 / test_idx_len : 36\n",
            "3번째 단일 accuracy_score:0.9444444444444444\n",
            "--------------------4번째 KFold-------------------\n",
            "train_idx_len : 143 / test_idx_len : 35\n",
            "4번째 단일 accuracy_score:0.9714285714285714\n",
            "--------------------5번째 KFold-------------------\n",
            "train_idx_len : 143 / test_idx_len : 35\n",
            "5번째 단일 accuracy_score:1.0\n",
            "======================================================\n",
            "최종 평균 accuracy_socre : 0.9609523809523809\n"
          ]
        }
      ]
    },
    {
      "cell_type": "markdown",
      "source": [
        "## Cross_val_score"
      ],
      "metadata": {
        "id": "3V8YBwDpJxy5"
      }
    },
    {
      "cell_type": "code",
      "source": [
        "from xgboost import XGBClassifier\n",
        "from sklearn.datasets import load_wine\n",
        "from sklearn.model_selection import cross_val_score\n",
        "import numpy as np\n",
        "import pandas as pd\n",
        "\n",
        "# 데이터 불러오기\n",
        "np_data = load_wine()\n",
        "wine_data = np_data.data\n",
        "wine_label = np_data.target\n",
        "\n",
        "data = pd.DataFrame(data = wine_data, columns = np_data.feature_names,)\n",
        "data['label'] = np_data.target\n",
        "\n",
        "features = data.iloc[:,:-1]\n",
        "label = pd.DataFrame(data['label'])\n",
        "\n",
        "# 모델 선언\n",
        "model = XGBClassifier()\n",
        "\n",
        "score = cross_val_score(model, features, label, scoring = 'accuracy', cv=10)\n",
        "print(f\"단일 accuracy : {score}\")\n",
        "print(f\"5번의 fold 후 평균 accuracy: {np.mean(score)}\")\n",
        "print(score)"
      ],
      "metadata": {
        "colab": {
          "base_uri": "https://localhost:8080/"
        },
        "id": "dCvumMndJkUB",
        "outputId": "06b19699-f01d-4b06-e22f-74c5ba4ad91f"
      },
      "execution_count": 91,
      "outputs": [
        {
          "output_type": "stream",
          "name": "stdout",
          "text": [
            "단일 accuracy : [0.94444444 1.         0.94444444 0.94444444 0.88888889 1.\n",
            " 1.         0.94444444 1.         1.        ]\n",
            "5번의 fold 후 평균 accuracy: 0.9666666666666666\n",
            "[0.94444444 1.         0.94444444 0.94444444 0.88888889 1.\n",
            " 1.         0.94444444 1.         1.        ]\n"
          ]
        }
      ]
    },
    {
      "cell_type": "code",
      "source": [
        ""
      ],
      "metadata": {
        "id": "TkrdphBqLSu8"
      },
      "execution_count": null,
      "outputs": []
    }
  ]
}