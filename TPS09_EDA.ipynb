{
  "nbformat": 4,
  "nbformat_minor": 0,
  "metadata": {
    "colab": {
      "name": "TPS09_EDA.ipynb",
      "provenance": [],
      "collapsed_sections": [],
      "authorship_tag": "ABX9TyNCWWvnAm5VNy/ytLJT/RIH",
      "include_colab_link": true
    },
    "kernelspec": {
      "name": "python3",
      "display_name": "Python 3"
    },
    "language_info": {
      "name": "python"
    }
  },
  "cells": [
    {
      "cell_type": "markdown",
      "metadata": {
        "id": "view-in-github",
        "colab_type": "text"
      },
      "source": [
        "<a href=\"https://colab.research.google.com/github/Jee-9/Study/blob/main/TPS09_EDA.ipynb\" target=\"_parent\"><img src=\"https://colab.research.google.com/assets/colab-badge.svg\" alt=\"Open In Colab\"/></a>"
      ]
    },
    {
      "cell_type": "code",
      "metadata": {
        "id": "U7fnQHa0yKh5"
      },
      "source": [
        "import numpy as np\n",
        "import pandas as pd\n",
        "import os\n",
        "import matplotlib.pyplot as plt\n",
        "import warnings\n",
        "warnings.filterwarnings(action = 'ignore')\n",
        "import copy"
      ],
      "execution_count": 3,
      "outputs": []
    },
    {
      "cell_type": "code",
      "metadata": {
        "colab": {
          "base_uri": "https://localhost:8080/"
        },
        "id": "cKNurSGizh-N",
        "outputId": "edb174b6-277f-4661-ba7d-6824663005e7"
      },
      "source": [
        "from google.colab import drive\n",
        "drive.mount('/content/drive')"
      ],
      "execution_count": 4,
      "outputs": [
        {
          "output_type": "stream",
          "name": "stdout",
          "text": [
            "Drive already mounted at /content/drive; to attempt to forcibly remount, call drive.mount(\"/content/drive\", force_remount=True).\n"
          ]
        }
      ]
    },
    {
      "cell_type": "code",
      "metadata": {
        "id": "QiStsD24zlKu"
      },
      "source": [
        "train = pd.read_csv('/content/drive/MyDrive/DATA/Kaggle_TPS09/train.csv')\n",
        "test = pd.read_csv('/content/drive/MyDrive/DATA/Kaggle_TPS09/test.csv')\n",
        "solution = pd.read_csv('/content/drive/MyDrive/DATA/Kaggle_TPS09/sample_solution.csv')"
      ],
      "execution_count": 5,
      "outputs": []
    },
    {
      "cell_type": "code",
      "metadata": {
        "id": "DlQJtjQpz-e3"
      },
      "source": [
        "target = train['claim']\n",
        "train_df = train.copy()\n",
        "test_df = test.copy()"
      ],
      "execution_count": 6,
      "outputs": []
    },
    {
      "cell_type": "code",
      "metadata": {
        "id": "abeGqUFA0b0_"
      },
      "source": [
        "train_df.drop(columns = ['id', 'claim'], inplace=True)\n",
        "test_df.drop(columns = 'id', inplace=True)"
      ],
      "execution_count": 7,
      "outputs": []
    },
    {
      "cell_type": "code",
      "metadata": {
        "colab": {
          "base_uri": "https://localhost:8080/"
        },
        "id": "jaFF0u3U0dGQ",
        "outputId": "5c1702c1-1806-4c4b-b536-18135958b876"
      },
      "source": [
        "print(train_df.isnull().sum().sum())\n",
        "print(test_df.isnull().sum().sum())"
      ],
      "execution_count": 8,
      "outputs": [
        {
          "output_type": "stream",
          "name": "stdout",
          "text": [
            "1820782\n",
            "936218\n"
          ]
        }
      ]
    },
    {
      "cell_type": "markdown",
      "metadata": {
        "id": "fb755_O81GZN"
      },
      "source": [
        "# Featrue Engineering"
      ]
    },
    {
      "cell_type": "code",
      "metadata": {
        "id": "jnMH-ho_0oe6"
      },
      "source": [
        "def feature_engineering_fn(data):\n",
        "  data['null_cnt'] = data.isna().sum(axis=1)\n",
        "  data['min'] = data.min(axis=1)\n",
        "  data['max'] = data.max(axis=1)\n",
        "  data['mean'] = data.mean(axis=1)\n",
        "  data['std'] = data.std(axis=1)\n",
        "  return data\n",
        "\n",
        "train_df = feature_engineering_fn(train_df)\n",
        "test_df = feature_engineering_fn(test_df)"
      ],
      "execution_count": 9,
      "outputs": []
    },
    {
      "cell_type": "code",
      "metadata": {
        "colab": {
          "base_uri": "https://localhost:8080/"
        },
        "id": "85fKxIII14i6",
        "outputId": "2f3196cf-3c38-4b7e-b8e1-6b4bf2d1fa33"
      },
      "source": [
        "train_df.columns"
      ],
      "execution_count": 10,
      "outputs": [
        {
          "output_type": "execute_result",
          "data": {
            "text/plain": [
              "Index(['f1', 'f2', 'f3', 'f4', 'f5', 'f6', 'f7', 'f8', 'f9', 'f10',\n",
              "       ...\n",
              "       'f114', 'f115', 'f116', 'f117', 'f118', 'null_cnt', 'min', 'max',\n",
              "       'mean', 'std'],\n",
              "      dtype='object', length=123)"
            ]
          },
          "metadata": {},
          "execution_count": 10
        }
      ]
    },
    {
      "cell_type": "markdown",
      "metadata": {
        "id": "YODkolK12F2h"
      },
      "source": [
        "# NULL"
      ]
    },
    {
      "cell_type": "code",
      "metadata": {
        "colab": {
          "base_uri": "https://localhost:8080/"
        },
        "id": "hBNPkfhO17JY",
        "outputId": "75ac9db0-d2c5-4dd4-c870-713e35e242ae"
      },
      "source": [
        "from scipy.stats import skew\n",
        "\n",
        "train_df.skew()"
      ],
      "execution_count": 12,
      "outputs": [
        {
          "output_type": "execute_result",
          "data": {
            "text/plain": [
              "f1          -0.123062\n",
              "f2          -1.173157\n",
              "f3           2.223841\n",
              "f4           1.533986\n",
              "f5          -0.826534\n",
              "              ...    \n",
              "null_cnt     0.953392\n",
              "min        -10.974107\n",
              "max          1.698761\n",
              "mean         1.615724\n",
              "std          1.664824\n",
              "Length: 123, dtype: float64"
            ]
          },
          "metadata": {},
          "execution_count": 12
        }
      ]
    },
    {
      "cell_type": "code",
      "metadata": {
        "colab": {
          "base_uri": "https://localhost:8080/"
        },
        "id": "UrN04ag22Umh",
        "outputId": "07650449-5932-4530-95fa-9f2d05719eb2"
      },
      "source": [
        "train_df.skew().index"
      ],
      "execution_count": 14,
      "outputs": [
        {
          "output_type": "execute_result",
          "data": {
            "text/plain": [
              "Index(['f1', 'f2', 'f3', 'f4', 'f5', 'f6', 'f7', 'f8', 'f9', 'f10',\n",
              "       ...\n",
              "       'f114', 'f115', 'f116', 'f117', 'f118', 'null_cnt', 'min', 'max',\n",
              "       'mean', 'std'],\n",
              "      dtype='object', length=123)"
            ]
          },
          "metadata": {},
          "execution_count": 14
        }
      ]
    },
    {
      "cell_type": "code",
      "metadata": {
        "colab": {
          "base_uri": "https://localhost:8080/"
        },
        "id": "uv9MGPhT29_r",
        "outputId": "66435224-af4d-4aa5-97e8-1934b8d4546d"
      },
      "source": [
        "abs(train_df.skew().values) > 1"
      ],
      "execution_count": 28,
      "outputs": [
        {
          "output_type": "execute_result",
          "data": {
            "text/plain": [
              "array([False,  True,  True,  True, False, False, False,  True,  True,\n",
              "        True, False, False,  True,  True, False,  True, False,  True,\n",
              "       False,  True,  True, False,  True, False, False,  True,  True,\n",
              "       False, False,  True, False,  True,  True, False,  True,  True,\n",
              "       False,  True,  True, False,  True, False, False,  True,  True,\n",
              "        True, False, False, False, False,  True,  True,  True, False,\n",
              "       False, False, False,  True,  True, False, False,  True,  True,\n",
              "        True, False,  True, False,  True,  True, False,  True, False,\n",
              "        True,  True, False, False,  True,  True, False, False, False,\n",
              "        True,  True,  True, False, False,  True, False,  True, False,\n",
              "        True,  True, False,  True,  True,  True, False,  True,  True,\n",
              "       False,  True,  True,  True,  True, False,  True,  True, False,\n",
              "       False,  True,  True,  True, False,  True,  True,  True, False,\n",
              "        True, False,  True,  True,  True,  True])"
            ]
          },
          "metadata": {},
          "execution_count": 28
        }
      ]
    },
    {
      "cell_type": "code",
      "metadata": {
        "colab": {
          "base_uri": "https://localhost:8080/"
        },
        "id": "ZtO8B5884IWT",
        "outputId": "c581c122-ada1-425b-e0d9-ab4598341d62"
      },
      "source": [
        "train_df.skew()"
      ],
      "execution_count": 31,
      "outputs": [
        {
          "output_type": "execute_result",
          "data": {
            "text/plain": [
              "f1          -0.123062\n",
              "f2          -1.173157\n",
              "f3           2.223841\n",
              "f4           1.533986\n",
              "f5          -0.826534\n",
              "              ...    \n",
              "null_cnt     0.953392\n",
              "min        -10.974107\n",
              "max          1.698761\n",
              "mean         1.615724\n",
              "std          1.664824\n",
              "Length: 123, dtype: float64"
            ]
          },
          "metadata": {},
          "execution_count": 31
        }
      ]
    },
    {
      "cell_type": "code",
      "metadata": {
        "colab": {
          "base_uri": "https://localhost:8080/",
          "height": 190
        },
        "id": "Bufp_z2N3Iu-",
        "outputId": "40311cfa-bfec-4209-d572-a25de9eebbed"
      },
      "source": [
        "for i,j in train_df.skew(): # 이거 하나씩 안되나봄 ㅎ\n",
        "  print(i)"
      ],
      "execution_count": 32,
      "outputs": [
        {
          "output_type": "error",
          "ename": "TypeError",
          "evalue": "ignored",
          "traceback": [
            "\u001b[0;31m---------------------------------------------------------------------------\u001b[0m",
            "\u001b[0;31mTypeError\u001b[0m                                 Traceback (most recent call last)",
            "\u001b[0;32m<ipython-input-32-9a92c1121573>\u001b[0m in \u001b[0;36m<module>\u001b[0;34m()\u001b[0m\n\u001b[0;32m----> 1\u001b[0;31m \u001b[0;32mfor\u001b[0m \u001b[0mi\u001b[0m\u001b[0;34m,\u001b[0m\u001b[0mj\u001b[0m \u001b[0;32min\u001b[0m \u001b[0mtrain_df\u001b[0m\u001b[0;34m.\u001b[0m\u001b[0mskew\u001b[0m\u001b[0;34m(\u001b[0m\u001b[0;34m)\u001b[0m\u001b[0;34m:\u001b[0m\u001b[0;34m\u001b[0m\u001b[0;34m\u001b[0m\u001b[0m\n\u001b[0m\u001b[1;32m      2\u001b[0m   \u001b[0mprint\u001b[0m\u001b[0;34m(\u001b[0m\u001b[0mi\u001b[0m\u001b[0;34m)\u001b[0m\u001b[0;34m\u001b[0m\u001b[0;34m\u001b[0m\u001b[0m\n",
            "\u001b[0;31mTypeError\u001b[0m: cannot unpack non-iterable float object"
          ]
        }
      ]
    },
    {
      "cell_type": "code",
      "metadata": {
        "colab": {
          "base_uri": "https://localhost:8080/"
        },
        "id": "ZB5Tmfk23P8k",
        "outputId": "0ea6dab0-afb5-488c-ec3e-66d846dbcb71"
      },
      "source": [
        "for i in train_df.skew(): # value값만 가지고 오네\n",
        "  print(i)"
      ],
      "execution_count": 33,
      "outputs": [
        {
          "output_type": "stream",
          "name": "stdout",
          "text": [
            "-0.1230621998475249\n",
            "-1.173157343666064\n",
            "2.22384139574301\n",
            "1.5339863949081078\n",
            "-0.8265341823664462\n",
            "-0.03502871568202266\n",
            "0.5675611955374753\n",
            "1.1798805473191512\n",
            "1.259639661338834\n",
            "2.8905152541510497\n",
            "-0.7576509666710753\n",
            "0.9589453673233478\n",
            "-1.2722313159796252\n",
            "1.1742499990190438\n",
            "0.6319128980752079\n",
            "1.4122496696827085\n",
            "0.9707312301916126\n",
            "1.2269915946093302\n",
            "0.6283256598808084\n",
            "1.3701404769198646\n",
            "1.9728533779048516\n",
            "0.04424105113292261\n",
            "-1.165050718108845\n",
            "-0.8270586202843073\n",
            "0.3927569915226168\n",
            "2.1204590322796277\n",
            "1.1544989295098071\n",
            "0.804728390840821\n",
            "0.722910974128533\n",
            "1.2330937950532912\n",
            "-0.7863065310949928\n",
            "2.0287112816267685\n",
            "1.720560105390219\n",
            "0.012849648094126035\n",
            "1.164995951712867\n",
            "1.5279292641815096\n",
            "0.4336461684356281\n",
            "1.5064428908912104\n",
            "1.3193530735243284\n",
            "0.5795187204338644\n",
            "1.4218915646887416\n",
            "0.5934300046378224\n",
            "0.9807941747540071\n",
            "1.3404440578181365\n",
            "1.0605047658731623\n",
            "-1.5407968284469067\n",
            "0.030447240596654702\n",
            "0.9035617731125563\n",
            "0.64365367041319\n",
            "-0.7743537466504548\n",
            "2.0524062329285617\n",
            "1.3022713160866102\n",
            "2.3269716440499977\n",
            "0.2088469950917659\n",
            "-0.8263946289731569\n",
            "0.29241772267772614\n",
            "-0.000720987247788982\n",
            "-1.3316318975002448\n",
            "1.01389696858352\n",
            "-0.6075694912088296\n",
            "0.6768785880461827\n",
            "1.6959423377986307\n",
            "1.329305216165902\n",
            "1.4904942498382927\n",
            "-0.20040703029365833\n",
            "-1.1093294679969232\n",
            "0.735637440125628\n",
            "1.288307285133581\n",
            "1.7869348846000572\n",
            "0.3315725650753356\n",
            "1.3100659452703314\n",
            "0.5929394897849035\n",
            "1.9109324697179115\n",
            "1.8252541989214184\n",
            "0.506771729730368\n",
            "0.9661655854765051\n",
            "1.388509589595555\n",
            "1.2515054919135467\n",
            "0.7374193158841941\n",
            "0.9497112543483731\n",
            "0.7329031714654387\n",
            "1.2406053143128208\n",
            "1.8044329461824957\n",
            "1.3747688457389802\n",
            "0.9676912569320508\n",
            "0.7678562254821409\n",
            "1.2953353284188098\n",
            "0.4566371603123228\n",
            "1.2686994240201992\n",
            "0.9467572316062867\n",
            "-1.5359750263640422\n",
            "2.4816879183617777\n",
            "0.7258856285934046\n",
            "-1.118428902173278\n",
            "1.08677977526651\n",
            "2.4079843131181144\n",
            "0.008289905497415399\n",
            "1.016357457244858\n",
            "1.520178528774161\n",
            "0.4590637560917862\n",
            "1.2206382992417013\n",
            "1.2453788624029603\n",
            "1.7058968917952968\n",
            "2.534548066321418\n",
            "0.32145241875011554\n",
            "1.301922089535368\n",
            "1.0522208243913187\n",
            "0.9371964906154648\n",
            "0.2894458947904739\n",
            "-1.3034580207345452\n",
            "1.1184458193963334\n",
            "1.9586084717782657\n",
            "0.7858050875256364\n",
            "1.95351998278997\n",
            "1.5641873582695454\n",
            "2.0887037627312264\n",
            "0.696706542167892\n",
            "1.2978328240843202\n",
            "0.9533922501165136\n",
            "-10.974106791189872\n",
            "1.6987614275089395\n",
            "1.6157242579105384\n",
            "1.6648235742944701\n"
          ]
        }
      ]
    },
    {
      "cell_type": "code",
      "metadata": {
        "colab": {
          "base_uri": "https://localhost:8080/"
        },
        "id": "H767UsDA4dpR",
        "outputId": "49b25992-875a-485c-afad-c97220496061"
      },
      "source": [
        "dict(train_df.skew())"
      ],
      "execution_count": 34,
      "outputs": [
        {
          "output_type": "execute_result",
          "data": {
            "text/plain": [
              "{'f1': -0.1230621998475249,\n",
              " 'f10': 2.8905152541510497,\n",
              " 'f100': 0.4590637560917862,\n",
              " 'f101': 1.2206382992417013,\n",
              " 'f102': 1.2453788624029603,\n",
              " 'f103': 1.7058968917952968,\n",
              " 'f104': 2.534548066321418,\n",
              " 'f105': 0.32145241875011554,\n",
              " 'f106': 1.301922089535368,\n",
              " 'f107': 1.0522208243913187,\n",
              " 'f108': 0.9371964906154648,\n",
              " 'f109': 0.2894458947904739,\n",
              " 'f11': -0.7576509666710753,\n",
              " 'f110': -1.3034580207345452,\n",
              " 'f111': 1.1184458193963334,\n",
              " 'f112': 1.9586084717782657,\n",
              " 'f113': 0.7858050875256364,\n",
              " 'f114': 1.95351998278997,\n",
              " 'f115': 1.5641873582695454,\n",
              " 'f116': 2.0887037627312264,\n",
              " 'f117': 0.696706542167892,\n",
              " 'f118': 1.2978328240843202,\n",
              " 'f12': 0.9589453673233478,\n",
              " 'f13': -1.2722313159796252,\n",
              " 'f14': 1.1742499990190438,\n",
              " 'f15': 0.6319128980752079,\n",
              " 'f16': 1.4122496696827085,\n",
              " 'f17': 0.9707312301916126,\n",
              " 'f18': 1.2269915946093302,\n",
              " 'f19': 0.6283256598808084,\n",
              " 'f2': -1.173157343666064,\n",
              " 'f20': 1.3701404769198646,\n",
              " 'f21': 1.9728533779048516,\n",
              " 'f22': 0.04424105113292261,\n",
              " 'f23': -1.165050718108845,\n",
              " 'f24': -0.8270586202843073,\n",
              " 'f25': 0.3927569915226168,\n",
              " 'f26': 2.1204590322796277,\n",
              " 'f27': 1.1544989295098071,\n",
              " 'f28': 0.804728390840821,\n",
              " 'f29': 0.722910974128533,\n",
              " 'f3': 2.22384139574301,\n",
              " 'f30': 1.2330937950532912,\n",
              " 'f31': -0.7863065310949928,\n",
              " 'f32': 2.0287112816267685,\n",
              " 'f33': 1.720560105390219,\n",
              " 'f34': 0.012849648094126035,\n",
              " 'f35': 1.164995951712867,\n",
              " 'f36': 1.5279292641815096,\n",
              " 'f37': 0.4336461684356281,\n",
              " 'f38': 1.5064428908912104,\n",
              " 'f39': 1.3193530735243284,\n",
              " 'f4': 1.5339863949081078,\n",
              " 'f40': 0.5795187204338644,\n",
              " 'f41': 1.4218915646887416,\n",
              " 'f42': 0.5934300046378224,\n",
              " 'f43': 0.9807941747540071,\n",
              " 'f44': 1.3404440578181365,\n",
              " 'f45': 1.0605047658731623,\n",
              " 'f46': -1.5407968284469067,\n",
              " 'f47': 0.030447240596654702,\n",
              " 'f48': 0.9035617731125563,\n",
              " 'f49': 0.64365367041319,\n",
              " 'f5': -0.8265341823664462,\n",
              " 'f50': -0.7743537466504548,\n",
              " 'f51': 2.0524062329285617,\n",
              " 'f52': 1.3022713160866102,\n",
              " 'f53': 2.3269716440499977,\n",
              " 'f54': 0.2088469950917659,\n",
              " 'f55': -0.8263946289731569,\n",
              " 'f56': 0.29241772267772614,\n",
              " 'f57': -0.000720987247788982,\n",
              " 'f58': -1.3316318975002448,\n",
              " 'f59': 1.01389696858352,\n",
              " 'f6': -0.03502871568202266,\n",
              " 'f60': -0.6075694912088296,\n",
              " 'f61': 0.6768785880461827,\n",
              " 'f62': 1.6959423377986307,\n",
              " 'f63': 1.329305216165902,\n",
              " 'f64': 1.4904942498382927,\n",
              " 'f65': -0.20040703029365833,\n",
              " 'f66': -1.1093294679969232,\n",
              " 'f67': 0.735637440125628,\n",
              " 'f68': 1.288307285133581,\n",
              " 'f69': 1.7869348846000572,\n",
              " 'f7': 0.5675611955374753,\n",
              " 'f70': 0.3315725650753356,\n",
              " 'f71': 1.3100659452703314,\n",
              " 'f72': 0.5929394897849035,\n",
              " 'f73': 1.9109324697179115,\n",
              " 'f74': 1.8252541989214184,\n",
              " 'f75': 0.506771729730368,\n",
              " 'f76': 0.9661655854765051,\n",
              " 'f77': 1.388509589595555,\n",
              " 'f78': 1.2515054919135467,\n",
              " 'f79': 0.7374193158841941,\n",
              " 'f8': 1.1798805473191512,\n",
              " 'f80': 0.9497112543483731,\n",
              " 'f81': 0.7329031714654387,\n",
              " 'f82': 1.2406053143128208,\n",
              " 'f83': 1.8044329461824957,\n",
              " 'f84': 1.3747688457389802,\n",
              " 'f85': 0.9676912569320508,\n",
              " 'f86': 0.7678562254821409,\n",
              " 'f87': 1.2953353284188098,\n",
              " 'f88': 0.4566371603123228,\n",
              " 'f89': 1.2686994240201992,\n",
              " 'f9': 1.259639661338834,\n",
              " 'f90': 0.9467572316062867,\n",
              " 'f91': -1.5359750263640422,\n",
              " 'f92': 2.4816879183617777,\n",
              " 'f93': 0.7258856285934046,\n",
              " 'f94': -1.118428902173278,\n",
              " 'f95': 1.08677977526651,\n",
              " 'f96': 2.4079843131181144,\n",
              " 'f97': 0.008289905497415399,\n",
              " 'f98': 1.016357457244858,\n",
              " 'f99': 1.520178528774161,\n",
              " 'max': 1.6987614275089395,\n",
              " 'mean': 1.6157242579105384,\n",
              " 'min': -10.974106791189872,\n",
              " 'null_cnt': 0.9533922501165136,\n",
              " 'std': 1.6648235742944701}"
            ]
          },
          "metadata": {},
          "execution_count": 34
        }
      ]
    },
    {
      "cell_type": "code",
      "metadata": {
        "colab": {
          "base_uri": "https://localhost:8080/"
        },
        "id": "k8B9BJ0O4lJf",
        "outputId": "89630287-78db-4ca9-80cc-dcfbe5b3339d"
      },
      "source": [
        "skewed_feat = train_df.skew()\n",
        "skewed_feat"
      ],
      "execution_count": 38,
      "outputs": [
        {
          "output_type": "execute_result",
          "data": {
            "text/plain": [
              "f1          -0.123062\n",
              "f2          -1.173157\n",
              "f3           2.223841\n",
              "f4           1.533986\n",
              "f5          -0.826534\n",
              "              ...    \n",
              "null_cnt     0.953392\n",
              "min        -10.974107\n",
              "max          1.698761\n",
              "mean         1.615724\n",
              "std          1.664824\n",
              "Length: 123, dtype: float64"
            ]
          },
          "metadata": {},
          "execution_count": 38
        }
      ]
    },
    {
      "cell_type": "code",
      "metadata": {
        "colab": {
          "base_uri": "https://localhost:8080/"
        },
        "id": "a4X5hOZT4ssI",
        "outputId": "51adc82c-d862-40fa-95b9-8e6e088f906e"
      },
      "source": [
        "skewed_feat[abs(skewed_feat.values)>1]"
      ],
      "execution_count": 41,
      "outputs": [
        {
          "output_type": "execute_result",
          "data": {
            "text/plain": [
              "f2      -1.173157\n",
              "f3       2.223841\n",
              "f4       1.533986\n",
              "f8       1.179881\n",
              "f9       1.259640\n",
              "          ...    \n",
              "f118     1.297833\n",
              "min    -10.974107\n",
              "max      1.698761\n",
              "mean     1.615724\n",
              "std      1.664824\n",
              "Length: 71, dtype: float64"
            ]
          },
          "metadata": {},
          "execution_count": 41
        }
      ]
    },
    {
      "cell_type": "code",
      "metadata": {
        "colab": {
          "base_uri": "https://localhost:8080/"
        },
        "id": "V20SFJFa5PGv",
        "outputId": "2a6e070f-4c4c-48c1-daff-99f49a614eac"
      },
      "source": [
        "[skewed_feat[abs(skewed_feat.values)>1].index]"
      ],
      "execution_count": 42,
      "outputs": [
        {
          "output_type": "execute_result",
          "data": {
            "text/plain": [
              "[Index(['f2', 'f3', 'f4', 'f8', 'f9', 'f10', 'f13', 'f14', 'f16', 'f18', 'f20',\n",
              "        'f21', 'f23', 'f26', 'f27', 'f30', 'f32', 'f33', 'f35', 'f36', 'f38',\n",
              "        'f39', 'f41', 'f44', 'f45', 'f46', 'f51', 'f52', 'f53', 'f58', 'f59',\n",
              "        'f62', 'f63', 'f64', 'f66', 'f68', 'f69', 'f71', 'f73', 'f74', 'f77',\n",
              "        'f78', 'f82', 'f83', 'f84', 'f87', 'f89', 'f91', 'f92', 'f94', 'f95',\n",
              "        'f96', 'f98', 'f99', 'f101', 'f102', 'f103', 'f104', 'f106', 'f107',\n",
              "        'f110', 'f111', 'f112', 'f114', 'f115', 'f116', 'f118', 'min', 'max',\n",
              "        'mean', 'std'],\n",
              "       dtype='object')]"
            ]
          },
          "metadata": {},
          "execution_count": 42
        }
      ]
    },
    {
      "cell_type": "code",
      "metadata": {
        "colab": {
          "base_uri": "https://localhost:8080/"
        },
        "id": "t9v6kj1l5dBA",
        "outputId": "9c25ee0a-1d0e-4f67-b952-9ca81dbdc9d1"
      },
      "source": [
        "[*skewed_feat[abs(skewed_feat.values)>1].index] # 아 앞에 저거 없어짐"
      ],
      "execution_count": 43,
      "outputs": [
        {
          "output_type": "execute_result",
          "data": {
            "text/plain": [
              "['f2',\n",
              " 'f3',\n",
              " 'f4',\n",
              " 'f8',\n",
              " 'f9',\n",
              " 'f10',\n",
              " 'f13',\n",
              " 'f14',\n",
              " 'f16',\n",
              " 'f18',\n",
              " 'f20',\n",
              " 'f21',\n",
              " 'f23',\n",
              " 'f26',\n",
              " 'f27',\n",
              " 'f30',\n",
              " 'f32',\n",
              " 'f33',\n",
              " 'f35',\n",
              " 'f36',\n",
              " 'f38',\n",
              " 'f39',\n",
              " 'f41',\n",
              " 'f44',\n",
              " 'f45',\n",
              " 'f46',\n",
              " 'f51',\n",
              " 'f52',\n",
              " 'f53',\n",
              " 'f58',\n",
              " 'f59',\n",
              " 'f62',\n",
              " 'f63',\n",
              " 'f64',\n",
              " 'f66',\n",
              " 'f68',\n",
              " 'f69',\n",
              " 'f71',\n",
              " 'f73',\n",
              " 'f74',\n",
              " 'f77',\n",
              " 'f78',\n",
              " 'f82',\n",
              " 'f83',\n",
              " 'f84',\n",
              " 'f87',\n",
              " 'f89',\n",
              " 'f91',\n",
              " 'f92',\n",
              " 'f94',\n",
              " 'f95',\n",
              " 'f96',\n",
              " 'f98',\n",
              " 'f99',\n",
              " 'f101',\n",
              " 'f102',\n",
              " 'f103',\n",
              " 'f104',\n",
              " 'f106',\n",
              " 'f107',\n",
              " 'f110',\n",
              " 'f111',\n",
              " 'f112',\n",
              " 'f114',\n",
              " 'f115',\n",
              " 'f116',\n",
              " 'f118',\n",
              " 'min',\n",
              " 'max',\n",
              " 'mean',\n",
              " 'std']"
            ]
          },
          "metadata": {},
          "execution_count": 43
        }
      ]
    },
    {
      "cell_type": "code",
      "metadata": {
        "id": "UHC5X8is5f6U"
      },
      "source": [
        "idx=[*skewed_feat[abs(skewed_feat.values)>1].index]\n",
        "\n",
        "for i in idx:\n",
        "  median = train_df[i].median()\n",
        "  train_df[i] = train_df[i].fillna(median)"
      ],
      "execution_count": 45,
      "outputs": []
    },
    {
      "cell_type": "code",
      "metadata": {
        "colab": {
          "base_uri": "https://localhost:8080/"
        },
        "id": "cS7r8PqN6MPa",
        "outputId": "29abc2c3-14b4-4bbd-ff63-de9e797510dd"
      },
      "source": [
        "# not skewed ones\n",
        "non_skewed_feats = [c for c in train_df.columns if c not in idx]\n",
        "non_skewed_feats "
      ],
      "execution_count": 46,
      "outputs": [
        {
          "output_type": "execute_result",
          "data": {
            "text/plain": [
              "['f1',\n",
              " 'f5',\n",
              " 'f6',\n",
              " 'f7',\n",
              " 'f11',\n",
              " 'f12',\n",
              " 'f15',\n",
              " 'f17',\n",
              " 'f19',\n",
              " 'f22',\n",
              " 'f24',\n",
              " 'f25',\n",
              " 'f28',\n",
              " 'f29',\n",
              " 'f31',\n",
              " 'f34',\n",
              " 'f37',\n",
              " 'f40',\n",
              " 'f42',\n",
              " 'f43',\n",
              " 'f47',\n",
              " 'f48',\n",
              " 'f49',\n",
              " 'f50',\n",
              " 'f54',\n",
              " 'f55',\n",
              " 'f56',\n",
              " 'f57',\n",
              " 'f60',\n",
              " 'f61',\n",
              " 'f65',\n",
              " 'f67',\n",
              " 'f70',\n",
              " 'f72',\n",
              " 'f75',\n",
              " 'f76',\n",
              " 'f79',\n",
              " 'f80',\n",
              " 'f81',\n",
              " 'f85',\n",
              " 'f86',\n",
              " 'f88',\n",
              " 'f90',\n",
              " 'f93',\n",
              " 'f97',\n",
              " 'f100',\n",
              " 'f105',\n",
              " 'f108',\n",
              " 'f109',\n",
              " 'f113',\n",
              " 'f117',\n",
              " 'null_cnt']"
            ]
          },
          "metadata": {},
          "execution_count": 46
        }
      ]
    },
    {
      "cell_type": "code",
      "metadata": {
        "colab": {
          "base_uri": "https://localhost:8080/"
        },
        "id": "lcv5btQZ6kH5",
        "outputId": "bc4174b5-fe81-4528-e0e6-9d6c2f0d6800"
      },
      "source": [
        "train_df.isnull().sum().sum()"
      ],
      "execution_count": 47,
      "outputs": [
        {
          "output_type": "execute_result",
          "data": {
            "text/plain": [
              "787060"
            ]
          },
          "metadata": {},
          "execution_count": 47
        }
      ]
    },
    {
      "cell_type": "code",
      "metadata": {
        "id": "47egIatS6rB0"
      },
      "source": [
        "for i in non_skewed_feats:\n",
        "  mean = train_df[i].mean()\n",
        "  train_df[i] = train_df[i].fillna(mean)"
      ],
      "execution_count": 48,
      "outputs": []
    },
    {
      "cell_type": "code",
      "metadata": {
        "colab": {
          "base_uri": "https://localhost:8080/"
        },
        "id": "vCOTAKh47EdQ",
        "outputId": "aa162508-e567-4e9d-d5d7-4e8f3786280d"
      },
      "source": [
        "train_df.isnull().sum().sum()"
      ],
      "execution_count": 49,
      "outputs": [
        {
          "output_type": "execute_result",
          "data": {
            "text/plain": [
              "0"
            ]
          },
          "metadata": {},
          "execution_count": 49
        }
      ]
    },
    {
      "cell_type": "code",
      "metadata": {
        "id": "L7cFENPW7GOQ"
      },
      "source": [
        "# repeat\n",
        "\n",
        "from scipy.stats import skew\n",
        "\n",
        "def skewed_feats(data):\n",
        "  skewed_feat = data.skew()\n",
        "  skewed_feat = [*skewed_feat[abs(skewed_feat.values)>1].index]\n",
        "\n",
        "  non_skewed_feats = [c for c in data.columns if c not in skewed_feat]\n",
        "  for i in skewed_feat:\n",
        "    median = data[i].median()\n",
        "    data[i] = data[i].fillna(median)\n",
        "\n",
        "  for j in non_skewed_feats:\n",
        "    mean = data[j].mean()\n",
        "    data[j] = data[j].fillna(mean)\n",
        "\n",
        "  return data"
      ],
      "execution_count": 63,
      "outputs": []
    },
    {
      "cell_type": "code",
      "metadata": {
        "colab": {
          "base_uri": "https://localhost:8080/"
        },
        "id": "PkRExEe88Emm",
        "outputId": "491818b3-4dbd-4dae-ceb3-3916fb81971e"
      },
      "source": [
        "test_df = skewed_feats(test_df)\n",
        "test_df.isnull().sum().sum() # OH 왜 안돼 -> 헷갈려서 함수 밑에꺼 i로 씀 ㅎ.ㅎ;"
      ],
      "execution_count": 52,
      "outputs": [
        {
          "output_type": "execute_result",
          "data": {
            "text/plain": [
              "404914"
            ]
          },
          "metadata": {},
          "execution_count": 52
        }
      ]
    },
    {
      "cell_type": "code",
      "metadata": {
        "id": "dCWe6mHF8M9u"
      },
      "source": [
        "skewed_feat = test_df.skew()\n",
        "skewed_feat = [*skewed_feat[abs(skewed_feat.values)>1].index]"
      ],
      "execution_count": 54,
      "outputs": []
    },
    {
      "cell_type": "code",
      "metadata": {
        "colab": {
          "base_uri": "https://localhost:8080/"
        },
        "id": "d8M9Nl7r8S6w",
        "outputId": "ac03d965-734b-447b-f787-db2a12e597b6"
      },
      "source": [
        "skewed_feat"
      ],
      "execution_count": 55,
      "outputs": [
        {
          "output_type": "execute_result",
          "data": {
            "text/plain": [
              "['f2',\n",
              " 'f3',\n",
              " 'f4',\n",
              " 'f8',\n",
              " 'f9',\n",
              " 'f10',\n",
              " 'f13',\n",
              " 'f14',\n",
              " 'f16',\n",
              " 'f18',\n",
              " 'f20',\n",
              " 'f21',\n",
              " 'f23',\n",
              " 'f26',\n",
              " 'f27',\n",
              " 'f30',\n",
              " 'f32',\n",
              " 'f33',\n",
              " 'f35',\n",
              " 'f36',\n",
              " 'f38',\n",
              " 'f39',\n",
              " 'f41',\n",
              " 'f44',\n",
              " 'f45',\n",
              " 'f46',\n",
              " 'f51',\n",
              " 'f52',\n",
              " 'f53',\n",
              " 'f58',\n",
              " 'f59',\n",
              " 'f62',\n",
              " 'f63',\n",
              " 'f64',\n",
              " 'f66',\n",
              " 'f68',\n",
              " 'f69',\n",
              " 'f71',\n",
              " 'f73',\n",
              " 'f74',\n",
              " 'f77',\n",
              " 'f78',\n",
              " 'f82',\n",
              " 'f83',\n",
              " 'f84',\n",
              " 'f87',\n",
              " 'f89',\n",
              " 'f91',\n",
              " 'f92',\n",
              " 'f94',\n",
              " 'f95',\n",
              " 'f96',\n",
              " 'f98',\n",
              " 'f99',\n",
              " 'f101',\n",
              " 'f102',\n",
              " 'f103',\n",
              " 'f104',\n",
              " 'f106',\n",
              " 'f107',\n",
              " 'f110',\n",
              " 'f111',\n",
              " 'f112',\n",
              " 'f114',\n",
              " 'f115',\n",
              " 'f116',\n",
              " 'f118',\n",
              " 'min',\n",
              " 'max',\n",
              " 'mean',\n",
              " 'std']"
            ]
          },
          "metadata": {},
          "execution_count": 55
        }
      ]
    },
    {
      "cell_type": "code",
      "metadata": {
        "colab": {
          "base_uri": "https://localhost:8080/"
        },
        "id": "7ofjl87_8t6z",
        "outputId": "644fb5f7-3d6b-4909-f60f-305bfd318ef5"
      },
      "source": [
        "non_skewed_feats = [c for c in test_df.columns if c not in skewed_feat]\n",
        "non_skewed_feats"
      ],
      "execution_count": 56,
      "outputs": [
        {
          "output_type": "execute_result",
          "data": {
            "text/plain": [
              "['f1',\n",
              " 'f5',\n",
              " 'f6',\n",
              " 'f7',\n",
              " 'f11',\n",
              " 'f12',\n",
              " 'f15',\n",
              " 'f17',\n",
              " 'f19',\n",
              " 'f22',\n",
              " 'f24',\n",
              " 'f25',\n",
              " 'f28',\n",
              " 'f29',\n",
              " 'f31',\n",
              " 'f34',\n",
              " 'f37',\n",
              " 'f40',\n",
              " 'f42',\n",
              " 'f43',\n",
              " 'f47',\n",
              " 'f48',\n",
              " 'f49',\n",
              " 'f50',\n",
              " 'f54',\n",
              " 'f55',\n",
              " 'f56',\n",
              " 'f57',\n",
              " 'f60',\n",
              " 'f61',\n",
              " 'f65',\n",
              " 'f67',\n",
              " 'f70',\n",
              " 'f72',\n",
              " 'f75',\n",
              " 'f76',\n",
              " 'f79',\n",
              " 'f80',\n",
              " 'f81',\n",
              " 'f85',\n",
              " 'f86',\n",
              " 'f88',\n",
              " 'f90',\n",
              " 'f93',\n",
              " 'f97',\n",
              " 'f100',\n",
              " 'f105',\n",
              " 'f108',\n",
              " 'f109',\n",
              " 'f113',\n",
              " 'f117',\n",
              " 'null_cnt']"
            ]
          },
          "metadata": {},
          "execution_count": 56
        }
      ]
    },
    {
      "cell_type": "code",
      "metadata": {
        "id": "sF2T3nDL84nA"
      },
      "source": [
        "for i in skewed_feat:\n",
        "  median = test_df[i].median()\n",
        "  test_df[i] = test_df[i].fillna(median)"
      ],
      "execution_count": 57,
      "outputs": []
    },
    {
      "cell_type": "code",
      "metadata": {
        "colab": {
          "base_uri": "https://localhost:8080/"
        },
        "id": "AtK0F-Um9FfX",
        "outputId": "1f1617fe-be15-445e-8759-22583750cc9b"
      },
      "source": [
        "test_df.isnull().sum().sum() # 왓더 얘머임"
      ],
      "execution_count": 58,
      "outputs": [
        {
          "output_type": "execute_result",
          "data": {
            "text/plain": [
              "404914"
            ]
          },
          "metadata": {},
          "execution_count": 58
        }
      ]
    },
    {
      "cell_type": "code",
      "metadata": {
        "colab": {
          "base_uri": "https://localhost:8080/"
        },
        "id": "qw1_rnz49IDB",
        "outputId": "d02182e2-7523-4747-b1bd-c417eae1c6b0"
      },
      "source": [
        "test_df.isnull().sum() # 아 위에껀 된거임"
      ],
      "execution_count": 59,
      "outputs": [
        {
          "output_type": "execute_result",
          "data": {
            "text/plain": [
              "f1          7812\n",
              "f2             0\n",
              "f3             0\n",
              "f4             0\n",
              "f5          7877\n",
              "            ... \n",
              "null_cnt       0\n",
              "min            0\n",
              "max            0\n",
              "mean           0\n",
              "std            0\n",
              "Length: 123, dtype: int64"
            ]
          },
          "metadata": {},
          "execution_count": 59
        }
      ]
    },
    {
      "cell_type": "code",
      "metadata": {
        "id": "hA-uNAHl9L-m"
      },
      "source": [
        "for i in non_skewed_feats:\n",
        "  mean = test_df[i].mean()\n",
        "  test_df[i] = test_df[i].fillna(mean)"
      ],
      "execution_count": 60,
      "outputs": []
    },
    {
      "cell_type": "code",
      "metadata": {
        "colab": {
          "base_uri": "https://localhost:8080/"
        },
        "id": "5HhNlR7x9YTh",
        "outputId": "ff6a070b-8b0d-42f6-901d-da2da6c4642b"
      },
      "source": [
        "test_df.isnull().sum()"
      ],
      "execution_count": 61,
      "outputs": [
        {
          "output_type": "execute_result",
          "data": {
            "text/plain": [
              "f1          0\n",
              "f2          0\n",
              "f3          0\n",
              "f4          0\n",
              "f5          0\n",
              "           ..\n",
              "null_cnt    0\n",
              "min         0\n",
              "max         0\n",
              "mean        0\n",
              "std         0\n",
              "Length: 123, dtype: int64"
            ]
          },
          "metadata": {},
          "execution_count": 61
        }
      ]
    },
    {
      "cell_type": "code",
      "metadata": {
        "colab": {
          "base_uri": "https://localhost:8080/"
        },
        "id": "cJHOwd2M9aW3",
        "outputId": "b4f756ca-71f4-4ffc-b434-b95b3c3c3083"
      },
      "source": [
        "test_df.isnull().sum().sum() # 됐다"
      ],
      "execution_count": 64,
      "outputs": [
        {
          "output_type": "execute_result",
          "data": {
            "text/plain": [
              "0"
            ]
          },
          "metadata": {},
          "execution_count": 64
        }
      ]
    },
    {
      "cell_type": "code",
      "metadata": {
        "id": "iklaQlEw9cnF"
      },
      "source": [
        ""
      ],
      "execution_count": null,
      "outputs": []
    }
  ]
}