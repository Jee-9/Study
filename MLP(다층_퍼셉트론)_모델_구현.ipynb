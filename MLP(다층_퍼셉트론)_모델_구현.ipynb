{
  "nbformat": 4,
  "nbformat_minor": 0,
  "metadata": {
    "colab": {
      "name": "MLP(다층 퍼셉트론) 모델 구현.ipynb",
      "provenance": [],
      "authorship_tag": "ABX9TyO1j4qNtiphw4VsIIJXUH8h",
      "include_colab_link": true
    },
    "kernelspec": {
      "name": "python3",
      "display_name": "Python 3"
    },
    "language_info": {
      "name": "python"
    }
  },
  "cells": [
    {
      "cell_type": "markdown",
      "metadata": {
        "id": "view-in-github",
        "colab_type": "text"
      },
      "source": [
        "<a href=\"https://colab.research.google.com/github/Jee-9/Study/blob/main/MLP(%EB%8B%A4%EC%B8%B5_%ED%8D%BC%EC%85%89%ED%8A%B8%EB%A1%A0)_%EB%AA%A8%EB%8D%B8_%EA%B5%AC%ED%98%84.ipynb\" target=\"_parent\"><img src=\"https://colab.research.google.com/assets/colab-badge.svg\" alt=\"Open In Colab\"/></a>"
      ]
    },
    {
      "cell_type": "code",
      "metadata": {
        "id": "rTu0An_89PWD"
      },
      "source": [
        "from keras.models import Sequential\n",
        "from keras.layers import Dense"
      ],
      "execution_count": 1,
      "outputs": []
    },
    {
      "cell_type": "code",
      "metadata": {
        "id": "iqfS_LWX9e8e"
      },
      "source": [
        "input_size = 32*32*3 \n",
        "# 입력 데이터 크기 :32*32 pixel, RGB형 이미지 데이터\n",
        "\n",
        "num_classes = 10 \n",
        "# 출력 데이터 크기: 카테고리 10개\n",
        "\n",
        "\n",
        "# 모델 설정\n",
        "model = Sequential()\n",
        "model.add(Dense(512, activation = 'relu', input_shape = (input_size, )))\n",
        "# 512개의 유닛을 가진 입력 layer \n",
        "model.add(Dense(num_classes, activation = 'softmax'))\n",
        "# 10가지 카테고리 중 하나로 분류할 것이기 때문에 10개의 유닛을 가진 출력 layer 생성\n",
        "\n",
        "\n",
        "model.compile(\n",
        "    loss = 'categorical_crossentropy',\n",
        "    # 손실함수 지정, 손실함수를 최소화하는 방향으로 가중치(w)와 역치(k)를 수정하게 된다.\n",
        "    optimizer = 'adam',\n",
        "    # 훈련과정을 설정, 아담을 최적화하는 방향으로 학습이 일어난다.\n",
        "    metrics=['accuracy']\n",
        "    # 훈련과정을 모니터링하는 방식을 지정, accuracy를 지정하면 학습 과정에서 정확도를 수집한다.\n",
        ")\n",
        "\n",
        "\n",
        "# 모델 학습\n",
        "hist = model.fit(X_train, y_train,\n",
        "                 batch_size = 32,\n",
        "                 epochs = 50,\n",
        "                 verbose = 1,\n",
        "                 validation_data=(X_test, y_test))\n",
        "\n",
        "# MLP 모델은 데이터를 작은 배치로 나누고 훈련과정에서 순회화는 방식으로 학습을 진행한다.\n",
        "# batch_size 는 한 회에 사용할 데이터의 갯수를 지정한다.\n",
        "# epochs = 1은 전체 입력 데이터를 한번 순회한다는 것을 의미한다.\n",
        "# epoch가 한번 끝날 때마다 검증데이터를 통해 데이터의 손실과 측정 지표를 출력한다.\n",
        "# 이때, 이 검증 데이터로 쓸 데이터를 지정한다."
      ],
      "execution_count": null,
      "outputs": []
    },
    {
      "cell_type": "code",
      "metadata": {
        "id": "AeXKByxu_SKy"
      },
      "source": [
        "# 모델 평가\n",
        "score = model.evaluate(X_test, y_test, verbose = 1)\n",
        "print(\"정답률 : \", socre[1], \"loss = \", scroe[0])\n",
        "\n",
        "# evaluate를 사용하면 최종적인 정답률과 loss를 뱉어준다.\n",
        "# loss는 에측값과 실제값이 차이나는 정도를 나타내는 지표이다.\n",
        "\n",
        "\n",
        "\n",
        "# 시각화\n",
        "# 학습 과정을 hist라는 변수에 담아두었기 때문에 history라는 속성을 사용하여 정확도와 loss 값의 변화를 확인할 수 있다.\n",
        "\n",
        "plt.plot(hist.history['acc'])\n",
        "plt.plot(hist.history['val_acc'])\n",
        "plt.title('Accuracy')\n",
        "plt.legend(['train', 'test'], loc = 'upper left')\n",
        "plt.show()\n",
        "\n",
        "\n",
        "plt.plot(hist.history['acc'])\n",
        "plt.plot(hist.history['val_loss'])\n",
        "plt.title('Loss')\n",
        "plt.legend(['train', 'test'], loc = 'upper left')\n",
        "plt.show()"
      ],
      "execution_count": null,
      "outputs": []
    }
  ]
}